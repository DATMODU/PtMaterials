{
 "cells": [
  {
   "cell_type": "markdown",
   "metadata": {},
   "source": [
    "# Dot Product 구현"
   ]
  },
  {
   "cell_type": "markdown",
   "metadata": {},
   "source": [
    "### Use CPU"
   ]
  },
  {
   "cell_type": "code",
   "execution_count": 1,
   "metadata": {},
   "outputs": [
    {
     "name": "stdout",
     "output_type": "stream",
     "text": [
      "a_mat =\n",
      "[[1 4 0 4 1 4 2 2 0 3]\n",
      " [3 1 0 4 1 3 0 3 4 1]\n",
      " [2 1 1 3 3 0 1 2 3 2]\n",
      " [1 2 2 2 2 0 1 0 4 2]\n",
      " [2 4 1 1 1 0 0 3 2 2]\n",
      " [3 3 3 4 0 4 1 4 3 1]\n",
      " [3 0 3 4 4 0 3 4 2 3]\n",
      " [2 4 4 3 3 0 3 3 2 3]\n",
      " [4 3 2 2 3 4 2 0 0 1]\n",
      " [3 3 2 4 2 3 2 2 2 3]]\n",
      "\n",
      "b_mat =\n",
      "[[3 2 1 0 1 0 4 0 2 4]\n",
      " [3 0 2 2 4 4 1 0 2 3]\n",
      " [2 2 1 1 1 2 1 0 3 0]\n",
      " [2 2 0 2 4 1 3 3 2 1]\n",
      " [1 2 0 2 1 3 3 4 0 3]\n",
      " [1 1 4 1 1 3 3 3 3 2]\n",
      " [3 3 4 4 0 3 1 3 1 2]\n",
      " [4 1 4 1 1 4 0 2 4 1]\n",
      " [0 4 0 1 1 3 4 0 0 3]\n",
      " [2 1 4 1 1 1 3 3 1 3]]\n",
      "\n",
      "ret_mat =\n",
      "[[48 27 53 35 43 52 46 47 43 46]\n",
      " [38 39 33 23 35 45 56 34 38 46]\n",
      " [35 37 25 26 29 40 47 34 26 42]\n",
      " [26 35 19 24 27 37 43 23 19 38]\n",
      " [39 23 31 20 31 42 33 19 31 39]\n",
      " [57 44 52 33 46 63 58 38 59 51]\n",
      " [58 52 46 40 35 56 59 54 45 53]\n",
      " [62 47 50 44 45 66 54 45 48 56]\n",
      " [44 33 40 31 34 46 53 39 39 51]\n",
      " [55 44 51 38 45 58 63 48 48 58]]\n"
     ]
    }
   ],
   "source": [
    "import numpy as np\n",
    "\n",
    "N = 10\n",
    "\n",
    "a_mat = np.random.randint(5, size=[N, N])\n",
    "b_mat = np.random.randint(5, size=[N, N])\n",
    "ret_mat_cpu = np.dot(a_mat, b_mat)\n",
    "\n",
    "print(\"a_mat =\")\n",
    "print(a_mat)\n",
    "print(\"\\nb_mat =\")\n",
    "print(b_mat)\n",
    "print(\"\\nret_mat =\")\n",
    "print(ret_mat_cpu)"
   ]
  },
  {
   "cell_type": "markdown",
   "metadata": {},
   "source": [
    "### Use GPU"
   ]
  },
  {
   "cell_type": "code",
   "execution_count": 2,
   "metadata": {
    "collapsed": true
   },
   "outputs": [],
   "source": [
    "import pycuda.driver as cuda\n",
    "import pycuda.autoinit\n",
    "from pycuda import driver, compiler"
   ]
  },
  {
   "cell_type": "code",
   "execution_count": 3,
   "metadata": {},
   "outputs": [
    {
     "name": "stdout",
     "output_type": "stream",
     "text": [
      "\n",
      "GPU로 계산 =\n",
      "[[48 27 53 35 43 52 46 47 43 46]\n",
      " [38 39 33 23 35 45 56 34 38 46]\n",
      " [35 37 25 26 29 40 47 34 26 42]\n",
      " [26 35 19 24 27 37 43 23 19 38]\n",
      " [39 23 31 20 31 42 33 19 31 39]\n",
      " [57 44 52 33 46 63 58 38 59 51]\n",
      " [58 52 46 40 35 56 59 54 45 53]\n",
      " [62 47 50 44 45 66 54 45 48 56]\n",
      " [44 33 40 31 34 46 53 39 39 51]\n",
      " [55 44 51 38 45 58 63 48 48 58]]\n",
      "\n",
      "CPU로 계산 =\n",
      "[[48 27 53 35 43 52 46 47 43 46]\n",
      " [38 39 33 23 35 45 56 34 38 46]\n",
      " [35 37 25 26 29 40 47 34 26 42]\n",
      " [26 35 19 24 27 37 43 23 19 38]\n",
      " [39 23 31 20 31 42 33 19 31 39]\n",
      " [57 44 52 33 46 63 58 38 59 51]\n",
      " [58 52 46 40 35 56 59 54 45 53]\n",
      " [62 47 50 44 45 66 54 45 48 56]\n",
      " [44 33 40 31 34 46 53 39 39 51]\n",
      " [55 44 51 38 45 58 63 48 48 58]]\n"
     ]
    }
   ],
   "source": [
    "# Kernel code\n",
    "kernel_code = \"\"\"\n",
    "__constant__ int n;\n",
    "\n",
    "__global__ void mul(int* in_arr1, int* in_arr2, int* out_arr)\n",
    "{\n",
    "  int col = threadIdx.x;\n",
    "  int row = threadIdx.y;\n",
    "  \n",
    "  int sum = 0;\n",
    "  \n",
    "  if ( col < n && row < n )\n",
    "  {\n",
    "    for ( int i=0 ; i<n ; i++ )\n",
    "    {\n",
    "      sum += in_arr1[row * n + i] * in_arr2[i * n + col];\n",
    "    }\n",
    "  }\n",
    "  \n",
    "  out_arr[col + row*n] = sum;\n",
    "}\n",
    "\"\"\"\n",
    "\n",
    "# Compile the kernel code\n",
    "mod = compiler.SourceModule(kernel_code)\n",
    "\n",
    "# Get kernel function\n",
    "mul_func = mod.get_function(\"mul\")\n",
    "\n",
    "# 상수 설정\n",
    "host_n = np.array([N], dtype=np.int)\n",
    "device_n = mod.get_global(\"n\")[0]\n",
    "cuda.memcpy_htod(device_n, host_n[0])\n",
    "\n",
    "# Run\n",
    "ret_mat_gpu = np.zeros_like(a_mat)\n",
    "mul_func(cuda.In(a_mat), cuda.In(b_mat), cuda.Out(ret_mat_gpu), block=(N, N, 1), grid=(1, 1))\n",
    "\n",
    "# 출력\n",
    "print(\"\\nGPU로 계산 =\")\n",
    "print(ret_mat_gpu)\n",
    "print(\"\\nCPU로 계산 =\")\n",
    "print(ret_mat_cpu)"
   ]
  },
  {
   "cell_type": "code",
   "execution_count": null,
   "metadata": {
    "collapsed": true
   },
   "outputs": [],
   "source": []
  }
 ],
 "metadata": {
  "kernelspec": {
   "display_name": "Python 3",
   "language": "python",
   "name": "python3"
  },
  "language_info": {
   "codemirror_mode": {
    "name": "ipython",
    "version": 3
   },
   "file_extension": ".py",
   "mimetype": "text/x-python",
   "name": "python",
   "nbconvert_exporter": "python",
   "pygments_lexer": "ipython3",
   "version": "3.6.1"
  }
 },
 "nbformat": 4,
 "nbformat_minor": 2
}
