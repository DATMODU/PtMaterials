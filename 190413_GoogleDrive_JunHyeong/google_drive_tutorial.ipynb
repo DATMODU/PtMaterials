{
 "cells": [
  {
   "cell_type": "markdown",
   "metadata": {},
   "source": [
    "# Google Drive Tutorial\n",
    "***\n",
    "\n",
    "코드를 실행해보기 위해선 다음의 파이썬 라이브러리들이 설치되어있어야 한다.  \n",
    "- google-api-python-client\n",
    "- google-auth-oauthlib\n",
    "\n",
    "Anaconda Prompt에서 다음과 같은 명령어로 설치한다.\n",
    "\n",
    "```sh\n",
    "pip install google-api-python-client\n",
    "pip install google-auth-oauthlib\n",
    "```"
   ]
  },
  {
   "cell_type": "markdown",
   "metadata": {},
   "source": [
    "# 1. Google Drive API 사용설정\n",
    "***\n",
    "\n",
    "\n",
    "## 1.1. 프로젝트 선택 또는 새 프로젝트 생성\n",
    "***\n",
    "\n",
    "[Google API Console](https://console.developers.google.com/)에서 Google Drive API를 사용할 프로젝트를 선택한다.  \n",
    "프로젝트가 없다면 다음과 같이 새 프로젝트를 만든다.\n",
    "\n",
    "![새 프로젝트 생성](https://raw.githubusercontent.com/3x3x3/MediaFiles/master/google_drive/mk_project.gif)\n",
    "\n",
    "\n",
    "## 1.2. Google Drive API 사용설정\n",
    "***\n",
    "\n",
    "![API 사용설정](https://raw.githubusercontent.com/3x3x3/MediaFiles/master/google_drive/enable_gd_api.gif)\n",
    "\n",
    "\n",
    "## 1.3. OAuth 동의 화면 설정\n",
    "***\n",
    "\n",
    "![OAuth 동의 화면 설정](https://raw.githubusercontent.com/3x3x3/MediaFiles/master/google_drive/oauth_consent_screen.gif)\n",
    "\n",
    "\n",
    "## 1.4. 사용자 인증 정보 생성\n",
    "***\n",
    "\n",
    "![사용자 인증 정보 생성](https://raw.githubusercontent.com/3x3x3/MediaFiles/master/google_drive/mk_oauth_key.gif)\n",
    "\n",
    "\n",
    "## 1.5. 공통적으로 사용하는 코드\n",
    "***\n",
    "\n",
    "build()로 리턴되는 drive_service는 <https://developers.google.com/resources/api-libraries/documentation/drive/v3/python/latest>를 참조한다."
   ]
  },
  {
   "cell_type": "code",
   "execution_count": 1,
   "metadata": {
    "scrolled": false
   },
   "outputs": [],
   "source": [
    "# -*- coding: utf-8 -*-\n",
    "import io\n",
    "import pprint\n",
    "import pickle\n",
    "import os.path\n",
    "import pandas as pd\n",
    "from googleapiclient.discovery import build\n",
    "from google_auth_oauthlib.flow import InstalledAppFlow\n",
    "from google.auth.transport.requests import Request\n",
    "\n",
    "# 다운 받은 키 파일명을 credentials.json로 변경하거나 아래 코드를 변경\n",
    "CLIENT_SECRET_FILE_NAME = \"client_secret.json\"\n",
    "TOKEN_FILE_NAME = \"token.pickle\"\n",
    "\n",
    "# SCOPES에 들어가는 값들은 다음 URL을 참조: https://developers.google.com/drive/api/v3/about-auth\n",
    "SCOPES = [\n",
    "    \"https://www.googleapis.com/auth/drive\"\n",
    "]\n",
    "\n",
    "creds = None\n",
    "# The file token.pickle stores the user's access and refresh tokens, and is\n",
    "# created automatically when the authorization flow completes for the first\n",
    "# time.\n",
    "if os.path.exists(TOKEN_FILE_NAME):\n",
    "    with open(TOKEN_FILE_NAME, \"rb\") as token:\n",
    "        creds = pickle.load(token)\n",
    "# If there are no (valid) credentials available, let the user log in.\n",
    "if not creds or not creds.valid:\n",
    "    if creds and creds.expired and creds.refresh_token:\n",
    "        creds.refresh(Request())\n",
    "    else:\n",
    "        flow = InstalledAppFlow.from_client_secrets_file(\n",
    "            CLIENT_SECRET_FILE_NAME, SCOPES)\n",
    "        creds = flow.run_local_server()\n",
    "    # Save the credentials for the next run\n",
    "    with open(TOKEN_FILE_NAME, \"wb\") as token:\n",
    "        pickle.dump(creds, token)\n",
    "\n",
    "drive_service = build(\"drive\", \"v3\", credentials=creds)"
   ]
  },
  {
   "cell_type": "markdown",
   "metadata": {},
   "source": [
    "# 2. 기본적인 사용\n",
    "***\n",
    "\n",
    "\n",
    "## 2.1. 드라이브 정보\n",
    "***\n",
    "\n",
    "fields에 들어가는 인자들은 <https://developers.google.com/drive/api/v3/reference/about>를 참조한다."
   ]
  },
  {
   "cell_type": "code",
   "execution_count": 2,
   "metadata": {},
   "outputs": [
    {
     "name": "stdout",
     "output_type": "stream",
     "text": [
      "{'kind': 'drive#about',\n",
      " 'storageQuota': {'usage': '87125928048',\n",
      "                  'usageInDrive': '87125928048',\n",
      "                  'usageInDriveTrash': '5503'}}\n"
     ]
    }
   ],
   "source": [
    "response = drive_service.about().get(fields=\"kind, storageQuota\").execute()\n",
    "\n",
    "pprint.pprint(response)"
   ]
  },
  {
   "cell_type": "markdown",
   "metadata": {},
   "source": [
    "## 2.2. 읽기\n",
    "***\n",
    "\n",
    "\n",
    "### 2.2.1. 특정 파일/폴더의 ID를 알아내기\n",
    "***\n",
    "\n",
    "![파일/폴더의 ID 알아내기](https://raw.githubusercontent.com/3x3x3/MediaFiles/master/google_drive/get_file_id.gif)\n",
    "\n",
    "\n",
    "\n",
    "### 2.2.2. 파일/폴더 검색\n",
    "***\n",
    "\n",
    "query를 이용하여 원하는 파일 또는 폴더를 검색할 수 있다.  \n",
    "참조: <https://developers.google.com/drive/api/v3/search-parameters>  \n",
    "다음은 특정 폴더에 있는 test1.txt라는 파일을 찾는 예제이다."
   ]
  },
  {
   "cell_type": "code",
   "execution_count": 3,
   "metadata": {},
   "outputs": [
    {
     "name": "stdout",
     "output_type": "stream",
     "text": [
      "\n",
      "##### Metadata #####\n",
      "\n",
      "[{'id': '1Gh1Xdgp9FLFfsf_20Ou_V_mULhz9ZXk5', 'name': 'test1.txt', 'mimeType': 'text/plain', 'size': '3'}]\n"
     ]
    }
   ],
   "source": [
    "FOLDER_ID = \"1kBvzgj9MIuDLNqN0cVZhR-wDDfvbKXH4\"\n",
    "\n",
    "response = drive_service.files().list(\n",
    "    q=\"'{0}' in parents and name = '{1}'\".format(FOLDER_ID, \"test1.txt\"),\n",
    "    spaces=\"drive\",\n",
    "    fields=\"files(id, name, mimeType, size)\"\n",
    ").execute()\n",
    "\n",
    "files = response.get(\"files\", [])\n",
    "\n",
    "print(\"\\n##### Metadata #####\\n\")\n",
    "print(files)"
   ]
  },
  {
   "cell_type": "markdown",
   "metadata": {},
   "source": [
    "### 2.2.3. Paging\n",
    "***\n",
    "폴더내의 목록을 불러올 때 기본적으로 100개까지 불러오게 되며, pageSize에 값을 줘서 한 번에 조회되는 개수를 조절할 수 있다. (1 ~ 1000개)  \n",
    "조회하려는 목록이 한 번에 조회되는 목록보다 많을 때는 Paging 처리를 해야 한다."
   ]
  },
  {
   "cell_type": "code",
   "execution_count": 4,
   "metadata": {},
   "outputs": [
    {
     "name": "stdout",
     "output_type": "stream",
     "text": [
      "\n",
      "##### List of Metadata #####\n",
      "\n",
      "[{'id': '1hlfZu-LmjCYKduwE7ft8keoEQi_6_t4t',\n",
      "  'mimeType': 'text/plain',\n",
      "  'name': 'sub_file_1.txt',\n",
      "  'parents': ['17lrAKEA73zf_EAuimoMmyebVAg-8p2GZ']},\n",
      " {'id': '1gmtqZvJsNku3pbw2XIDFxP2arc_vMaH7',\n",
      "  'mimeType': 'text/plain',\n",
      "  'name': 'sub_file_2.txt',\n",
      "  'parents': ['17lrAKEA73zf_EAuimoMmyebVAg-8p2GZ']},\n",
      " {'id': '1Ei3-514r28E1HYAMYxrI7aE9l2adT1hX',\n",
      "  'mimeType': 'text/plain',\n",
      "  'name': 'sub_file_3.txt',\n",
      "  'parents': ['17lrAKEA73zf_EAuimoMmyebVAg-8p2GZ']}]\n",
      "\n",
      "##### nextPageToken #####\n",
      "\n",
      "~!!~AI9FV7T59la2smTVqJH4x-lqS0AOLqo5pY4tXG1PeRuKQMceOMFKU4LIxZfkBLIcyfxYMlxFjDReagWwhI_VYeP45ecbwGYk2IK7r7hPl92FXUDDMORy69ThlelKNRDIkB4vP01xcRPT2bZivEjptPvjHiESTHXfzkh5z4BaW3jzP1gafAdvA-hQVOjbuDlw433ZcY4QugsNR3AWvcfuhMX7AOmYjDKacZGXljQHdkj0_jeeSoLwph7JVKA1cLajBX43FYoUqQwXBZRJYdYi5I2hRDY8C2jiFVf9yH5eOsD3CiM1MbElkkOHMj0Y5dfluP_i9PYvhdncq7dD30UL_aqJSJ0zFCTKjGHBVqBGbZbjjG-PT5s1DsE=\n",
      "\n",
      "##### List of Metadata #####\n",
      "\n",
      "[{'id': '1BJyvc14JilzVckwU4I6I4IeLaH8FiWgl',\n",
      "  'mimeType': 'text/plain',\n",
      "  'name': 'sub_file_4.txt',\n",
      "  'parents': ['17lrAKEA73zf_EAuimoMmyebVAg-8p2GZ']},\n",
      " {'id': '1PnCSnQe8o0KAhk2K_ZEg3EVxmKNY3QEL',\n",
      "  'mimeType': 'text/plain',\n",
      "  'name': 'sub_file_5.txt',\n",
      "  'parents': ['17lrAKEA73zf_EAuimoMmyebVAg-8p2GZ']}]\n",
      "\n",
      "##### nextPageToken #####\n",
      "\n",
      "None\n"
     ]
    }
   ],
   "source": [
    "FOLDER_ID = \"17lrAKEA73zf_EAuimoMmyebVAg-8p2GZ\"\n",
    "page_token = None\n",
    "\n",
    "while True:\n",
    "    print(\"\\n##### List of Metadata #####\\n\")\n",
    "\n",
    "    response = drive_service.files().list(\n",
    "        q=\"'{0}' in parents\".format(FOLDER_ID),\n",
    "        spaces=\"drive\",\n",
    "        fields=\"nextPageToken, files(id, name, mimeType, parents)\",\n",
    "        pageSize=3,  # 한 번에 조회할 개수\n",
    "        pageToken=page_token,\n",
    "        orderBy=\"name\",\n",
    "    ).execute()\n",
    "\n",
    "    files = response.get(\"files\", [])\n",
    "    pprint.pprint(files)\n",
    "\n",
    "    print(\"\\n##### nextPageToken #####\\n\")\n",
    "\n",
    "    page_token = response.get('nextPageToken', None)\n",
    "    print(page_token)\n",
    "\n",
    "    if page_token is None:\n",
    "        break;"
   ]
  },
  {
   "cell_type": "markdown",
   "metadata": {},
   "source": [
    "### 2.2.4. 폴더/파일의 ID를 이용하여 Metadata를 출력\n",
    "***"
   ]
  },
  {
   "cell_type": "code",
   "execution_count": 5,
   "metadata": {
    "scrolled": true
   },
   "outputs": [
    {
     "name": "stdout",
     "output_type": "stream",
     "text": [
      "\n",
      "##### File's MetaData #####\n",
      "\n",
      "{'id': '1EFzqg-bfKXOjHP3q7NNUM6QYuEln8sR5',\n",
      " 'kind': 'drive#file',\n",
      " 'mimeType': 'text/plain',\n",
      " 'name': 'Test.txt',\n",
      " 'size': '10'}\n",
      "\n",
      "\n",
      "##### Folder's MetaData #####\n",
      "\n",
      "{'id': '1kBvzgj9MIuDLNqN0cVZhR-wDDfvbKXH4',\n",
      " 'kind': 'drive#file',\n",
      " 'mimeType': 'application/vnd.google-apps.folder',\n",
      " 'name': 'sample1'}\n"
     ]
    }
   ],
   "source": [
    "FILE_ID = \"1EFzqg-bfKXOjHP3q7NNUM6QYuEln8sR5\"  # 샘플로 읽어볼 파일의 ID\n",
    "FOLDER_ID = \"1kBvzgj9MIuDLNqN0cVZhR-wDDfvbKXH4\"  # 샘플로 읽어볼 폴더의 ID\n",
    "\n",
    "# fields에 들어가는 인자는 다음 URL을 참조: https://developers.google.com/drive/api/v3/reference/files\n",
    "FIELDS = \"kind, id, name, mimeType, size\"\n",
    "\n",
    "print(\"\\n##### File's MetaData #####\\n\")\n",
    "response = drive_service.files().get(fileId=FILE_ID, fields=FIELDS).execute()\n",
    "pprint.pprint(response)\n",
    "\n",
    "print(\"\\n\\n##### Folder's MetaData #####\\n\")\n",
    "response = drive_service.files().get(fileId=FOLDER_ID, fields=FIELDS).execute()\n",
    "pprint.pprint(response)"
   ]
  },
  {
   "cell_type": "markdown",
   "metadata": {},
   "source": [
    "### 2.2.5. Batch Requests\n",
    "***"
   ]
  },
  {
   "cell_type": "code",
   "execution_count": 6,
   "metadata": {
    "scrolled": true
   },
   "outputs": [
    {
     "name": "stdout",
     "output_type": "stream",
     "text": [
      "\n",
      "##### Result #####\n",
      "\n",
      "Request ID: 1\n",
      "Response: {'id': '1W9tRlK7zu74Iyls2ijHkNkhVo_ftcQBQ', 'name': 'sub_file2_1.txt', 'mimeType': 'text/plain'}\n",
      "\n",
      "##### Result #####\n",
      "\n",
      "Request ID: 2\n",
      "Response: {'id': '1RN1rbdGfAlZ0tC87Vxib8c89ySgV2xvj', 'name': 'sub_file2_2.txt', 'mimeType': 'text/plain'}\n",
      "\n",
      "##### Result #####\n",
      "\n",
      "Request ID: 3\n",
      "Response: {'id': '12XmKiypLZnuQKpk_-g8wyu_vvQ0QMQxa', 'name': 'sub_file2_3.txt', 'mimeType': 'text/plain'}\n"
     ]
    }
   ],
   "source": [
    "FILE_IDS = [\n",
    "    \"1W9tRlK7zu74Iyls2ijHkNkhVo_ftcQBQ\",\n",
    "    \"1RN1rbdGfAlZ0tC87Vxib8c89ySgV2xvj\",\n",
    "    \"12XmKiypLZnuQKpk_-g8wyu_vvQ0QMQxa\",\n",
    "]\n",
    "\n",
    "FIELDS = \"id, name, mimeType\"\n",
    "\n",
    "def callback(request_id, response, exception):\n",
    "    if exception:\n",
    "        # Handle error\n",
    "        print(\"\\n##### Exception #####\\n\")\n",
    "        print(exception)\n",
    "    else:\n",
    "        print(\"\\n##### Result #####\\n\")\n",
    "        print(\"Request ID: {0}\".format(request_id))\n",
    "        print(\"Response: {0}\".format(response))\n",
    "\n",
    "batch = drive_service.new_batch_http_request(callback=callback)\n",
    "batch.add(drive_service.files().get(fileId=FILE_IDS[0], fields=FIELDS))\n",
    "batch.add(drive_service.files().get(fileId=FILE_IDS[1], fields=FIELDS))\n",
    "batch.add(drive_service.files().get(fileId=FILE_IDS[2], fields=FIELDS))\n",
    "batch.execute()"
   ]
  },
  {
   "cell_type": "markdown",
   "metadata": {},
   "source": [
    "### 2.2.6. 파일 다운로드\n",
    "***"
   ]
  },
  {
   "cell_type": "code",
   "execution_count": 7,
   "metadata": {
    "scrolled": true
   },
   "outputs": [
    {
     "name": "stdout",
     "output_type": "stream",
     "text": [
      "\n",
      "##### Download Start #####\n",
      "\n",
      "Download 100%.\n",
      "\n",
      "\n",
      "##### Download Result #####\n",
      "\n",
      "b'Test Body~'\n"
     ]
    }
   ],
   "source": [
    "from googleapiclient.http import MediaIoBaseDownload\n",
    "\n",
    "FILE_ID = \"1EFzqg-bfKXOjHP3q7NNUM6QYuEln8sR5\"  # 다운로드 받을 파일의 ID\n",
    "\n",
    "print(\"\\n##### Download Start #####\\n\")\n",
    "request = drive_service.files().get_media(fileId=FILE_ID)\n",
    "buffer = io.BytesIO()\n",
    "downloader = MediaIoBaseDownload(buffer, request)\n",
    "done = False\n",
    "\n",
    "while done is False:\n",
    "    status, done = downloader.next_chunk()\n",
    "    print(\"Download %d%%.\" % int(status.progress() * 100))\n",
    "\n",
    "print(\"\\n\\n##### Download Result #####\\n\")\n",
    "print(buffer.getvalue())"
   ]
  },
  {
   "cell_type": "markdown",
   "metadata": {},
   "source": [
    "## 2.3. 쓰기\n",
    "***\n",
    "\n",
    "### 2.3.1. 파일을 읽어서 업로드\n",
    "***"
   ]
  },
  {
   "cell_type": "code",
   "execution_count": 8,
   "metadata": {},
   "outputs": [
    {
     "name": "stdout",
     "output_type": "stream",
     "text": [
      "\n",
      "\n",
      "##### Upload Result #####\n",
      "\n",
      "{'kind': 'drive#file', 'id': '1lEJXJ-5PynyzbmRZCROfLZB9B328NUd_', 'name': 'file_up_test.txt', 'mimeType': 'text/plain'}\n"
     ]
    }
   ],
   "source": [
    "from googleapiclient.http import MediaFileUpload\n",
    "\n",
    "FOLDER_ID = \"1nWQXXoOGoOIsEJk5GLvUmVqWACWy53Ho\"  # 여기에 업로드\n",
    "\n",
    "meta_data = {\n",
    "    \"name\": \"file_up_test.txt\",\n",
    "    \"parents\": [FOLDER_ID],\n",
    "}\n",
    "\n",
    "uploader = MediaFileUpload(\"upload_test.txt\", mimetype=\"text/plain\")\n",
    "response = drive_service.files().create(body=meta_data, media_body=uploader).execute()\n",
    "\n",
    "print(\"\\n\\n##### Upload Result #####\\n\")\n",
    "print(response)"
   ]
  },
  {
   "cell_type": "markdown",
   "metadata": {},
   "source": [
    "### 2.3.2. 메모리에 있는걸 업로드\n",
    "***"
   ]
  },
  {
   "cell_type": "code",
   "execution_count": 9,
   "metadata": {},
   "outputs": [
    {
     "name": "stdout",
     "output_type": "stream",
     "text": [
      "\n",
      "\n",
      "##### Upload Result #####\n",
      "\n",
      "{'kind': 'drive#file', 'id': '1vB8u3s75MvczXhtqxGJS7obKUTwp-aUD', 'name': 'mem_up_test.txt', 'mimeType': 'text/plain'}\n"
     ]
    }
   ],
   "source": [
    "from googleapiclient.http import MediaIoBaseUpload\n",
    "\n",
    "FOLDER_ID = \"1nWQXXoOGoOIsEJk5GLvUmVqWACWy53Ho\"  # 여기에 업로드\n",
    "\n",
    "meta_data = {\n",
    "    \"name\": \"mem_up_test.txt\",\n",
    "    \"parents\": [FOLDER_ID],\n",
    "}\n",
    "\n",
    "buffer = io.BytesIO()\n",
    "buffer.write(b\"hello world!\")\n",
    "\n",
    "uploader = MediaIoBaseUpload(fd=buffer, mimetype=\"text/plain\")\n",
    "response = drive_service.files().create(\n",
    "    body=meta_data, \n",
    "    media_body=uploader\n",
    ").execute()\n",
    "\n",
    "print(\"\\n\\n##### Upload Result #####\\n\")\n",
    "print(response)"
   ]
  },
  {
   "cell_type": "markdown",
   "metadata": {},
   "source": [
    "## 2.4. 수정\n",
    "***"
   ]
  },
  {
   "cell_type": "code",
   "execution_count": 10,
   "metadata": {},
   "outputs": [
    {
     "name": "stdout",
     "output_type": "stream",
     "text": [
      "\n",
      "##### Upload Result #####\n",
      "\n",
      "{'kind': 'drive#file', 'id': '1vB8u3s75MvczXhtqxGJS7obKUTwp-aUD', 'name': 'mem_up_test2.txt', 'mimeType': 'text/plain'}\n"
     ]
    }
   ],
   "source": [
    "FILE_ID = response[\"id\"]  # 위에서 메모리 업로드로 Create된 파일의 ID\n",
    "\n",
    "meta_data = {\n",
    "    \"name\": \"mem_up_test2.txt\",\n",
    "}\n",
    "\n",
    "buffer = io.BytesIO()\n",
    "buffer.write(b\"hi\")\n",
    "\n",
    "uploader = MediaIoBaseUpload(fd=buffer, mimetype=\"text/plain\")\n",
    "response = drive_service.files().update(\n",
    "    fileId=FILE_ID,\n",
    "    body=meta_data, \n",
    "    media_body=uploader\n",
    ").execute()\n",
    "\n",
    "print(\"\\n##### Upload Result #####\\n\")\n",
    "print(response)"
   ]
  },
  {
   "cell_type": "markdown",
   "metadata": {},
   "source": [
    "## 2.5. 삭제\n",
    "***"
   ]
  },
  {
   "cell_type": "code",
   "execution_count": 11,
   "metadata": {
    "scrolled": true
   },
   "outputs": [
    {
     "name": "stdout",
     "output_type": "stream",
     "text": [
      "\n",
      "##### Delete Result #####\n",
      "\n",
      "Complete\n"
     ]
    }
   ],
   "source": [
    "response = drive_service.files().delete(fileId=FILE_ID).execute()\n",
    "\n",
    "print(\"\\n##### Delete Result #####\\n\")\n",
    "\n",
    "if 0 == len(response):\n",
    "    print(\"Complete\")\n",
    "else:\n",
    "    print(\"Failed to delete\")"
   ]
  },
  {
   "cell_type": "markdown",
   "metadata": {},
   "source": [
    "# 3. 응용\n",
    "***\n",
    "\n",
    "\n",
    "## 3.1. 사용할 데이터를 바이너리 형태로 업로드\n",
    "***"
   ]
  },
  {
   "cell_type": "code",
   "execution_count": 12,
   "metadata": {
    "scrolled": false
   },
   "outputs": [
    {
     "name": "stdout",
     "output_type": "stream",
     "text": [
      "\n",
      "##### Raw Data #####\n",
      "\n",
      "       date   open   high    low  close    volume\n",
      "0  20190329  44500  44900  44200  44650  11491713\n",
      "1  20190401  45200  45450  44850  45050   7362129\n",
      "2  20190402  45550  46100  45350  45750   9480688\n",
      "3  20190403  46750  46750  45800  46600  12436570\n",
      "4  20190404  46150  47100  46150  46950  12650168\n",
      "5  20190405  46950  47550  46600  46850   8546339\n",
      "6  20190408  47250  47250  46150  46650   8507909\n",
      "7  20190409  46700  46950  46200  46650   6878761\n",
      "8  20190410  46400  46700  46050  46700  11883995\n",
      "9  20190411  46700  46800  46150  46250  13697399\n",
      "\n",
      "##### Binary Data #####\n",
      "\n",
      "b'y\\x144\\x01\\xd4\\xad\\x00\\x00d\\xaf\\x00\\x00\\xa8\\xac\\x00\\x00j\\xae\\x00\\x00\\x81Y\\xaf\\x00\\xc1\\x144\\x01\\x90\\xb0\\x00\\x00\\x8a\\xb1\\x00\\x002\\xaf\\x00\\x00\\xfa\\xaf\\x00\\x00QVp\\x00\\xc2\\x144\\x01\\xee\\xb1\\x00\\x00\\x14\\xb4\\x00\\x00&\\xb1\\x00\\x00\\xb6\\xb2\\x00\\x00\\xf0\\xa9\\x90\\x00\\xc3\\x144\\x01\\x9e\\xb6\\x00\\x00\\x9e\\xb6\\x00\\x00\\xe8\\xb2\\x00\\x00\\x08\\xb6\\x00\\x00Z\\xc4\\xbd\\x00\\xc4\\x144\\x01F\\xb4\\x00\\x00\\xfc\\xb7\\x00\\x00F\\xb4\\x00\\x00f\\xb7\\x00\\x00\\xb8\\x06\\xc1\\x00\\xc5\\x144\\x01f\\xb7\\x00\\x00\\xbe\\xb9\\x00\\x00\\x08\\xb6\\x00\\x00\\x02\\xb7\\x00\\x00#h\\x82\\x00\\xc8\\x144\\x01\\x92\\xb8\\x00\\x00\\x92\\xb8\\x00\\x00F\\xb4\\x00\\x00:\\xb6\\x00\\x00\\x05\\xd2\\x81\\x00\\xc9\\x144\\x01l\\xb6\\x00\\x00f\\xb7\\x00\\x00x\\xb4\\x00\\x00:\\xb6\\x00\\x00)\\xf6h\\x00\\xca\\x144\\x01@\\xb5\\x00\\x00l\\xb6\\x00\\x00\\xe2\\xb3\\x00\\x00l\\xb6\\x00\\x00\\xdbU\\xb5\\x00\\xcb\\x144\\x01l\\xb6\\x00\\x00\\xd0\\xb6\\x00\\x00F\\xb4\\x00\\x00\\xaa\\xb4\\x00\\x00w\\x01\\xd1\\x00'\n",
      "\n",
      "##### Length of Binary Data #####\n",
      "\n",
      "240\n",
      "\n",
      "\n",
      "##### Upload Result #####\n",
      "\n",
      "{'id': '1r1v17rYdEAPL0d0ISxJhtmJ8IETlDO5H',\n",
      " 'kind': 'drive#file',\n",
      " 'mimeType': 'application/octet-stream',\n",
      " 'name': 'day_005930.bry'}\n"
     ]
    }
   ],
   "source": [
    "import struct\n",
    "\n",
    "FOLDER_ID = \"1nWQXXoOGoOIsEJk5GLvUmVqWACWy53Ho\"  # 여기에 업로드\n",
    "\n",
    "df = pd.read_csv(\"day_005930.csv\")\n",
    "print(\"\\n##### Raw Data #####\\n\")\n",
    "print(df)\n",
    "\n",
    "buffer = io.BytesIO()\n",
    "\n",
    "for _, row in df.iterrows():\n",
    "    buffer.write(struct.pack(\"iiiiii\", row[\"date\"], row[\"open\"], row[\"high\"], row[\"low\"], row[\"close\"], row[\"volume\"]))\n",
    "\n",
    "print(\"\\n##### Binary Data #####\\n\")\n",
    "print(buffer.getvalue())\n",
    "\n",
    "print(\"\\n##### Length of Binary Data #####\\n\")\n",
    "print(len(buffer.getvalue()))\n",
    "\n",
    "meta_data = {\n",
    "    \"name\": \"day_005930.bry\",\n",
    "    \"parents\": [FOLDER_ID],\n",
    "}\n",
    "\n",
    "uploader = MediaIoBaseUpload(fd=buffer, mimetype=\"application/octet-stream\")\n",
    "response = drive_service.files().create(\n",
    "    body=meta_data, \n",
    "    media_body=uploader\n",
    ").execute()\n",
    "\n",
    "print(\"\\n\\n##### Upload Result #####\\n\")\n",
    "pprint.pprint(response)"
   ]
  },
  {
   "cell_type": "markdown",
   "metadata": {},
   "source": [
    "## 3.2. 데이터 다운로드\n",
    "***\n",
    "\n",
    "### 3.2.1 특정 지점부터 다운로드\n",
    "***"
   ]
  },
  {
   "cell_type": "code",
   "execution_count": 13,
   "metadata": {},
   "outputs": [
    {
     "name": "stdout",
     "output_type": "stream",
     "text": [
      "\n",
      "##### Download Start #####\n",
      "\n",
      "Download 100%.\n",
      "\n",
      "\n",
      "##### Download Result #####\n",
      "\n",
      "(20190405, 46950, 47550, 46600, 46850, 8546339)\n",
      "(20190408, 47250, 47250, 46150, 46650, 8507909)\n",
      "(20190409, 46700, 46950, 46200, 46650, 6878761)\n",
      "(20190410, 46400, 46700, 46050, 46700, 11883995)\n",
      "(20190411, 46700, 46800, 46150, 46250, 13697399)\n"
     ]
    }
   ],
   "source": [
    "FILE_ID = response[\"id\"]  # 다운로드 받을 파일의 ID\n",
    "START_READING = 6  # 다운받기 시작할 Row Index\n",
    "STRUCT_SIZE = 24\n",
    "\n",
    "print(\"\\n##### Download Start #####\\n\")\n",
    "request = drive_service.files().get_media(fileId=FILE_ID)\n",
    "buffer = io.BytesIO()\n",
    "downloader = MediaIoBaseDownload(buffer, request)\n",
    "downloader._progress = STRUCT_SIZE * (START_READING - 1)\n",
    "done = False\n",
    "\n",
    "while done is False:\n",
    "    status, done = downloader.next_chunk()\n",
    "    print(\"Download %d%%.\" % int(status.progress() * 100))\n",
    "\n",
    "print(\"\\n\\n##### Download Result #####\\n\")\n",
    "\n",
    "rcv_data = buffer.getvalue()\n",
    "st_idx = 0\n",
    "rcv_len = len(rcv_data)\n",
    "\n",
    "while rcv_len > st_idx:\n",
    "    ed_idx = st_idx + STRUCT_SIZE\n",
    "    print(struct.unpack(\"iiiiii\", rcv_data[st_idx:ed_idx]))\n",
    "    st_idx = ed_idx"
   ]
  },
  {
   "cell_type": "markdown",
   "metadata": {},
   "source": [
    "### 3.2.2. 스트리밍\n",
    "***"
   ]
  },
  {
   "cell_type": "code",
   "execution_count": 14,
   "metadata": {
    "scrolled": false
   },
   "outputs": [
    {
     "name": "stdout",
     "output_type": "stream",
     "text": [
      "\n",
      "##### Download Start #####\n",
      "\n",
      "b'y\\x144\\x01\\xd4\\xad\\x00\\x00d\\xaf\\x00\\x00\\xa8\\xac\\x00\\x00j\\xae\\x00\\x00\\x81Y\\xaf\\x00\\xc1\\x144\\x01\\x90\\xb0\\x00\\x00\\x8a\\xb1\\x00\\x002\\xaf\\x00\\x00\\xfa\\xaf\\x00\\x00QVp\\x00\\xc2\\x144\\x01\\xee\\xb1\\x00\\x00\\x14\\xb4\\x00\\x00&\\xb1\\x00\\x00\\xb6\\xb2\\x00\\x00\\xf0\\xa9\\x90\\x00'\n",
      "\n",
      "(20190329, 44500, 44900, 44200, 44650, 11491713)\n",
      "(20190401, 45200, 45450, 44850, 45050, 7362129)\n",
      "(20190402, 45550, 46100, 45350, 45750, 9480688)\n",
      "\n",
      "Download 30%\n",
      "\n",
      "b'\\xc3\\x144\\x01\\x9e\\xb6\\x00\\x00\\x9e\\xb6\\x00\\x00\\xe8\\xb2\\x00\\x00\\x08\\xb6\\x00\\x00Z\\xc4\\xbd\\x00\\xc4\\x144\\x01F\\xb4\\x00\\x00\\xfc\\xb7\\x00\\x00F\\xb4\\x00\\x00f\\xb7\\x00\\x00\\xb8\\x06\\xc1\\x00\\xc5\\x144\\x01f\\xb7\\x00\\x00\\xbe\\xb9\\x00\\x00\\x08\\xb6\\x00\\x00\\x02\\xb7\\x00\\x00#h\\x82\\x00'\n",
      "\n",
      "(20190403, 46750, 46750, 45800, 46600, 12436570)\n",
      "(20190404, 46150, 47100, 46150, 46950, 12650168)\n",
      "(20190405, 46950, 47550, 46600, 46850, 8546339)\n",
      "\n",
      "Download 60%\n",
      "\n",
      "b'\\xc8\\x144\\x01\\x92\\xb8\\x00\\x00\\x92\\xb8\\x00\\x00F\\xb4\\x00\\x00:\\xb6\\x00\\x00\\x05\\xd2\\x81\\x00\\xc9\\x144\\x01l\\xb6\\x00\\x00f\\xb7\\x00\\x00x\\xb4\\x00\\x00:\\xb6\\x00\\x00)\\xf6h\\x00\\xca\\x144\\x01@\\xb5\\x00\\x00l\\xb6\\x00\\x00\\xe2\\xb3\\x00\\x00l\\xb6\\x00\\x00\\xdbU\\xb5\\x00'\n",
      "\n",
      "(20190408, 47250, 47250, 46150, 46650, 8507909)\n",
      "(20190409, 46700, 46950, 46200, 46650, 6878761)\n",
      "(20190410, 46400, 46700, 46050, 46700, 11883995)\n",
      "\n",
      "Download 90%\n",
      "\n",
      "b'\\xcb\\x144\\x01l\\xb6\\x00\\x00\\xd0\\xb6\\x00\\x00F\\xb4\\x00\\x00\\xaa\\xb4\\x00\\x00w\\x01\\xd1\\x00'\n",
      "\n",
      "(20190411, 46700, 46800, 46150, 46250, 13697399)\n",
      "\n",
      "Download 100%\n",
      "\n",
      "##### Done #####\n",
      "\n"
     ]
    }
   ],
   "source": [
    "STRUCT_SIZE = 24\n",
    "CHUNK_SIZE = STRUCT_SIZE * 3\n",
    "\n",
    "\n",
    "class BufferHandler(io.BytesIO):\n",
    "    def __init__(self):\n",
    "        super(BufferHandler, self).__init__()\n",
    "        self.buffer = None\n",
    "\n",
    "    def write(self, data):\n",
    "        self.buffer = data\n",
    "        super(BufferHandler, self).write(data)\n",
    "\n",
    "        \n",
    "print(\"\\n##### Download Start #####\\n\")\n",
    "request = drive_service.files().get_media(fileId=FILE_ID)\n",
    "buffer_handler = BufferHandler()\n",
    "downloader = MediaIoBaseDownload(buffer_handler, request, chunksize=CHUNK_SIZE - 1)\n",
    "done = False\n",
    "\n",
    "while done is False:\n",
    "    status, done = downloader.next_chunk()\n",
    "    print(buffer_handler.buffer)\n",
    "    print(\"\")\n",
    "    \n",
    "    st_idx = 0\n",
    "    rcv_len = len(buffer_handler.buffer)\n",
    "    \n",
    "    while CHUNK_SIZE > st_idx and rcv_len > st_idx:\n",
    "        \n",
    "        ed_idx = st_idx + STRUCT_SIZE\n",
    "        rcv_data = struct.unpack(\"iiiiii\", buffer_handler.buffer[st_idx:ed_idx])\n",
    "        print(rcv_data)\n",
    "        st_idx = ed_idx\n",
    "        \n",
    "    print(\"\\nDownload %d%%\\n\" % int(status.progress() * 100))\n",
    "\n",
    "print(\"##### Done #####\\n\")"
   ]
  },
  {
   "cell_type": "markdown",
   "metadata": {},
   "source": [
    "# 4. Google Sheets\n",
    "***\n",
    "\n",
    "\n",
    "## 4.1. Google Sheets API 사용설정\n",
    "***\n",
    "\n",
    "![Google Sheets API 사용설정](https://raw.githubusercontent.com/3x3x3/MediaFiles/master/google_drive/enable_google_sheets.gif)\n",
    "\n",
    "\n",
    "## 4.2. Sheets Service 객체 생성\n",
    "***\n",
    "\n",
    "생성되는 sheets_service는 <https://developers.google.com/resources/api-libraries/documentation/sheets/v4/python/latest/>를 참조한다."
   ]
  },
  {
   "cell_type": "code",
   "execution_count": 15,
   "metadata": {},
   "outputs": [],
   "source": [
    "sheets_service = build(\"sheets\", \"v4\", credentials=creds)"
   ]
  },
  {
   "cell_type": "markdown",
   "metadata": {},
   "source": [
    "## 4.3. 읽기\n",
    "***\n",
    "\n",
    "\n",
    "### 4.3.1. 파일 정보 얻기\n",
    "***"
   ]
  },
  {
   "cell_type": "code",
   "execution_count": 16,
   "metadata": {},
   "outputs": [
    {
     "name": "stdout",
     "output_type": "stream",
     "text": [
      "{'properties': {'autoRecalc': 'ON_CHANGE',\n",
      "                'defaultFormat': {'backgroundColor': {'blue': 1,\n",
      "                                                      'green': 1,\n",
      "                                                      'red': 1},\n",
      "                                  'padding': {'bottom': 2,\n",
      "                                              'left': 3,\n",
      "                                              'right': 3,\n",
      "                                              'top': 2},\n",
      "                                  'textFormat': {'bold': False,\n",
      "                                                 'fontFamily': 'arial,sans,sans-serif',\n",
      "                                                 'fontSize': 10,\n",
      "                                                 'foregroundColor': {},\n",
      "                                                 'italic': False,\n",
      "                                                 'strikethrough': False,\n",
      "                                                 'underline': False},\n",
      "                                  'verticalAlignment': 'BOTTOM',\n",
      "                                  'wrapStrategy': 'OVERFLOW_CELL'},\n",
      "                'locale': 'ko_KR',\n",
      "                'timeZone': 'Asia/Tokyo',\n",
      "                'title': 'Test3'},\n",
      " 'sheets': [{'properties': {'gridProperties': {'columnCount': 26,\n",
      "                                               'rowCount': 1000},\n",
      "                            'index': 0,\n",
      "                            'sheetId': 0,\n",
      "                            'sheetType': 'GRID',\n",
      "                            'title': '시트1'}}],\n",
      " 'spreadsheetId': '1PH9fjNRyKd0IqBiaZ3cDGhysmP3Y2241CHCEdt2nQrc',\n",
      " 'spreadsheetUrl': 'https://docs.google.com/a/llit.kr/spreadsheets/d/1PH9fjNRyKd0IqBiaZ3cDGhysmP3Y2241CHCEdt2nQrc/edit'}\n"
     ]
    }
   ],
   "source": [
    "SPREAD_SHEET_ID = \"1PH9fjNRyKd0IqBiaZ3cDGhysmP3Y2241CHCEdt2nQrc\"\n",
    "\n",
    "sheet_obj = sheets_service.spreadsheets()\n",
    "response = sheet_obj.get(spreadsheetId=SPREAD_SHEET_ID).execute()\n",
    "pprint.pprint(response)"
   ]
  },
  {
   "cell_type": "markdown",
   "metadata": {},
   "source": [
    "### 4.3.2. 특정 범위 읽기\n",
    "***\n",
    "\n",
    "다른 사용법은 <https://developers.google.com/sheets/api/samples/reading>를 참조한다.  \n",
    "RANGE에 들어갈 A1 Notation은 <https://developers.google.com/sheets/api/guides/concepts#a1_notation>를 참조"
   ]
  },
  {
   "cell_type": "code",
   "execution_count": 17,
   "metadata": {},
   "outputs": [
    {
     "name": "stdout",
     "output_type": "stream",
     "text": [
      "\n",
      "##### Range A:D #####\n",
      "\n",
      "{'majorDimension': 'ROWS',\n",
      " 'range': \"'시트1'!A1:D1000\",\n",
      " 'values': [['market', 'fullcode', 'shtcode', 'name'],\n",
      "            ['kospi', 'KR7024890006', 'A024890', '대원화성'],\n",
      "            ['kospi', 'KR7024900003', 'A024900', '덕양산업'],\n",
      "            ['kosdaq', 'KR7024910002', 'A024910', '경창산업'],\n",
      "            ['kosdaq', 'KR7024940009', 'A024940', 'PN풍년'],\n",
      "            ['kosdaq', 'KR7024950008', 'A024950', '삼천리자전거'],\n",
      "            ['kospi', 'KR7025000001', 'A025000', 'KPX케미칼'],\n",
      "            ['kosdaq', 'KR7025320003', 'A025320', '시노펙스'],\n",
      "            ['kosdaq', 'KR7025440009', 'A025440', '대성엘텍'],\n",
      "            ['kospi', 'KR7025530007', 'A025530', 'SJM홀딩스'],\n",
      "            ['kospi', 'KR7025540006', 'A025540', '한국단자'],\n",
      "            ['kosdaq', 'KR7025550005', 'A025550', '한국선재'],\n",
      "            ['kospi', 'KR7025560004', 'A025560', '미래산업'],\n",
      "            ['kospi', 'KR7025750001', 'A025750', '한솔홈데코'],\n",
      "            ['kosdaq', 'KR7025770009', 'A025770', '한국정보통신'],\n",
      "            ['kospi', 'KR7025820002', 'A025820', '이구산업'],\n",
      "            ['kospi', 'KR7025860008', 'A025860', '남해화학'],\n",
      "            ['kosdaq', 'KR7025870007', 'A025870', '신라에스지'],\n",
      "            ['kosdaq', 'KR7025880006', 'A025880', '케이씨피드'],\n",
      "            ['kospi', 'KR7025890005', 'A025890', '한국주강'],\n",
      "            ['kosdaq', 'KR7025900002', 'A025900', '동화기업'],\n",
      "            ['kosdaq', 'KR7025950007', 'A025950', '동신건설'],\n",
      "            ['kosdaq', 'KR7025980004', 'A025980', '아난티'],\n",
      "            ['kosdaq', 'KR7026040006', 'A026040', '제이에스티나'],\n",
      "            ['kosdaq', 'KR7026150003', 'A026150', '특수건설'],\n",
      "            ['kosdaq', 'KR7026180000', 'A026180', '현대정보기술'],\n",
      "            ['kospi', 'KR7026890004', 'A026890', '디피씨'],\n",
      "            ['kosdaq', 'KR7026910000', 'A026910', '광진실업'],\n",
      "            ['kospi', 'KR7026940007', 'A026940', '부국철강'],\n",
      "            ['kospi', 'KR7026960005', 'A026960', '동서'],\n",
      "            ['kosdaq', 'KR7027040005', 'A027040', '서울전자통신'],\n",
      "            ['kosdaq', 'KR7027050004', 'A027050', '코리아나'],\n",
      "            ['kosdaq', 'KR7027360007', 'A027360', '아주IB투자'],\n",
      "            ['kospi', 'KR7027410000', 'A027410', 'BGF'],\n",
      "            ['kosdaq', 'KR7027580000', 'A027580', '상보'],\n",
      "            ['kosdaq', 'KR7027710003', 'A027710', '팜스토리'],\n",
      "            ['kospi', 'KR7027740000', 'A027740', '마니커'],\n",
      "            ['kosdaq', 'KR7027830009', 'A027830', '대성창투'],\n",
      "            ['kospi', 'KR7027970003', 'A027970', '세하']]}\n",
      "\n",
      "##### Range A1:D1 And A5:D8 #####\n",
      "\n",
      "{'spreadsheetId': '1PH9fjNRyKd0IqBiaZ3cDGhysmP3Y2241CHCEdt2nQrc',\n",
      " 'valueRanges': [{'majorDimension': 'ROWS',\n",
      "                  'range': \"'시트1'!A1:D1\",\n",
      "                  'values': [['market', 'fullcode', 'shtcode', 'name']]},\n",
      "                 {'majorDimension': 'ROWS',\n",
      "                  'range': \"'시트1'!A5:D8\",\n",
      "                  'values': [['kosdaq', 'KR7024940009', 'A024940', 'PN풍년'],\n",
      "                             ['kosdaq', 'KR7024950008', 'A024950', '삼천리자전거'],\n",
      "                             ['kospi', 'KR7025000001', 'A025000', 'KPX케미칼'],\n",
      "                             ['kosdaq', 'KR7025320003', 'A025320', '시노펙스']]}]}\n"
     ]
    }
   ],
   "source": [
    "SPREAD_SHEET_ID = \"1PH9fjNRyKd0IqBiaZ3cDGhysmP3Y2241CHCEdt2nQrc\"\n",
    "SHEET_NAME = response[\"sheets\"][0][\"properties\"][\"title\"]\n",
    "\n",
    "rng = \"{0}!A:D\".format(SHEET_NAME)\n",
    "spreadsheet_obj = sheets_service.spreadsheets()\n",
    "response = spreadsheet_obj.values().get(spreadsheetId=SPREAD_SHEET_ID, range=rng).execute()\n",
    "print(\"\\n##### Range A:D #####\\n\")\n",
    "pprint.pprint(response)\n",
    "\n",
    "rng = [\n",
    "    \"{0}!A1:D1\".format(SHEET_NAME),\n",
    "    \"{0}!A5:D8\".format(SHEET_NAME),\n",
    "]\n",
    "spreadsheet_obj = sheets_service.spreadsheets()\n",
    "response = spreadsheet_obj.values().batchGet(spreadsheetId=SPREAD_SHEET_ID, ranges=rng).execute()\n",
    "print(\"\\n##### Range A1:D1 And A5:D8 #####\\n\")\n",
    "pprint.pprint(response)"
   ]
  },
  {
   "cell_type": "markdown",
   "metadata": {},
   "source": [
    "## 4.4. 쓰기\n",
    "***\n",
    "\n",
    "\n",
    "### 4.4.1. 특정 폴더에 Spreadsheet 파일을 생성\n",
    "***\n",
    "\n",
    "<https://developers.google.com/sheets/api/guides/create>에서 설명한 대로 Spreadsheet 파일을 만들 수도 있지만,  \n",
    "특정한 폴더내에 파일을 생성하는 방법은 못찾았다.  \n",
    "Google Drive API를 사용하여 파일을 생성하겠다.  \n",
    "Spreadsheet의 MIME Type은 \"application/vnd.google-apps.spreadsheet\"이다,  \n",
    "구글에서 지원하는 MIME Type는 <https://developers.google.com/drive/api/v3/mime-types>를 참조한다."
   ]
  },
  {
   "cell_type": "code",
   "execution_count": 18,
   "metadata": {
    "scrolled": false
   },
   "outputs": [
    {
     "name": "stdout",
     "output_type": "stream",
     "text": [
      "\n",
      "\n",
      "##### Upload Result #####\n",
      "\n",
      "{'id': '1NBjZgCzOcoI4OgqYEUhUV0seS5BL8RTKRYmb7em25nM',\n",
      " 'kind': 'drive#file',\n",
      " 'mimeType': 'application/vnd.google-apps.spreadsheet',\n",
      " 'name': 'codetbl_20190412'}\n"
     ]
    }
   ],
   "source": [
    "import datetime\n",
    "\n",
    "FOLDER_ID = \"1nWQXXoOGoOIsEJk5GLvUmVqWACWy53Ho\"  # 여기에 생성\n",
    "FILE_NAME = \"codetbl_{0}\".format(datetime.date.today().strftime(\"%Y%m%d\"))\n",
    "\n",
    "meta_data = {\n",
    "    \"name\": FILE_NAME,\n",
    "    \"parents\": [FOLDER_ID],\n",
    "    \"mimeType\": \"application/vnd.google-apps.spreadsheet\",\n",
    "}\n",
    "\n",
    "response = drive_service.files().create(body=meta_data).execute()\n",
    "\n",
    "print(\"\\n\\n##### Upload Result #####\\n\")\n",
    "pprint.pprint(response)"
   ]
  },
  {
   "cell_type": "markdown",
   "metadata": {},
   "source": [
    "### 4.4.2. 생성된 파일에 쓰기\n",
    "***\n",
    "\n",
    "다른 사용법은 <https://developers.google.com/sheets/api/samples/writing>를 참조한다."
   ]
  },
  {
   "cell_type": "code",
   "execution_count": 19,
   "metadata": {},
   "outputs": [
    {
     "name": "stdout",
     "output_type": "stream",
     "text": [
      "\n",
      "##### Raw Data #####\n",
      "\n",
      "       fullcode  shtcode       name\n",
      "0  KR7005930003  A005930       삼성전자\n",
      "1  KR7046890000  A046890      서울반도체\n",
      "2  KR7069500007  A069500  KODEX 200\n",
      "3  KR7114800006  A114800  KODEX 인버스\n",
      "\n",
      "##### Update Result #####\n",
      "\n",
      "{'spreadsheetId': '1NBjZgCzOcoI4OgqYEUhUV0seS5BL8RTKRYmb7em25nM',\n",
      " 'updatedCells': 15,\n",
      " 'updatedColumns': 3,\n",
      " 'updatedRange': \"'시트1'!A1:C5\",\n",
      " 'updatedRows': 5}\n"
     ]
    }
   ],
   "source": [
    "SPREAD_SHEET_ID = response[\"id\"]\n",
    "\n",
    "df = pd.read_csv(\"code_info.csv\")\n",
    "print(\"\\n##### Raw Data #####\\n\")\n",
    "print(df)\n",
    "\n",
    "input_values = [list(df)]\n",
    "input_values.extend(df.values.tolist())\n",
    "\n",
    "body_data = {\n",
    "    \"values\": input_values\n",
    "}\n",
    "\n",
    "response = spreadsheet_obj.values().update(\n",
    "    spreadsheetId=SPREAD_SHEET_ID, \n",
    "    range=\"시트1!A1:C5\", \n",
    "    body=body_data, \n",
    "    valueInputOption=\"RAW\"  # \"RAW\" or \"USER_ENTERED\"\n",
    ").execute()\n",
    "\n",
    "print(\"\\n##### Update Result #####\\n\")\n",
    "pprint.pprint(response)"
   ]
  },
  {
   "cell_type": "markdown",
   "metadata": {},
   "source": [
    "### 4.4.3. Append\n",
    "***"
   ]
  },
  {
   "cell_type": "code",
   "execution_count": 20,
   "metadata": {},
   "outputs": [
    {
     "name": "stdout",
     "output_type": "stream",
     "text": [
      "\n",
      "##### Append Result #####\n",
      "\n",
      "{'spreadsheetId': '1NBjZgCzOcoI4OgqYEUhUV0seS5BL8RTKRYmb7em25nM',\n",
      " 'updates': {'spreadsheetId': '1NBjZgCzOcoI4OgqYEUhUV0seS5BL8RTKRYmb7em25nM',\n",
      "             'updatedCells': 6,\n",
      "             'updatedColumns': 3,\n",
      "             'updatedRange': \"'시트1'!A6:C7\",\n",
      "             'updatedRows': 2}}\n"
     ]
    }
   ],
   "source": [
    "body_data = {\n",
    "    \"values\": [\n",
    "        [\"KR7035720002\", \"A035720\", \"카카오\"],\n",
    "        [\"KR7084990001\", \"A084990\", \"바이로메드\"]\n",
    "    ]\n",
    "}\n",
    "\n",
    "response = spreadsheet_obj.values().append(\n",
    "    spreadsheetId=SPREAD_SHEET_ID,\n",
    "    range=\"시트1!A6:C6\",\n",
    "    body=body_data,\n",
    "    valueInputOption=\"RAW\",  # \"RAW\" or \"USER_ENTERED\"\n",
    ").execute()\n",
    "\n",
    "print(\"\\n##### Append Result #####\\n\")\n",
    "pprint.pprint(response)"
   ]
  }
 ],
 "metadata": {
  "kernelspec": {
   "display_name": "Python 3",
   "language": "python",
   "name": "python3"
  },
  "language_info": {
   "codemirror_mode": {
    "name": "ipython",
    "version": 3
   },
   "file_extension": ".py",
   "mimetype": "text/x-python",
   "name": "python",
   "nbconvert_exporter": "python",
   "pygments_lexer": "ipython3",
   "version": "3.7.0"
  }
 },
 "nbformat": 4,
 "nbformat_minor": 2
}
