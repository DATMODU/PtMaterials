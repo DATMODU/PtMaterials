{
 "cells": [
  {
   "cell_type": "code",
   "execution_count": 1,
   "metadata": {},
   "outputs": [],
   "source": [
    "# -*- coding: utf-8 -*-\n",
    "import io\n",
    "import pprint\n",
    "from googleapiclient.discovery import build\n",
    "from googleapiclient.http import MediaIoBaseDownload\n",
    "from oauth2client.service_account import ServiceAccountCredentials\n",
    "from httplib2 import Http"
   ]
  },
  {
   "cell_type": "code",
   "execution_count": 2,
   "metadata": {},
   "outputs": [],
   "source": [
    "SERVICE_ACC_KEY_FILE_NAME = \"service_acc_key.json\"\n",
    "\n",
    "# SCOPES에 들어가는 값들은 다음 URL을 참조: https://developers.google.com/drive/api/v3/about-auth\n",
    "SCOPES = [\n",
    "    \"https://www.googleapis.com/auth/drive.readonly\"\n",
    "]\n",
    "\n",
    "credentials = ServiceAccountCredentials.from_json_keyfile_name(SERVICE_ACC_KEY_FILE_NAME, SCOPES)\n",
    "http_auth = credentials.authorize(Http())\n",
    "drive = build(\"drive\", \"v3\", http=http_auth)"
   ]
  },
  {
   "cell_type": "markdown",
   "metadata": {},
   "source": [
    "## 특정 파일/폴더의 MetaData를 출력"
   ]
  },
  {
   "cell_type": "code",
   "execution_count": 3,
   "metadata": {
    "scrolled": true
   },
   "outputs": [
    {
     "name": "stdout",
     "output_type": "stream",
     "text": [
      "\n",
      "##### File's MetaData #####\n",
      "\n",
      "{'id': '1EFzqg-bfKXOjHP3q7NNUM6QYuEln8sR5',\n",
      " 'kind': 'drive#file',\n",
      " 'mimeType': 'text/plain',\n",
      " 'name': 'Test.txt',\n",
      " 'size': '10'}\n",
      "\n",
      "\n",
      "##### Folder's MetaData #####\n",
      "\n",
      "{'id': '1eZDWJyWm_ORYzldgrEtcZTGIINfrrXdk',\n",
      " 'kind': 'drive#file',\n",
      " 'mimeType': 'application/vnd.google-apps.folder',\n",
      " 'name': 'Test'}\n"
     ]
    }
   ],
   "source": [
    "FILE_ID = \"1EFzqg-bfKXOjHP3q7NNUM6QYuEln8sR5\"  # 샘플로 읽어볼 파일의 ID\n",
    "FOLDER_ID = \"1eZDWJyWm_ORYzldgrEtcZTGIINfrrXdk\"  # 샘플로 읽어볼 폴더의 ID\n",
    "\n",
    "# fields에 들어가는 인자는 다음 URL을 참조: https://developers.google.com/drive/api/v3/reference/files\n",
    "FIELDS = \"kind, id, name, mimeType, size\"\n",
    "\n",
    "print(\"\\n##### File's MetaData #####\\n\")\n",
    "response = drive.files().get(fileId=FILE_ID, fields=FIELDS).execute()\n",
    "pprint.pprint(response)\n",
    "\n",
    "print(\"\\n\\n##### Folder's MetaData #####\\n\")\n",
    "response = drive.files().get(fileId=FOLDER_ID, fields=FIELDS).execute()\n",
    "pprint.pprint(response)"
   ]
  },
  {
   "cell_type": "markdown",
   "metadata": {},
   "source": [
    "## 특정 파일을 다운로드 받아서 출력"
   ]
  },
  {
   "cell_type": "code",
   "execution_count": 4,
   "metadata": {},
   "outputs": [
    {
     "name": "stdout",
     "output_type": "stream",
     "text": [
      "\n",
      "##### Download Start #####\n",
      "\n",
      "Download 100%.\n",
      "\n",
      "\n",
      "##### Download Result #####\n",
      "\n",
      "b'Test Body~'\n"
     ]
    }
   ],
   "source": [
    "print(\"\\n##### Download Start #####\\n\")\n",
    "request = drive.files().get_media(fileId=FILE_ID)\n",
    "buffer = io.BytesIO()\n",
    "downloader = MediaIoBaseDownload(buffer, request)\n",
    "done = False\n",
    "\n",
    "while done is False:\n",
    "    status, done = downloader.next_chunk()\n",
    "    print(\"Download %d%%.\" % int(status.progress() * 100))\n",
    "\n",
    "print(\"\\n\\n##### Download Result #####\\n\")\n",
    "print(buffer.getvalue())"
   ]
  },
  {
   "cell_type": "markdown",
   "metadata": {},
   "source": [
    "## 특정 폴더내의 폴더/파일들 출력"
   ]
  },
  {
   "cell_type": "code",
   "execution_count": 5,
   "metadata": {},
   "outputs": [
    {
     "name": "stdout",
     "output_type": "stream",
     "text": [
      "\n",
      "##### 폴더/파일 목록 #####\n",
      "\n",
      "{'id': '1Lde5wC3wacAmUIIiVZ4qDFWd89IouOft',\n",
      " 'mimeType': 'application/vnd.google-apps.folder',\n",
      " 'name': 'sub_folder2',\n",
      " 'parents': ['1eZDWJyWm_ORYzldgrEtcZTGIINfrrXdk']}\n",
      "\n",
      "{'id': '17lrAKEA73zf_EAuimoMmyebVAg-8p2GZ',\n",
      " 'mimeType': 'application/vnd.google-apps.folder',\n",
      " 'name': 'sub_folder1',\n",
      " 'parents': ['1eZDWJyWm_ORYzldgrEtcZTGIINfrrXdk']}\n",
      "\n",
      "{'id': '1T0Qb5QsHh9C3lAgDzCtHWhPTZtoD98X2',\n",
      " 'mimeType': 'text/plain',\n",
      " 'name': 'test2.txt',\n",
      " 'parents': ['1eZDWJyWm_ORYzldgrEtcZTGIINfrrXdk']}\n",
      "\n",
      "{'id': '1Gh1Xdgp9FLFfsf_20Ou_V_mULhz9ZXk5',\n",
      " 'mimeType': 'text/plain',\n",
      " 'name': 'test1.txt',\n",
      " 'parents': ['1eZDWJyWm_ORYzldgrEtcZTGIINfrrXdk']}\n",
      "\n",
      "{'id': '1EFzqg-bfKXOjHP3q7NNUM6QYuEln8sR5',\n",
      " 'mimeType': 'text/plain',\n",
      " 'name': 'Test.txt',\n",
      " 'parents': ['1eZDWJyWm_ORYzldgrEtcZTGIINfrrXdk']}\n"
     ]
    }
   ],
   "source": [
    "response = drive.files().list(\n",
    "    q=\"'{0}' in parents\".format(FOLDER_ID),\n",
    "    spaces=\"drive\",\n",
    "    fields=\"files(id, name, mimeType, parents)\"\n",
    ").execute()\n",
    "\n",
    "files = response.get(\"files\", [])\n",
    "\n",
    "print(\"\\n##### 폴더/파일 목록 #####\")\n",
    "for f in files:\n",
    "    print(\"\")\n",
    "    pprint.pprint(f)"
   ]
  },
  {
   "cell_type": "code",
   "execution_count": null,
   "metadata": {},
   "outputs": [],
   "source": []
  }
 ],
 "metadata": {
  "kernelspec": {
   "display_name": "Python 3",
   "language": "python",
   "name": "python3"
  },
  "language_info": {
   "codemirror_mode": {
    "name": "ipython",
    "version": 3
   },
   "file_extension": ".py",
   "mimetype": "text/x-python",
   "name": "python",
   "nbconvert_exporter": "python",
   "pygments_lexer": "ipython3",
   "version": "3.7.0"
  }
 },
 "nbformat": 4,
 "nbformat_minor": 2
}
