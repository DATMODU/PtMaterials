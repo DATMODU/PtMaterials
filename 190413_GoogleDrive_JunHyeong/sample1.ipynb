{
 "cells": [
  {
   "cell_type": "code",
   "execution_count": 1,
   "metadata": {},
   "outputs": [],
   "source": [
    "# -*- coding: utf-8 -*-\n",
    "import io\n",
    "import pprint\n",
    "from googleapiclient.discovery import build\n",
    "from googleapiclient.http import MediaIoBaseDownload\n",
    "from oauth2client.service_account import ServiceAccountCredentials\n",
    "from httplib2 import Http"
   ]
  },
  {
   "cell_type": "code",
   "execution_count": 2,
   "metadata": {},
   "outputs": [],
   "source": [
    "SERVICE_ACC_KEY_FILE_NAME = \"service_acc_key.json\"\n",
    "\n",
    "# SCOPES에 들어가는 값들은 다음 URL을 참조: https://developers.google.com/drive/api/v3/about-auth\n",
    "SCOPES = [\n",
    "    \"https://www.googleapis.com/auth/drive.readonly\"\n",
    "]\n",
    "\n",
    "credentials = ServiceAccountCredentials.from_json_keyfile_name(SERVICE_ACC_KEY_FILE_NAME, SCOPES)\n",
    "http_auth = credentials.authorize(Http())\n",
    "drive = build(\"drive\", \"v3\", http=http_auth)"
   ]
  },
  {
   "cell_type": "markdown",
   "metadata": {},
   "source": [
    "## 특정 파일/폴더의 MetaData를 출력"
   ]
  },
  {
   "cell_type": "code",
   "execution_count": 3,
   "metadata": {
    "scrolled": true
   },
   "outputs": [
    {
     "name": "stdout",
     "output_type": "stream",
     "text": [
      "\n",
      "##### File's MetaData #####\n",
      "\n",
      "{'id': '1EFzqg-bfKXOjHP3q7NNUM6QYuEln8sR5',\n",
      " 'kind': 'drive#file',\n",
      " 'mimeType': 'text/plain',\n",
      " 'name': 'Test.txt',\n",
      " 'size': '10'}\n",
      "\n",
      "\n",
      "##### Folder's MetaData #####\n",
      "\n",
      "{'id': '1eZDWJyWm_ORYzldgrEtcZTGIINfrrXdk',\n",
      " 'kind': 'drive#file',\n",
      " 'mimeType': 'application/vnd.google-apps.folder',\n",
      " 'name': 'Test'}\n"
     ]
    }
   ],
   "source": [
    "FILE_ID = \"1EFzqg-bfKXOjHP3q7NNUM6QYuEln8sR5\"  # 샘플로 읽어볼 파일의 ID\n",
    "FOLDER_ID = \"1eZDWJyWm_ORYzldgrEtcZTGIINfrrXdk\"  # 샘플로 읽어볼 폴더의 ID\n",
    "\n",
    "# fields에 들어가는 인자는 다음 URL을 참조: https://developers.google.com/drive/api/v3/reference/files\n",
    "FIELDS = \"kind, id, name, mimeType, size\"\n",
    "\n",
    "print(\"\\n##### File's MetaData #####\\n\")\n",
    "response = drive.files().get(fileId=FILE_ID, fields=FIELDS).execute()\n",
    "pprint.pprint(response)\n",
    "\n",
    "print(\"\\n\\n##### Folder's MetaData #####\\n\")\n",
    "response = drive.files().get(fileId=FOLDER_ID, fields=FIELDS).execute()\n",
    "pprint.pprint(response)"
   ]
  },
  {
   "cell_type": "markdown",
   "metadata": {},
   "source": [
    "## 특정 파일을 다운로드 받아서 출력"
   ]
  },
  {
   "cell_type": "code",
   "execution_count": 4,
   "metadata": {},
   "outputs": [
    {
     "name": "stdout",
     "output_type": "stream",
     "text": [
      "\n",
      "##### Download Start #####\n",
      "\n",
      "Download 100%.\n",
      "\n",
      "\n",
      "##### Download Result #####\n",
      "\n",
      "b'Test Body~'\n"
     ]
    }
   ],
   "source": [
    "print(\"\\n##### Download Start #####\\n\")\n",
    "request = drive.files().get_media(fileId=FILE_ID)\n",
    "buffer = io.BytesIO()\n",
    "downloader = MediaIoBaseDownload(buffer, request)\n",
    "done = False\n",
    "\n",
    "while done is False:\n",
    "    status, done = downloader.next_chunk()\n",
    "    print(\"Download %d%%.\" % int(status.progress() * 100))\n",
    "\n",
    "print(\"\\n\\n##### Download Result #####\\n\")\n",
    "print(buffer.getvalue())"
   ]
  },
  {
   "cell_type": "markdown",
   "metadata": {},
   "source": [
    "## 특정 폴더내의 폴더/파일들 출력"
   ]
  },
  {
   "cell_type": "code",
   "execution_count": 5,
   "metadata": {},
   "outputs": [
    {
     "name": "stdout",
     "output_type": "stream",
     "text": [
      "\n",
      "##### 폴더/파일 목록 #####\n",
      "\n",
      "[{'id': '1Lde5wC3wacAmUIIiVZ4qDFWd89IouOft',\n",
      "  'mimeType': 'application/vnd.google-apps.folder',\n",
      "  'name': 'sub_folder2',\n",
      "  'parents': ['1eZDWJyWm_ORYzldgrEtcZTGIINfrrXdk']},\n",
      " {'id': '17lrAKEA73zf_EAuimoMmyebVAg-8p2GZ',\n",
      "  'mimeType': 'application/vnd.google-apps.folder',\n",
      "  'name': 'sub_folder1',\n",
      "  'parents': ['1eZDWJyWm_ORYzldgrEtcZTGIINfrrXdk']},\n",
      " {'id': '1T0Qb5QsHh9C3lAgDzCtHWhPTZtoD98X2',\n",
      "  'mimeType': 'text/plain',\n",
      "  'name': 'test2.txt',\n",
      "  'parents': ['1eZDWJyWm_ORYzldgrEtcZTGIINfrrXdk']},\n",
      " {'id': '1Gh1Xdgp9FLFfsf_20Ou_V_mULhz9ZXk5',\n",
      "  'mimeType': 'text/plain',\n",
      "  'name': 'test1.txt',\n",
      "  'parents': ['1eZDWJyWm_ORYzldgrEtcZTGIINfrrXdk']},\n",
      " {'id': '1EFzqg-bfKXOjHP3q7NNUM6QYuEln8sR5',\n",
      "  'mimeType': 'text/plain',\n",
      "  'name': 'Test.txt',\n",
      "  'parents': ['1eZDWJyWm_ORYzldgrEtcZTGIINfrrXdk']}]\n"
     ]
    }
   ],
   "source": [
    "response = drive.files().list(\n",
    "    q=\"'{0}' in parents\".format(FOLDER_ID),\n",
    "    spaces=\"drive\",\n",
    "    fields=\"files(id, name, mimeType, parents)\"\n",
    ").execute()\n",
    "\n",
    "files = response.get(\"files\", [])\n",
    "\n",
    "print(\"\\n##### 폴더/파일 목록 #####\\n\")\n",
    "pprint.pprint(files)"
   ]
  },
  {
   "cell_type": "markdown",
   "metadata": {},
   "source": [
    "## Paging"
   ]
  },
  {
   "cell_type": "code",
   "execution_count": 7,
   "metadata": {
    "scrolled": false
   },
   "outputs": [
    {
     "name": "stdout",
     "output_type": "stream",
     "text": [
      "\n",
      "##### 폴더/파일 목록 #####\n",
      "\n",
      "[{'id': '1hlfZu-LmjCYKduwE7ft8keoEQi_6_t4t',\n",
      "  'mimeType': 'text/plain',\n",
      "  'name': 'sub_file_1.txt',\n",
      "  'parents': ['17lrAKEA73zf_EAuimoMmyebVAg-8p2GZ']},\n",
      " {'id': '1gmtqZvJsNku3pbw2XIDFxP2arc_vMaH7',\n",
      "  'mimeType': 'text/plain',\n",
      "  'name': 'sub_file_2.txt',\n",
      "  'parents': ['17lrAKEA73zf_EAuimoMmyebVAg-8p2GZ']},\n",
      " {'id': '1Ei3-514r28E1HYAMYxrI7aE9l2adT1hX',\n",
      "  'mimeType': 'text/plain',\n",
      "  'name': 'sub_file_3.txt',\n",
      "  'parents': ['17lrAKEA73zf_EAuimoMmyebVAg-8p2GZ']}]\n",
      "\n",
      "##### nextPageToken #####\n",
      "\n",
      "~!!~AI9FV7S5VqiKETIZEDpR9dbC4ibrDxLayLpFdkyxtMfhkbd5_dmpc4zusmKD0i6vxZtqa5lm5wG63ZVTpKAhLmhx8GM5ygYYP6r0WPfsI93yWiielcccsGAXOg-fROqz7GHzx-xy7eyKya6OJ8OT1inJsj7m_GGSBCioSMmQNU_dpivY8OZ5HxIyYsX93s3YnJ8cfFSPv2DeYCrqNLDRVkOx4G3Q-GHvUWAm44ZHHUYaOcfphSBe_nacFthPnHrNNpRc8C3cIlPaNabov4iTuNATy_R5gvI0YVsn4fIIofinkMQJRfg83PqdOoTB21uva5E22GVu2IuLasIZmQqIPeRDr-puxduHuw_RNTyIIVYRWRxaBBoGmNY=\n",
      "\n",
      "##### 폴더/파일 목록 #####\n",
      "\n",
      "[{'id': '1BJyvc14JilzVckwU4I6I4IeLaH8FiWgl',\n",
      "  'mimeType': 'text/plain',\n",
      "  'name': 'sub_file_4.txt',\n",
      "  'parents': ['17lrAKEA73zf_EAuimoMmyebVAg-8p2GZ']},\n",
      " {'id': '1PnCSnQe8o0KAhk2K_ZEg3EVxmKNY3QEL',\n",
      "  'mimeType': 'text/plain',\n",
      "  'name': 'sub_file_5.txt',\n",
      "  'parents': ['17lrAKEA73zf_EAuimoMmyebVAg-8p2GZ']}]\n",
      "\n",
      "##### nextPageToken #####\n",
      "\n",
      "None\n"
     ]
    }
   ],
   "source": [
    "SUB_FOLDER_1_ID = \"17lrAKEA73zf_EAuimoMmyebVAg-8p2GZ\"\n",
    "page_token = None\n",
    "\n",
    "while True:\n",
    "    print(\"\\n##### 폴더/파일 목록 #####\\n\")\n",
    "\n",
    "    response = drive.files().list(\n",
    "        q=\"'{0}' in parents\".format(SUB_FOLDER_1_ID),\n",
    "        spaces=\"drive\",\n",
    "        fields=\"nextPageToken, files(id, name, mimeType, parents)\",\n",
    "        pageSize=3,\n",
    "        pageToken=page_token,\n",
    "        orderBy=\"name\",\n",
    "    ).execute()\n",
    "\n",
    "    files = response.get(\"files\", [])\n",
    "    pprint.pprint(files)\n",
    "\n",
    "    print(\"\\n##### nextPageToken #####\\n\")\n",
    "\n",
    "    page_token = response.get('nextPageToken', None)\n",
    "    print(page_token)\n",
    "\n",
    "    if page_token is None:\n",
    "        break;"
   ]
  },
  {
   "cell_type": "code",
   "execution_count": null,
   "metadata": {},
   "outputs": [],
   "source": []
  }
 ],
 "metadata": {
  "kernelspec": {
   "display_name": "Python 3",
   "language": "python",
   "name": "python3"
  },
  "language_info": {
   "codemirror_mode": {
    "name": "ipython",
    "version": 3
   },
   "file_extension": ".py",
   "mimetype": "text/x-python",
   "name": "python",
   "nbconvert_exporter": "python",
   "pygments_lexer": "ipython3",
   "version": "3.7.0"
  }
 },
 "nbformat": 4,
 "nbformat_minor": 2
}
