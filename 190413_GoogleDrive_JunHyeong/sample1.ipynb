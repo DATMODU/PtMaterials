{
 "cells": [
  {
   "cell_type": "code",
   "execution_count": 1,
   "metadata": {},
   "outputs": [],
   "source": [
    "# -*- coding: utf-8 -*-\n",
    "import io\n",
    "from googleapiclient.discovery import build\n",
    "from googleapiclient.http import MediaIoBaseDownload\n",
    "from oauth2client.service_account import ServiceAccountCredentials\n",
    "from httplib2 import Http\n",
    "\n",
    "SERVICE_ACC_KEY_FILE_NAME = \"service_acc_key.json\"\n",
    "SCOPES = [\"https://www.googleapis.com/auth/drive.readonly\"]\n",
    "FILE_ID = \"1EFzqg-bfKXOjHP3q7NNUM6QYuEln8sR5\"\n",
    "\n",
    "credentials = ServiceAccountCredentials.from_json_keyfile_name(SERVICE_ACC_KEY_FILE_NAME, SCOPES)\n",
    "\n",
    "http_auth = credentials.authorize(Http())\n",
    "drive = build(\"drive\", \"v3\", http=http_auth)"
   ]
  },
  {
   "cell_type": "code",
   "execution_count": 2,
   "metadata": {},
   "outputs": [
    {
     "name": "stdout",
     "output_type": "stream",
     "text": [
      "\n",
      "MetaData:\n",
      "{'kind': 'drive#file', 'id': '1EFzqg-bfKXOjHP3q7NNUM6QYuEln8sR5', 'name': 'Test.txt', 'mimeType': 'text/plain'}\n"
     ]
    }
   ],
   "source": [
    "print(\"\\nMetaData:\")\n",
    "response = drive.files().get(fileId=FILE_ID).execute()\n",
    "print(response)"
   ]
  },
  {
   "cell_type": "code",
   "execution_count": 3,
   "metadata": {},
   "outputs": [
    {
     "name": "stdout",
     "output_type": "stream",
     "text": [
      "\n",
      "Download Start\n",
      "Download 100%.\n",
      "Download Result:\n",
      "b'Test Body~'\n"
     ]
    }
   ],
   "source": [
    "print(\"\\nDownload Start\")\n",
    "request = drive.files().get_media(fileId=FILE_ID)\n",
    "buffer = io.BytesIO()\n",
    "downloader = MediaIoBaseDownload(buffer, request)\n",
    "done = False\n",
    "\n",
    "while done is False:\n",
    "\tstatus, done = downloader.next_chunk()\n",
    "\tprint(\"Download %d%%.\" % int(status.progress() * 100))\n",
    "\n",
    "print(\"Download Result:\")\n",
    "print(buffer.getvalue())"
   ]
  },
  {
   "cell_type": "code",
   "execution_count": null,
   "metadata": {},
   "outputs": [],
   "source": []
  }
 ],
 "metadata": {
  "kernelspec": {
   "display_name": "Python 3",
   "language": "python",
   "name": "python3"
  },
  "language_info": {
   "codemirror_mode": {
    "name": "ipython",
    "version": 3
   },
   "file_extension": ".py",
   "mimetype": "text/x-python",
   "name": "python",
   "nbconvert_exporter": "python",
   "pygments_lexer": "ipython3",
   "version": "3.7.0"
  }
 },
 "nbformat": 4,
 "nbformat_minor": 2
}
