{
 "cells": [
  {
   "cell_type": "markdown",
   "metadata": {},
   "source": [
    "# Google Drive 활용\n",
    "***\n",
    "\n",
    "코드를 실행해보기 위해선 다음의 파이썬 라이브러리들이 설치되어있어야 한다.  \n",
    "- google-api-python-client\n",
    "- oauth2client\n",
    "\n",
    "Anaconda Prompt에서 다음과 같은 명령어로 설치한다.\n",
    "\n",
    "```sh\n",
    "pip install google-api-python-client\n",
    "pip install oauth2client\n",
    "```"
   ]
  },
  {
   "cell_type": "markdown",
   "metadata": {},
   "source": [
    "## 1. Google Drive API 사용설정\n",
    "***\n",
    "\n",
    "\n",
    "### 1.1. 프로젝트 선택 또는 새 프로젝트 생성\n",
    "***\n",
    "\n",
    "[Google API Console](https://console.developers.google.com/)에서 Google Drive API를 사용할 프로젝트를 선택한다.  \n",
    "프로젝트가 없다면 다음과 같이 새 프로젝트를 만든다.\n",
    "\n",
    "![새 프로젝트 생성](https://raw.githubusercontent.com/3x3x3/MediaFiles/master/google_drive/mk_project.gif)\n",
    "\n",
    "\n",
    "### 1.2. Google Drive API 사용설정\n",
    "***\n",
    "\n",
    "![API 사용설정](https://raw.githubusercontent.com/3x3x3/MediaFiles/master/google_drive/enable_gd_api.gif)\n",
    "\n",
    "\n",
    "### 1.3. 사용자 인증 정보 생성\n",
    "***\n",
    "\n",
    "서버에서 사용할 것이기 때문에 서비스 계정 키를 만든다.  \n",
    "다운로드되는 서비스 계정 키는 다시 받을 수 없기 때문에 잘 보관하자.\n",
    "\n",
    "![서비스 계정 키 생성](https://raw.githubusercontent.com/3x3x3/MediaFiles/master/google_drive/mk_service_key.gif)\n",
    "\n",
    "\n",
    "### 1.4. Google Drive의 폴더에 권한설정\n",
    "***\n",
    "\n",
    "서비스 계정의 이메일로 사용할 폴더에 권한을 준다.\n",
    "\n",
    "![폴더에 권한](https://raw.githubusercontent.com/3x3x3/MediaFiles/master/google_drive/set_auth_to_folder.gif)\n",
    "\n",
    "### 1.5. 공통적으로 사용하는 코드\n",
    "***"
   ]
  },
  {
   "cell_type": "code",
   "execution_count": 1,
   "metadata": {},
   "outputs": [],
   "source": [
    "# -*- coding: utf-8 -*-\n",
    "import io\n",
    "import pprint\n",
    "from googleapiclient.discovery import build\n",
    "from oauth2client.service_account import ServiceAccountCredentials\n",
    "from httplib2 import Http\n",
    "\n",
    "# 다운 받은 서비스 계정 키의 파일명을 service_acc_key.json로 변경하거나 아래 코드를 변경\n",
    "SERVICE_ACC_KEY_FILE_NAME = \"service_acc_key.json\"\n",
    "\n",
    "# SCOPES에 들어가는 값들은 다음 URL을 참조: https://developers.google.com/drive/api/v3/about-auth\n",
    "SCOPES = [\n",
    "    \"https://www.googleapis.com/auth/drive\"\n",
    "]\n",
    "\n",
    "credentials = ServiceAccountCredentials.from_json_keyfile_name(SERVICE_ACC_KEY_FILE_NAME, SCOPES)\n",
    "http_auth = credentials.authorize(Http())\n",
    "drive = build(\"drive\", \"v3\", http=http_auth)"
   ]
  },
  {
   "cell_type": "markdown",
   "metadata": {},
   "source": [
    "## 2. 읽기\n",
    "***\n",
    "\n",
    "\n",
    "### 2.1. 특정 파일/폴더의 ID를 알아내기\n",
    "***\n",
    "\n",
    "![파일/폴더의 ID 알아내기](https://raw.githubusercontent.com/3x3x3/MediaFiles/master/google_drive/get_file_id.gif)\n",
    "\n",
    "\n",
    "\n",
    "### 2.2. 특정 폴더 내 모든 폴더 및 파일들의 MetaData를 출력\n",
    "***"
   ]
  },
  {
   "cell_type": "code",
   "execution_count": 2,
   "metadata": {},
   "outputs": [
    {
     "name": "stdout",
     "output_type": "stream",
     "text": [
      "\n",
      "##### List of Metadata #####\n",
      "\n",
      "[{'id': '1EFzqg-bfKXOjHP3q7NNUM6QYuEln8sR5',\n",
      "  'mimeType': 'text/plain',\n",
      "  'name': 'Test.txt',\n",
      "  'parents': ['1kBvzgj9MIuDLNqN0cVZhR-wDDfvbKXH4']},\n",
      " {'id': '1Lde5wC3wacAmUIIiVZ4qDFWd89IouOft',\n",
      "  'mimeType': 'application/vnd.google-apps.folder',\n",
      "  'name': 'sub_folder2',\n",
      "  'parents': ['1kBvzgj9MIuDLNqN0cVZhR-wDDfvbKXH4']},\n",
      " {'id': '17lrAKEA73zf_EAuimoMmyebVAg-8p2GZ',\n",
      "  'mimeType': 'application/vnd.google-apps.folder',\n",
      "  'name': 'sub_folder1',\n",
      "  'parents': ['1kBvzgj9MIuDLNqN0cVZhR-wDDfvbKXH4']},\n",
      " {'id': '1T0Qb5QsHh9C3lAgDzCtHWhPTZtoD98X2',\n",
      "  'mimeType': 'text/plain',\n",
      "  'name': 'test2.txt',\n",
      "  'parents': ['1kBvzgj9MIuDLNqN0cVZhR-wDDfvbKXH4']},\n",
      " {'id': '1Gh1Xdgp9FLFfsf_20Ou_V_mULhz9ZXk5',\n",
      "  'mimeType': 'text/plain',\n",
      "  'name': 'test1.txt',\n",
      "  'parents': ['1kBvzgj9MIuDLNqN0cVZhR-wDDfvbKXH4']}]\n"
     ]
    }
   ],
   "source": [
    "FOLDER_ID = \"1kBvzgj9MIuDLNqN0cVZhR-wDDfvbKXH4\"\n",
    "\n",
    "response = drive.files().list(\n",
    "    q=\"'{0}' in parents\".format(FOLDER_ID),\n",
    "    spaces=\"drive\",\n",
    "    fields=\"files(id, name, mimeType, parents)\"\n",
    ").execute()\n",
    "\n",
    "files = response.get(\"files\", [])\n",
    "\n",
    "print(\"\\n##### List of Metadata #####\\n\")\n",
    "pprint.pprint(files)"
   ]
  },
  {
   "cell_type": "markdown",
   "metadata": {},
   "source": [
    "### 2.3. Paging\n",
    "***\n",
    "폴더내의 목록을 불러올 때 기본적으로 100개까지 불러오게 되며, pageSize에 값을 줘서 한 번에 조회되는 개수를 조절할 수 있다. (1 ~ 1000개)  \n",
    "조회하려는 목록이 한 번에 조회되는 목록보다 많을 때는 Paging 처리를 해야 한다."
   ]
  },
  {
   "cell_type": "code",
   "execution_count": 3,
   "metadata": {},
   "outputs": [
    {
     "name": "stdout",
     "output_type": "stream",
     "text": [
      "\n",
      "##### List of Metadata #####\n",
      "\n",
      "[{'id': '1hlfZu-LmjCYKduwE7ft8keoEQi_6_t4t',\n",
      "  'mimeType': 'text/plain',\n",
      "  'name': 'sub_file_1.txt',\n",
      "  'parents': ['17lrAKEA73zf_EAuimoMmyebVAg-8p2GZ']},\n",
      " {'id': '1gmtqZvJsNku3pbw2XIDFxP2arc_vMaH7',\n",
      "  'mimeType': 'text/plain',\n",
      "  'name': 'sub_file_2.txt',\n",
      "  'parents': ['17lrAKEA73zf_EAuimoMmyebVAg-8p2GZ']},\n",
      " {'id': '1Ei3-514r28E1HYAMYxrI7aE9l2adT1hX',\n",
      "  'mimeType': 'text/plain',\n",
      "  'name': 'sub_file_3.txt',\n",
      "  'parents': ['17lrAKEA73zf_EAuimoMmyebVAg-8p2GZ']}]\n",
      "\n",
      "##### nextPageToken #####\n",
      "\n",
      "~!!~AI9FV7T59la2smTVqJH4x-lqS0AOLqo5pY4tXG1PeRuKQMceOMFKU4LIxZfkBLIcyfxYMlxFjDReagWwhI_VYeP45ecbwGYk2IK7r7hPl92FXUDDMORy69ThlelKNRDIkB4vP01xcRPT2bZivEjptPvjHiESTHXfzkh5z4BaW3jzP1gafAdvA-hQVOjbuDlw433ZcY4QugsNR3AWvcfuhMX7AOmYjDKacZGXljQHdkj0_jeeSoLwph7JVKA1cLajBX43FYrUqlHw7F3ZgiaUAV-V7a3XfCd7j2Vgamw7bVAMHI0pLhgD_crjD1HNg3dNP12DV5hMpCcxih9X1rbpa7LR6oGQ76oaPT7LZVDUy4PsbP_BPXvYsGQ=\n",
      "\n",
      "##### List of Metadata #####\n",
      "\n",
      "[{'id': '1BJyvc14JilzVckwU4I6I4IeLaH8FiWgl',\n",
      "  'mimeType': 'text/plain',\n",
      "  'name': 'sub_file_4.txt',\n",
      "  'parents': ['17lrAKEA73zf_EAuimoMmyebVAg-8p2GZ']},\n",
      " {'id': '1PnCSnQe8o0KAhk2K_ZEg3EVxmKNY3QEL',\n",
      "  'mimeType': 'text/plain',\n",
      "  'name': 'sub_file_5.txt',\n",
      "  'parents': ['17lrAKEA73zf_EAuimoMmyebVAg-8p2GZ']}]\n",
      "\n",
      "##### nextPageToken #####\n",
      "\n",
      "None\n"
     ]
    }
   ],
   "source": [
    "FOLDER_ID = \"17lrAKEA73zf_EAuimoMmyebVAg-8p2GZ\"\n",
    "page_token = None\n",
    "\n",
    "while True:\n",
    "    print(\"\\n##### List of Metadata #####\\n\")\n",
    "\n",
    "    response = drive.files().list(\n",
    "        q=\"'{0}' in parents\".format(FOLDER_ID),\n",
    "        spaces=\"drive\",\n",
    "        fields=\"nextPageToken, files(id, name, mimeType, parents)\",\n",
    "        pageSize=3,  # 한 번에 조회할 개수\n",
    "        pageToken=page_token,\n",
    "        orderBy=\"name\",\n",
    "    ).execute()\n",
    "\n",
    "    files = response.get(\"files\", [])\n",
    "    pprint.pprint(files)\n",
    "\n",
    "    print(\"\\n##### nextPageToken #####\\n\")\n",
    "\n",
    "    page_token = response.get('nextPageToken', None)\n",
    "    print(page_token)\n",
    "\n",
    "    if page_token is None:\n",
    "        break;"
   ]
  },
  {
   "cell_type": "markdown",
   "metadata": {},
   "source": [
    "### 2.4. 폴더/파일의 ID를 이용하여 Metadata를 출력\n",
    "***"
   ]
  },
  {
   "cell_type": "code",
   "execution_count": 4,
   "metadata": {},
   "outputs": [
    {
     "name": "stdout",
     "output_type": "stream",
     "text": [
      "\n",
      "##### File's MetaData #####\n",
      "\n",
      "{'id': '1EFzqg-bfKXOjHP3q7NNUM6QYuEln8sR5',\n",
      " 'kind': 'drive#file',\n",
      " 'mimeType': 'text/plain',\n",
      " 'name': 'Test.txt',\n",
      " 'size': '10'}\n",
      "\n",
      "\n",
      "##### Folder's MetaData #####\n",
      "\n",
      "{'id': '1kBvzgj9MIuDLNqN0cVZhR-wDDfvbKXH4',\n",
      " 'kind': 'drive#file',\n",
      " 'mimeType': 'application/vnd.google-apps.folder',\n",
      " 'name': 'sample1'}\n"
     ]
    }
   ],
   "source": [
    "FILE_ID = \"1EFzqg-bfKXOjHP3q7NNUM6QYuEln8sR5\"  # 샘플로 읽어볼 파일의 ID\n",
    "FOLDER_ID = \"1kBvzgj9MIuDLNqN0cVZhR-wDDfvbKXH4\"  # 샘플로 읽어볼 폴더의 ID\n",
    "\n",
    "# fields에 들어가는 인자는 다음 URL을 참조: https://developers.google.com/drive/api/v3/reference/files\n",
    "FIELDS = \"kind, id, name, mimeType, size\"\n",
    "\n",
    "print(\"\\n##### File's MetaData #####\\n\")\n",
    "response = drive.files().get(fileId=FILE_ID, fields=FIELDS).execute()\n",
    "pprint.pprint(response)\n",
    "\n",
    "print(\"\\n\\n##### Folder's MetaData #####\\n\")\n",
    "response = drive.files().get(fileId=FOLDER_ID, fields=FIELDS).execute()\n",
    "pprint.pprint(response)"
   ]
  },
  {
   "cell_type": "markdown",
   "metadata": {},
   "source": [
    "### 2.5. 파일 다운로드\n",
    "***"
   ]
  },
  {
   "cell_type": "code",
   "execution_count": 5,
   "metadata": {
    "scrolled": true
   },
   "outputs": [
    {
     "name": "stdout",
     "output_type": "stream",
     "text": [
      "\n",
      "##### Download Start #####\n",
      "\n",
      "Download 100%.\n",
      "\n",
      "\n",
      "##### Download Result #####\n",
      "\n",
      "b'Test Body~'\n"
     ]
    }
   ],
   "source": [
    "from googleapiclient.http import MediaIoBaseDownload\n",
    "\n",
    "FILE_ID = \"1EFzqg-bfKXOjHP3q7NNUM6QYuEln8sR5\"  # 다운로드 받을 파일의 ID\n",
    "\n",
    "print(\"\\n##### Download Start #####\\n\")\n",
    "request = drive.files().get_media(fileId=FILE_ID)\n",
    "buffer = io.BytesIO()\n",
    "downloader = MediaIoBaseDownload(buffer, request)\n",
    "done = False\n",
    "\n",
    "while done is False:\n",
    "    status, done = downloader.next_chunk()\n",
    "    print(\"Download %d%%.\" % int(status.progress() * 100))\n",
    "\n",
    "print(\"\\n\\n##### Download Result #####\\n\")\n",
    "print(buffer.getvalue())"
   ]
  },
  {
   "cell_type": "markdown",
   "metadata": {},
   "source": [
    "## 3. 쓰기\n",
    "***\n",
    "\n",
    "### 3.1. 파일 업로드\n",
    "***"
   ]
  },
  {
   "cell_type": "code",
   "execution_count": 6,
   "metadata": {},
   "outputs": [
    {
     "name": "stdout",
     "output_type": "stream",
     "text": [
      "\n",
      "\n",
      "##### Upload Result #####\n",
      "\n",
      "{'kind': 'drive#file', 'id': '1K36UUHJ0gymqWzmrxsOIU4OgUkuiOl7T', 'name': 'file_up_test.txt', 'mimeType': 'text/plain'}\n"
     ]
    }
   ],
   "source": [
    "from googleapiclient.http import MediaFileUpload\n",
    "\n",
    "FOLDER_ID = \"1nWQXXoOGoOIsEJk5GLvUmVqWACWy53Ho\"  # 여기에 업로드\n",
    "\n",
    "meta_data = {\n",
    "    \"name\": \"file_up_test.txt\",\n",
    "    \"parents\": [FOLDER_ID],\n",
    "}\n",
    "\n",
    "uploader = MediaFileUpload(\"upload_test.txt\", mimetype=\"text/plain\")\n",
    "response = drive.files().create(body=meta_data, media_body=uploader).execute()\n",
    "\n",
    "print(\"\\n\\n##### Upload Result #####\\n\")\n",
    "print(response)"
   ]
  },
  {
   "cell_type": "markdown",
   "metadata": {},
   "source": [
    "### 3.2. 메모리 업로드\n",
    "***"
   ]
  },
  {
   "cell_type": "code",
   "execution_count": 7,
   "metadata": {},
   "outputs": [
    {
     "name": "stdout",
     "output_type": "stream",
     "text": [
      "\n",
      "\n",
      "##### Upload Result #####\n",
      "\n",
      "{'kind': 'drive#file', 'id': '19aSrY6fCjIhXDeGej3XCJd1qEBJusrAJ', 'name': 'mem_up_test.txt', 'mimeType': 'text/plain'}\n"
     ]
    }
   ],
   "source": [
    "from googleapiclient.http import MediaIoBaseUpload\n",
    "\n",
    "FOLDER_ID = \"1nWQXXoOGoOIsEJk5GLvUmVqWACWy53Ho\"  # 여기에 업로드\n",
    "\n",
    "meta_data = {\n",
    "    \"name\": \"mem_up_test.txt\",\n",
    "    \"parents\": [FOLDER_ID],\n",
    "}\n",
    "\n",
    "buffer = io.BytesIO()\n",
    "buffer.write(b\"hello world!\")\n",
    "\n",
    "uploader = MediaIoBaseUpload(fd=buffer, mimetype=\"text/plain\")\n",
    "response = drive.files().create(\n",
    "    body=meta_data, \n",
    "    media_body=uploader\n",
    ").execute()\n",
    "\n",
    "print(\"\\n\\n##### Upload Result #####\\n\")\n",
    "print(response)"
   ]
  },
  {
   "cell_type": "markdown",
   "metadata": {},
   "source": [
    "## 4. 수정\n",
    "***"
   ]
  },
  {
   "cell_type": "code",
   "execution_count": 8,
   "metadata": {},
   "outputs": [
    {
     "name": "stdout",
     "output_type": "stream",
     "text": [
      "\n",
      "##### Upload Result #####\n",
      "\n",
      "{'kind': 'drive#file', 'id': '19aSrY6fCjIhXDeGej3XCJd1qEBJusrAJ', 'name': 'mem_up_test2.txt', 'mimeType': 'text/plain'}\n"
     ]
    }
   ],
   "source": [
    "FILE_ID = response[\"id\"]  # 위에서 메모리 업로드로 Create된 파일의 ID\n",
    "\n",
    "meta_data = {\n",
    "    \"name\": \"mem_up_test2.txt\",\n",
    "}\n",
    "\n",
    "buffer = io.BytesIO()\n",
    "buffer.write(b\"hi\")\n",
    "\n",
    "uploader = MediaIoBaseUpload(fd=buffer, mimetype=\"text/plain\")\n",
    "response = drive.files().update(\n",
    "    fileId=FILE_ID,\n",
    "    body=meta_data, \n",
    "    media_body=uploader\n",
    ").execute()\n",
    "\n",
    "print(\"\\n##### Upload Result #####\\n\")\n",
    "print(response)"
   ]
  },
  {
   "cell_type": "markdown",
   "metadata": {},
   "source": [
    "## 5. 삭제\n",
    "***"
   ]
  },
  {
   "cell_type": "code",
   "execution_count": 9,
   "metadata": {
    "scrolled": true
   },
   "outputs": [
    {
     "name": "stdout",
     "output_type": "stream",
     "text": [
      "\n",
      "##### Delete Result #####\n",
      "\n",
      "Complete\n"
     ]
    }
   ],
   "source": [
    "response = drive.files().delete(fileId=FILE_ID).execute()\n",
    "\n",
    "print(\"\\n##### Delete Result #####\\n\")\n",
    "\n",
    "if 0 == len(response):\n",
    "    print(\"Complete\")\n",
    "else:\n",
    "    print(\"Failed to delete\")"
   ]
  },
  {
   "cell_type": "code",
   "execution_count": null,
   "metadata": {},
   "outputs": [],
   "source": []
  }
 ],
 "metadata": {
  "kernelspec": {
   "display_name": "Python 3",
   "language": "python",
   "name": "python3"
  },
  "language_info": {
   "codemirror_mode": {
    "name": "ipython",
    "version": 3
   },
   "file_extension": ".py",
   "mimetype": "text/x-python",
   "name": "python",
   "nbconvert_exporter": "python",
   "pygments_lexer": "ipython3",
   "version": "3.7.0"
  }
 },
 "nbformat": 4,
 "nbformat_minor": 2
}
