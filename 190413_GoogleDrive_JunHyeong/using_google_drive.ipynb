{
 "cells": [
  {
   "cell_type": "markdown",
   "metadata": {},
   "source": [
    "# Google Drive 활용\n",
    "\n",
    "## Google Drive API 사용설정\n",
    "\n",
    "\n",
    "[Google Developers Console](https://console.developers.google.com/)에서 Google Drive API를 사용할 프로젝트를 선택한다.  \n",
    "프로젝트가 없다면 다음과 같이 새 프로젝트를 만든다.\n",
    "\n",
    "### 새 프로젝트 생성\n",
    "![새 프로젝트 생성](https://raw.githubusercontent.com/3x3x3/MediaFiles/master/google_drive/mk_project.gif)\n",
    "\n",
    "### Google Drive API를 사용설정 한다.\n",
    "![API 사용설정](https://raw.githubusercontent.com/3x3x3/MediaFiles/master/google_drive/enable_gd_api.gif)\n",
    "\n",
    "### 서비스 계정 키를 만든다.\n",
    "![서비스 계정 키 생성](https://raw.githubusercontent.com/3x3x3/MediaFiles/master/google_drive/mk_service_key.gif)\n",
    "\n",
    "### 서비스 계정의 이메일로 폴더에 권한을 준다.\n",
    "![폴더에 권한](https://raw.githubusercontent.com/3x3x3/MediaFiles/master/google_drive/set_auth_to_folder.gif)\n"
   ]
  },
  {
   "cell_type": "code",
   "execution_count": null,
   "metadata": {},
   "outputs": [],
   "source": []
  }
 ],
 "metadata": {
  "kernelspec": {
   "display_name": "Python 3",
   "language": "python",
   "name": "python3"
  },
  "language_info": {
   "codemirror_mode": {
    "name": "ipython",
    "version": 3
   },
   "file_extension": ".py",
   "mimetype": "text/x-python",
   "name": "python",
   "nbconvert_exporter": "python",
   "pygments_lexer": "ipython3",
   "version": "3.7.0"
  }
 },
 "nbformat": 4,
 "nbformat_minor": 2
}
