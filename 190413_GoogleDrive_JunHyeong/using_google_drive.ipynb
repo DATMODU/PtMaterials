{
 "cells": [
  {
   "cell_type": "markdown",
   "metadata": {},
   "source": [
    "# Google Drive 활용\n",
    "***\n",
    "\n",
    "코드를 실행해보기 위해선 다음의 파이썬 라이브러리들이 설치되어있어야 한다.  \n",
    "- google-api-python-client\n",
    "- oauth2client\n",
    "\n",
    "Anaconda Prompt에서 다음과 같은 명령어로 설치한다.\n",
    "\n",
    "```sh\n",
    "pip install google-api-python-client\n",
    "pip install oauth2client\n",
    "```"
   ]
  },
  {
   "cell_type": "markdown",
   "metadata": {},
   "source": [
    "## 1. Google Drive API 사용설정\n",
    "***\n",
    "\n",
    "\n",
    "### 1.1. 프로젝트 선택 또는 새 프로젝트 생성\n",
    "***\n",
    "\n",
    "[Google API Console](https://console.developers.google.com/)에서 Google Drive API를 사용할 프로젝트를 선택한다.  \n",
    "프로젝트가 없다면 다음과 같이 새 프로젝트를 만든다.\n",
    "\n",
    "![새 프로젝트 생성](https://raw.githubusercontent.com/3x3x3/MediaFiles/master/google_drive/mk_project.gif)\n",
    "\n",
    "\n",
    "### 1.2. Google Drive API 사용설정\n",
    "***\n",
    "\n",
    "![API 사용설정](https://raw.githubusercontent.com/3x3x3/MediaFiles/master/google_drive/enable_gd_api.gif)\n",
    "\n",
    "\n",
    "### 1.3. 사용자 인증 정보 생성\n",
    "***\n",
    "\n",
    "서버에서 사용할 것이기 때문에 서비스 계정 키를 만든다.  \n",
    "다운로드되는 서비스 계정 키는 다시 받을 수 없기 때문에 잘 보관하자.\n",
    "\n",
    "![서비스 계정 키 생성](https://raw.githubusercontent.com/3x3x3/MediaFiles/master/google_drive/mk_service_key.gif)\n",
    "\n",
    "\n",
    "### 1.4. Google Drive의 폴더에 권한설정\n",
    "***\n",
    "\n",
    "서비스 계정의 이메일로 사용할 폴더에 권한을 준다.\n",
    "\n",
    "![폴더에 권한](https://raw.githubusercontent.com/3x3x3/MediaFiles/master/google_drive/set_auth_to_folder.gif)\n",
    "\n",
    "### 1.5. 공통적으로 사용하는 코드\n",
    "***"
   ]
  },
  {
   "cell_type": "code",
   "execution_count": 1,
   "metadata": {},
   "outputs": [],
   "source": [
    "# -*- coding: utf-8 -*-\n",
    "import io\n",
    "import pprint\n",
    "from googleapiclient.discovery import build\n",
    "from oauth2client.service_account import ServiceAccountCredentials\n",
    "from httplib2 import Http\n",
    "\n",
    "# 다운 받은 서비스 계정 키의 파일명을 service_acc_key.json로 변경하거나 아래 코드를 변경\n",
    "SERVICE_ACC_KEY_FILE_NAME = \"service_acc_key.json\"\n",
    "\n",
    "# SCOPES에 들어가는 값들은 다음 URL을 참조: https://developers.google.com/drive/api/v3/about-auth\n",
    "SCOPES = [\n",
    "    \"https://www.googleapis.com/auth/drive\"\n",
    "]\n",
    "\n",
    "credentials = ServiceAccountCredentials.from_json_keyfile_name(SERVICE_ACC_KEY_FILE_NAME, SCOPES)\n",
    "http_auth = credentials.authorize(Http())\n",
    "drive = build(\"drive\", \"v3\", http=http_auth)"
   ]
  },
  {
   "cell_type": "markdown",
   "metadata": {},
   "source": [
    "## 2. 기본적인 사용\n",
    "***\n",
    "\n",
    "\n",
    "### 2.1. 읽기\n",
    "***\n",
    "\n",
    "\n",
    "### 2.1.1. 특정 파일/폴더의 ID를 알아내기\n",
    "***\n",
    "\n",
    "![파일/폴더의 ID 알아내기](https://raw.githubusercontent.com/3x3x3/MediaFiles/master/google_drive/get_file_id.gif)\n",
    "\n",
    "\n",
    "\n",
    "### 2.1.2. 파일/폴더 검색\n",
    "***\n",
    "\n",
    "query를 이용하여 원하는 파일 또는 폴더를 검색할 수 있다.  \n",
    "참조: <https://developers.google.com/drive/api/v3/search-parameters>  \n",
    "다음은 특정 폴더에 있는 test1.txt라는 파일을 찾는 예제이다."
   ]
  },
  {
   "cell_type": "code",
   "execution_count": 2,
   "metadata": {},
   "outputs": [
    {
     "name": "stdout",
     "output_type": "stream",
     "text": [
      "\n",
      "##### Metadata #####\n",
      "\n",
      "[{'id': '1Gh1Xdgp9FLFfsf_20Ou_V_mULhz9ZXk5', 'name': 'test1.txt', 'mimeType': 'text/plain', 'size': '3'}]\n"
     ]
    }
   ],
   "source": [
    "FOLDER_ID = \"1kBvzgj9MIuDLNqN0cVZhR-wDDfvbKXH4\"\n",
    "\n",
    "response = drive.files().list(\n",
    "    q=\"'{0}' in parents and name = '{1}'\".format(FOLDER_ID, \"test1.txt\"),\n",
    "    spaces=\"drive\",\n",
    "    fields=\"files(id, name, mimeType, size)\"\n",
    ").execute()\n",
    "\n",
    "files = response.get(\"files\", [])\n",
    "\n",
    "print(\"\\n##### Metadata #####\\n\")\n",
    "print(files)"
   ]
  },
  {
   "cell_type": "markdown",
   "metadata": {},
   "source": [
    "### 2.1.3. Paging\n",
    "***\n",
    "폴더내의 목록을 불러올 때 기본적으로 100개까지 불러오게 되며, pageSize에 값을 줘서 한 번에 조회되는 개수를 조절할 수 있다. (1 ~ 1000개)  \n",
    "조회하려는 목록이 한 번에 조회되는 목록보다 많을 때는 Paging 처리를 해야 한다."
   ]
  },
  {
   "cell_type": "code",
   "execution_count": 3,
   "metadata": {},
   "outputs": [
    {
     "name": "stdout",
     "output_type": "stream",
     "text": [
      "\n",
      "##### List of Metadata #####\n",
      "\n",
      "[{'id': '1hlfZu-LmjCYKduwE7ft8keoEQi_6_t4t',\n",
      "  'mimeType': 'text/plain',\n",
      "  'name': 'sub_file_1.txt',\n",
      "  'parents': ['17lrAKEA73zf_EAuimoMmyebVAg-8p2GZ']},\n",
      " {'id': '1gmtqZvJsNku3pbw2XIDFxP2arc_vMaH7',\n",
      "  'mimeType': 'text/plain',\n",
      "  'name': 'sub_file_2.txt',\n",
      "  'parents': ['17lrAKEA73zf_EAuimoMmyebVAg-8p2GZ']},\n",
      " {'id': '1Ei3-514r28E1HYAMYxrI7aE9l2adT1hX',\n",
      "  'mimeType': 'text/plain',\n",
      "  'name': 'sub_file_3.txt',\n",
      "  'parents': ['17lrAKEA73zf_EAuimoMmyebVAg-8p2GZ']}]\n",
      "\n",
      "##### nextPageToken #####\n",
      "\n",
      "~!!~AI9FV7T59la2smTVqJH4x-lqS0AOLqo5pY4tXG1PeRuKQMceOMFKU4LIxZfkBLIcyfxYMlxFjDReagWwhI_VYeP45ecbwGYk2IK7r7hPl92FXUDDMORy69ThlelKNRDIkB4vP01xcRPT2bZivEjptPvjHiESTHXfzkh5z4BaW3jzP1gafAdvA-hQVOjbuDlw433ZcY4QugsNR3AWvcfuhMX7AOmYjDKacZGXljQHdkj0_jeeSoLwph7JVKA1cLajBX43FYrUqlHw7F3ZgiaUAV-V7a3XrnUlXk1KtL-JlkY81j9l3JXRRg7Yql1qPahAts7Duggo-oaTiTuNVPeRvDzstwRxq_x76E_ww_sNfXqhD3IJpYZBTVs=\n",
      "\n",
      "##### List of Metadata #####\n",
      "\n",
      "[{'id': '1BJyvc14JilzVckwU4I6I4IeLaH8FiWgl',\n",
      "  'mimeType': 'text/plain',\n",
      "  'name': 'sub_file_4.txt',\n",
      "  'parents': ['17lrAKEA73zf_EAuimoMmyebVAg-8p2GZ']},\n",
      " {'id': '1PnCSnQe8o0KAhk2K_ZEg3EVxmKNY3QEL',\n",
      "  'mimeType': 'text/plain',\n",
      "  'name': 'sub_file_5.txt',\n",
      "  'parents': ['17lrAKEA73zf_EAuimoMmyebVAg-8p2GZ']}]\n",
      "\n",
      "##### nextPageToken #####\n",
      "\n",
      "None\n"
     ]
    }
   ],
   "source": [
    "FOLDER_ID = \"17lrAKEA73zf_EAuimoMmyebVAg-8p2GZ\"\n",
    "page_token = None\n",
    "\n",
    "while True:\n",
    "    print(\"\\n##### List of Metadata #####\\n\")\n",
    "\n",
    "    response = drive.files().list(\n",
    "        q=\"'{0}' in parents\".format(FOLDER_ID),\n",
    "        spaces=\"drive\",\n",
    "        fields=\"nextPageToken, files(id, name, mimeType, parents)\",\n",
    "        pageSize=3,  # 한 번에 조회할 개수\n",
    "        pageToken=page_token,\n",
    "        orderBy=\"name\",\n",
    "    ).execute()\n",
    "\n",
    "    files = response.get(\"files\", [])\n",
    "    pprint.pprint(files)\n",
    "\n",
    "    print(\"\\n##### nextPageToken #####\\n\")\n",
    "\n",
    "    page_token = response.get('nextPageToken', None)\n",
    "    print(page_token)\n",
    "\n",
    "    if page_token is None:\n",
    "        break;"
   ]
  },
  {
   "cell_type": "markdown",
   "metadata": {},
   "source": [
    "### 2.1.4. 폴더/파일의 ID를 이용하여 Metadata를 출력\n",
    "***"
   ]
  },
  {
   "cell_type": "code",
   "execution_count": 4,
   "metadata": {},
   "outputs": [
    {
     "name": "stdout",
     "output_type": "stream",
     "text": [
      "\n",
      "##### File's MetaData #####\n",
      "\n",
      "{'id': '1EFzqg-bfKXOjHP3q7NNUM6QYuEln8sR5',\n",
      " 'kind': 'drive#file',\n",
      " 'mimeType': 'text/plain',\n",
      " 'name': 'Test.txt',\n",
      " 'size': '10'}\n",
      "\n",
      "\n",
      "##### Folder's MetaData #####\n",
      "\n",
      "{'id': '1kBvzgj9MIuDLNqN0cVZhR-wDDfvbKXH4',\n",
      " 'kind': 'drive#file',\n",
      " 'mimeType': 'application/vnd.google-apps.folder',\n",
      " 'name': 'sample1'}\n"
     ]
    }
   ],
   "source": [
    "FILE_ID = \"1EFzqg-bfKXOjHP3q7NNUM6QYuEln8sR5\"  # 샘플로 읽어볼 파일의 ID\n",
    "FOLDER_ID = \"1kBvzgj9MIuDLNqN0cVZhR-wDDfvbKXH4\"  # 샘플로 읽어볼 폴더의 ID\n",
    "\n",
    "# fields에 들어가는 인자는 다음 URL을 참조: https://developers.google.com/drive/api/v3/reference/files\n",
    "FIELDS = \"kind, id, name, mimeType, size\"\n",
    "\n",
    "print(\"\\n##### File's MetaData #####\\n\")\n",
    "response = drive.files().get(fileId=FILE_ID, fields=FIELDS).execute()\n",
    "pprint.pprint(response)\n",
    "\n",
    "print(\"\\n\\n##### Folder's MetaData #####\\n\")\n",
    "response = drive.files().get(fileId=FOLDER_ID, fields=FIELDS).execute()\n",
    "pprint.pprint(response)"
   ]
  },
  {
   "cell_type": "markdown",
   "metadata": {},
   "source": [
    "### 2.1.5. 파일 다운로드\n",
    "***"
   ]
  },
  {
   "cell_type": "code",
   "execution_count": 5,
   "metadata": {
    "scrolled": true
   },
   "outputs": [
    {
     "name": "stdout",
     "output_type": "stream",
     "text": [
      "\n",
      "##### Download Start #####\n",
      "\n",
      "Download 100%.\n",
      "\n",
      "\n",
      "##### Download Result #####\n",
      "\n",
      "b'Test Body~'\n"
     ]
    }
   ],
   "source": [
    "from googleapiclient.http import MediaIoBaseDownload\n",
    "\n",
    "FILE_ID = \"1EFzqg-bfKXOjHP3q7NNUM6QYuEln8sR5\"  # 다운로드 받을 파일의 ID\n",
    "\n",
    "print(\"\\n##### Download Start #####\\n\")\n",
    "request = drive.files().get_media(fileId=FILE_ID)\n",
    "buffer = io.BytesIO()\n",
    "downloader = MediaIoBaseDownload(buffer, request)\n",
    "done = False\n",
    "\n",
    "while done is False:\n",
    "    status, done = downloader.next_chunk()\n",
    "    print(\"Download %d%%.\" % int(status.progress() * 100))\n",
    "\n",
    "print(\"\\n\\n##### Download Result #####\\n\")\n",
    "print(buffer.getvalue())"
   ]
  },
  {
   "cell_type": "markdown",
   "metadata": {},
   "source": [
    "## 2.2. 쓰기\n",
    "***\n",
    "\n",
    "### 2.2.1. 파일 업로드\n",
    "***"
   ]
  },
  {
   "cell_type": "code",
   "execution_count": 6,
   "metadata": {},
   "outputs": [
    {
     "name": "stdout",
     "output_type": "stream",
     "text": [
      "\n",
      "\n",
      "##### Upload Result #####\n",
      "\n",
      "{'kind': 'drive#file', 'id': '1BMO-YbWOT0duajzbOyI_3UXm5VQxTkyJ', 'name': 'file_up_test.txt', 'mimeType': 'text/plain'}\n"
     ]
    }
   ],
   "source": [
    "from googleapiclient.http import MediaFileUpload\n",
    "\n",
    "FOLDER_ID = \"1nWQXXoOGoOIsEJk5GLvUmVqWACWy53Ho\"  # 여기에 업로드\n",
    "\n",
    "meta_data = {\n",
    "    \"name\": \"file_up_test.txt\",\n",
    "    \"parents\": [FOLDER_ID],\n",
    "}\n",
    "\n",
    "uploader = MediaFileUpload(\"upload_test.txt\", mimetype=\"text/plain\")\n",
    "response = drive.files().create(body=meta_data, media_body=uploader).execute()\n",
    "\n",
    "print(\"\\n\\n##### Upload Result #####\\n\")\n",
    "print(response)"
   ]
  },
  {
   "cell_type": "markdown",
   "metadata": {},
   "source": [
    "### 2.2.2. 메모리 업로드\n",
    "***"
   ]
  },
  {
   "cell_type": "code",
   "execution_count": 7,
   "metadata": {},
   "outputs": [
    {
     "name": "stdout",
     "output_type": "stream",
     "text": [
      "\n",
      "\n",
      "##### Upload Result #####\n",
      "\n",
      "{'kind': 'drive#file', 'id': '1hcnnOc2LHn6U0OWK5uit675wdduFxqNP', 'name': 'mem_up_test.txt', 'mimeType': 'text/plain'}\n"
     ]
    }
   ],
   "source": [
    "from googleapiclient.http import MediaIoBaseUpload\n",
    "\n",
    "FOLDER_ID = \"1nWQXXoOGoOIsEJk5GLvUmVqWACWy53Ho\"  # 여기에 업로드\n",
    "\n",
    "meta_data = {\n",
    "    \"name\": \"mem_up_test.txt\",\n",
    "    \"parents\": [FOLDER_ID],\n",
    "}\n",
    "\n",
    "buffer = io.BytesIO()\n",
    "buffer.write(b\"hello world!\")\n",
    "\n",
    "uploader = MediaIoBaseUpload(fd=buffer, mimetype=\"text/plain\")\n",
    "response = drive.files().create(\n",
    "    body=meta_data, \n",
    "    media_body=uploader\n",
    ").execute()\n",
    "\n",
    "print(\"\\n\\n##### Upload Result #####\\n\")\n",
    "print(response)"
   ]
  },
  {
   "cell_type": "markdown",
   "metadata": {},
   "source": [
    "## 2.3. 수정\n",
    "***"
   ]
  },
  {
   "cell_type": "code",
   "execution_count": 8,
   "metadata": {},
   "outputs": [
    {
     "name": "stdout",
     "output_type": "stream",
     "text": [
      "\n",
      "##### Upload Result #####\n",
      "\n",
      "{'kind': 'drive#file', 'id': '1hcnnOc2LHn6U0OWK5uit675wdduFxqNP', 'name': 'mem_up_test2.txt', 'mimeType': 'text/plain'}\n"
     ]
    }
   ],
   "source": [
    "FILE_ID = response[\"id\"]  # 위에서 메모리 업로드로 Create된 파일의 ID\n",
    "\n",
    "meta_data = {\n",
    "    \"name\": \"mem_up_test2.txt\",\n",
    "}\n",
    "\n",
    "buffer = io.BytesIO()\n",
    "buffer.write(b\"hi\")\n",
    "\n",
    "uploader = MediaIoBaseUpload(fd=buffer, mimetype=\"text/plain\")\n",
    "response = drive.files().update(\n",
    "    fileId=FILE_ID,\n",
    "    body=meta_data, \n",
    "    media_body=uploader\n",
    ").execute()\n",
    "\n",
    "print(\"\\n##### Upload Result #####\\n\")\n",
    "print(response)"
   ]
  },
  {
   "cell_type": "markdown",
   "metadata": {},
   "source": [
    "## 2.4. 삭제\n",
    "***"
   ]
  },
  {
   "cell_type": "code",
   "execution_count": 9,
   "metadata": {
    "scrolled": true
   },
   "outputs": [
    {
     "name": "stdout",
     "output_type": "stream",
     "text": [
      "\n",
      "##### Delete Result #####\n",
      "\n",
      "Complete\n"
     ]
    }
   ],
   "source": [
    "response = drive.files().delete(fileId=FILE_ID).execute()\n",
    "\n",
    "print(\"\\n##### Delete Result #####\\n\")\n",
    "\n",
    "if 0 == len(response):\n",
    "    print(\"Complete\")\n",
    "else:\n",
    "    print(\"Failed to delete\")"
   ]
  },
  {
   "cell_type": "markdown",
   "metadata": {},
   "source": [
    "# 3. 활용\n",
    "***\n",
    "\n",
    "\n",
    "## 3.1. 일정한 크기만큼 잘라서 다운로드\n",
    "***\n",
    "\n",
    "\n",
    "### 3.1.1. 데이터를 업로드\n",
    "***"
   ]
  },
  {
   "cell_type": "code",
   "execution_count": 10,
   "metadata": {
    "scrolled": false
   },
   "outputs": [
    {
     "name": "stdout",
     "output_type": "stream",
     "text": [
      "\n",
      "##### Raw Data #####\n",
      "\n",
      "       date   open   high    low  close       vol\n",
      "0  20190215  46750  46850  45650  46050  10554643\n",
      "1  20190218  46500  46850  45850  46200   8183728\n",
      "2  20190219  45850  46150  45450  45950   6741395\n",
      "3  20190220  46750  47100  46500  46900  11506720\n",
      "4  20190221  46500  47200  46200  46950   8694009\n",
      "5  20190222  46500  47150  46450  47150   6895772\n",
      "6  20190225  47400  47550  47050  47350   7484716\n",
      "7  20190226  47350  47450  46500  46750   7985547\n",
      "8  20190227  47000  47250  46750  46750   8045211\n",
      "9  20190228  46400  46500  45100  45100  23569321\n",
      "\n",
      "##### Binary Data #####\n",
      "\n",
      "b'\\x07\\x144\\x01\\x9e\\xb6\\x00\\x00\\x02\\xb7\\x00\\x00R\\xb2\\x00\\x00\\xe2\\xb3\\x00\\x00\\x13\\r\\xa1\\x00\\n\\x144\\x01\\xa4\\xb5\\x00\\x00\\x02\\xb7\\x00\\x00\\x1a\\xb3\\x00\\x00x\\xb4\\x00\\x00\\xb0\\xdf|\\x00\\x0b\\x144\\x01\\x1a\\xb3\\x00\\x00F\\xb4\\x00\\x00\\x8a\\xb1\\x00\\x00~\\xb3\\x00\\x00\\x93\\xddf\\x00\\x0c\\x144\\x01\\x9e\\xb6\\x00\\x00\\xfc\\xb7\\x00\\x00\\xa4\\xb5\\x00\\x004\\xb7\\x00\\x00 \\x94\\xaf\\x00\\r\\x144\\x01\\xa4\\xb5\\x00\\x00`\\xb8\\x00\\x00x\\xb4\\x00\\x00f\\xb7\\x00\\x00\\xf9\\xa8\\x84\\x00\\x0e\\x144\\x01\\xa4\\xb5\\x00\\x00.\\xb8\\x00\\x00r\\xb5\\x00\\x00.\\xb8\\x00\\x00\\x9c8i\\x00\\x11\\x144\\x01(\\xb9\\x00\\x00\\xbe\\xb9\\x00\\x00\\xca\\xb7\\x00\\x00\\xf6\\xb8\\x00\\x00,5r\\x00\\x12\\x144\\x01\\xf6\\xb8\\x00\\x00Z\\xb9\\x00\\x00\\xa4\\xb5\\x00\\x00\\x9e\\xb6\\x00\\x00\\x8b\\xd9y\\x00\\x13\\x144\\x01\\x98\\xb7\\x00\\x00\\x92\\xb8\\x00\\x00\\x9e\\xb6\\x00\\x00\\x9e\\xb6\\x00\\x00\\x9b\\xc2z\\x00\\x14\\x144\\x01@\\xb5\\x00\\x00\\xa4\\xb5\\x00\\x00,\\xb0\\x00\\x00,\\xb0\\x00\\x00\\xa9\\xa3g\\x01'\n",
      "\n",
      "##### Length of Binary Data #####\n",
      "\n",
      "240\n",
      "\n",
      "\n",
      "##### Upload Result #####\n",
      "\n",
      "{'kind': 'drive#file', 'id': '1kXzlKnsLDC48kW13mT2jQh-yuN86lLGI', 'name': 'day_005930.bry', 'mimeType': 'application/octet-stream'}\n"
     ]
    }
   ],
   "source": [
    "import struct\n",
    "import pandas as pd\n",
    "\n",
    "FOLDER_ID = \"1nWQXXoOGoOIsEJk5GLvUmVqWACWy53Ho\"  # 여기에 업로드\n",
    "\n",
    "df = pd.read_csv(\"day_005930.csv\")\n",
    "print(\"\\n##### Raw Data #####\\n\")\n",
    "print(df)\n",
    "\n",
    "buffer = io.BytesIO()\n",
    "\n",
    "for _, row in df.iterrows():\n",
    "    buffer.write(struct.pack(\"iiiiii\", row[\"date\"], row[\"open\"], row[\"high\"], row[\"low\"], row[\"close\"], row[\"vol\"]))\n",
    "\n",
    "print(\"\\n##### Binary Data #####\\n\")\n",
    "print(buffer.getvalue())\n",
    "\n",
    "print(\"\\n##### Length of Binary Data #####\\n\")\n",
    "print(len(buffer.getvalue()))\n",
    "\n",
    "meta_data = {\n",
    "    \"name\": \"day_005930.bry\",\n",
    "    \"parents\": [FOLDER_ID],\n",
    "}\n",
    "\n",
    "uploader = MediaIoBaseUpload(fd=buffer, mimetype=\"application/octet-stream\")\n",
    "response = drive.files().create(\n",
    "    body=meta_data, \n",
    "    media_body=uploader\n",
    ").execute()\n",
    "\n",
    "print(\"\\n\\n##### Upload Result #####\\n\")\n",
    "print(response)"
   ]
  },
  {
   "cell_type": "markdown",
   "metadata": {},
   "source": [
    "### 3.1.2. 데이터를 다운로드\n",
    "***"
   ]
  },
  {
   "cell_type": "code",
   "execution_count": 11,
   "metadata": {},
   "outputs": [
    {
     "name": "stdout",
     "output_type": "stream",
     "text": [
      "\n",
      "##### Download Start #####\n",
      "\n",
      "b'\\x07\\x144\\x01\\x9e\\xb6\\x00\\x00\\x02\\xb7\\x00\\x00R\\xb2\\x00\\x00\\xe2\\xb3\\x00\\x00\\x13\\r\\xa1\\x00'\n",
      "(20190215, 46750, 46850, 45650, 46050, 10554643)\n",
      "Download 10%\n",
      "\n",
      "b'\\n\\x144\\x01\\xa4\\xb5\\x00\\x00\\x02\\xb7\\x00\\x00\\x1a\\xb3\\x00\\x00x\\xb4\\x00\\x00\\xb0\\xdf|\\x00'\n",
      "(20190218, 46500, 46850, 45850, 46200, 8183728)\n",
      "Download 20%\n",
      "\n",
      "b'\\x0b\\x144\\x01\\x1a\\xb3\\x00\\x00F\\xb4\\x00\\x00\\x8a\\xb1\\x00\\x00~\\xb3\\x00\\x00\\x93\\xddf\\x00'\n",
      "(20190219, 45850, 46150, 45450, 45950, 6741395)\n",
      "Download 30%\n",
      "\n",
      "b'\\x0c\\x144\\x01\\x9e\\xb6\\x00\\x00\\xfc\\xb7\\x00\\x00\\xa4\\xb5\\x00\\x004\\xb7\\x00\\x00 \\x94\\xaf\\x00'\n",
      "(20190220, 46750, 47100, 46500, 46900, 11506720)\n",
      "Download 40%\n",
      "\n",
      "b'\\r\\x144\\x01\\xa4\\xb5\\x00\\x00`\\xb8\\x00\\x00x\\xb4\\x00\\x00f\\xb7\\x00\\x00\\xf9\\xa8\\x84\\x00'\n",
      "(20190221, 46500, 47200, 46200, 46950, 8694009)\n",
      "Download 50%\n",
      "\n",
      "b'\\x0e\\x144\\x01\\xa4\\xb5\\x00\\x00.\\xb8\\x00\\x00r\\xb5\\x00\\x00.\\xb8\\x00\\x00\\x9c8i\\x00'\n",
      "(20190222, 46500, 47150, 46450, 47150, 6895772)\n",
      "Download 60%\n",
      "\n",
      "b'\\x11\\x144\\x01(\\xb9\\x00\\x00\\xbe\\xb9\\x00\\x00\\xca\\xb7\\x00\\x00\\xf6\\xb8\\x00\\x00,5r\\x00'\n",
      "(20190225, 47400, 47550, 47050, 47350, 7484716)\n",
      "Download 70%\n",
      "\n",
      "b'\\x12\\x144\\x01\\xf6\\xb8\\x00\\x00Z\\xb9\\x00\\x00\\xa4\\xb5\\x00\\x00\\x9e\\xb6\\x00\\x00\\x8b\\xd9y\\x00'\n",
      "(20190226, 47350, 47450, 46500, 46750, 7985547)\n",
      "Download 80%\n",
      "\n",
      "b'\\x13\\x144\\x01\\x98\\xb7\\x00\\x00\\x92\\xb8\\x00\\x00\\x9e\\xb6\\x00\\x00\\x9e\\xb6\\x00\\x00\\x9b\\xc2z\\x00'\n",
      "(20190227, 47000, 47250, 46750, 46750, 8045211)\n",
      "Download 90%\n",
      "\n",
      "b'\\x14\\x144\\x01@\\xb5\\x00\\x00\\xa4\\xb5\\x00\\x00,\\xb0\\x00\\x00,\\xb0\\x00\\x00\\xa9\\xa3g\\x01'\n",
      "(20190228, 46400, 46500, 45100, 45100, 23569321)\n",
      "Download 100%\n",
      "\n",
      "##### Done #####\n",
      "\n"
     ]
    }
   ],
   "source": [
    "FILE_ID = response[\"id\"]  # 다운로드 받을 파일의 ID\n",
    "CHUNK_SIZE = 24\n",
    "\n",
    "\n",
    "class BufferHandler(io.BytesIO):\n",
    "    def __init__(self):\n",
    "        super(BufferHandler, self).__init__()\n",
    "        self.buffer = None\n",
    "\n",
    "    def write(self, data):\n",
    "        self.buffer = data\n",
    "        super(BufferHandler, self).write(data)\n",
    "\n",
    "        \n",
    "print(\"\\n##### Download Start #####\\n\")\n",
    "request = drive.files().get_media(fileId=FILE_ID)\n",
    "buffer_handler = BufferHandler()\n",
    "downloader = MediaIoBaseDownload(buffer_handler, request, chunksize=CHUNK_SIZE - 1)\n",
    "done = False\n",
    "\n",
    "while done is False:\n",
    "    status, done = downloader.next_chunk()\n",
    "    print(buffer_handler.buffer)\n",
    "    print(struct.unpack(\"iiiiii\", buffer_handler.buffer))\n",
    "    print(\"Download %d%%\\n\" % int(status.progress() * 100))\n",
    "\n",
    "print(\"##### Done #####\\n\")"
   ]
  },
  {
   "cell_type": "markdown",
   "metadata": {},
   "source": [
    "### 3.1.3. 원하는 범위만 다운로드\n",
    "***"
   ]
  },
  {
   "cell_type": "code",
   "execution_count": 12,
   "metadata": {},
   "outputs": [
    {
     "name": "stdout",
     "output_type": "stream",
     "text": [
      "\n",
      "##### response #####\n",
      "\n",
      "{'alt-svc': 'quic=\":443\"; ma=2592000; v=\"46,44,43,39\"',\n",
      " 'cache-control': 'private, max-age=0, must-revalidate',\n",
      " 'content-disposition': 'attachment',\n",
      " 'content-length': '24',\n",
      " 'content-range': 'bytes 48-71/240',\n",
      " 'content-type': 'application/octet-stream',\n",
      " 'date': 'Mon, 01 Apr 2019 16:47:04 GMT',\n",
      " 'expires': 'Mon, 01 Apr 2019 16:47:04 GMT',\n",
      " 'server': 'UploadServer',\n",
      " 'status': '206',\n",
      " 'vary': 'Origin, X-Origin',\n",
      " 'x-guploader-uploadid': 'AEnB2Uq8_XA-JzawM1HC396QPxevZ3bB7l3JYgnb-OYHk7Rzw9CNXsKZuXKgY-DE314vFZeK7ojVNfJITZ7ft-3xqfWGDIw_RjQJvcX-kn5sH_qrxOtCQXg'}\n",
      "\n",
      "##### content #####\n",
      "\n",
      "b'\\x0b\\x144\\x01\\x1a\\xb3\\x00\\x00F\\xb4\\x00\\x00\\x8a\\xb1\\x00\\x00~\\xb3\\x00\\x00\\x93\\xddf\\x00'\n",
      "(20190219, 45850, 46150, 45450, 45950, 6741395)\n"
     ]
    }
   ],
   "source": [
    "FILE_ID = response[\"id\"]  # 다운로드 받을 파일의 ID\n",
    "STRUCT_SIZE = 24\n",
    "RCV_DATA_IDX = 2\n",
    "\n",
    "st_pos = (STRUCT_SIZE * RCV_DATA_IDX)\n",
    "ed_pos = st_pos + STRUCT_SIZE - 1\n",
    "\n",
    "headers = {\n",
    "    \"Range\": \"bytes={0}-{1}\".format(st_pos, ed_pos)\n",
    "}\n",
    "\n",
    "resp, content = http_auth.request(\n",
    "    uri=\"https://www.googleapis.com/drive/v3/files/{0}?alt=media\".format(FILE_ID),\n",
    "    headers=headers\n",
    ")\n",
    "\n",
    "print(\"\\n##### response #####\\n\")\n",
    "pprint.pprint(resp)\n",
    "\n",
    "print(\"\\n##### content #####\\n\")\n",
    "print(content)\n",
    "print(struct.unpack(\"iiiiii\", content))"
   ]
  }
 ],
 "metadata": {
  "kernelspec": {
   "display_name": "Python 3",
   "language": "python",
   "name": "python3"
  },
  "language_info": {
   "codemirror_mode": {
    "name": "ipython",
    "version": 3
   },
   "file_extension": ".py",
   "mimetype": "text/x-python",
   "name": "python",
   "nbconvert_exporter": "python",
   "pygments_lexer": "ipython3",
   "version": "3.7.0"
  }
 },
 "nbformat": 4,
 "nbformat_minor": 2
}
