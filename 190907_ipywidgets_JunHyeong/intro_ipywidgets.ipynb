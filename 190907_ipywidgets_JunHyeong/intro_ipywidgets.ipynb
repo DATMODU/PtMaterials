{
 "cells": [
  {
   "cell_type": "markdown",
   "metadata": {},
   "source": [
    "# ipywidgets 소개\n",
    "***\n",
    "\n",
    "Docs: <https://ipywidgets.readthedocs.io/en/latest/index.html>\n",
    "\n"
   ]
  },
  {
   "cell_type": "markdown",
   "metadata": {},
   "source": [
    "## 1. 간단한 예제\n",
    "---\n",
    "\n",
    "csv로 저장되어있는 삼성전자의 일봉 데이터를 불러온다."
   ]
  },
  {
   "cell_type": "code",
   "execution_count": 1,
   "metadata": {},
   "outputs": [
    {
     "name": "stdout",
     "output_type": "stream",
     "text": [
      "            open_prc  high_prc  low_prc  close_prc  base_prc    volume\n",
      "date                                                                  \n",
      "1999-06-03     92000     92300    88100      91000     90300    994982\n",
      "1999-06-04     91000     96000    91000      95000     91000   1042697\n",
      "1999-06-07     98000    102000    96800     102000     95000   1155707\n",
      "1999-06-08    102000    102500    98100      99500    102000    957041\n",
      "1999-06-09     97000     98000    91500      91500     99500    726697\n",
      "...              ...       ...      ...        ...       ...       ...\n",
      "2019-08-21     44350     44800    44150      44500     44450   6571717\n",
      "2019-08-22     44500     44700    43850      44050     44500   8061177\n",
      "2019-08-23     43800     44200    43650      43950     44050   5017381\n",
      "2019-08-26     43050     43800    42950      43600     43950   7954949\n",
      "2019-08-27     43650     44200    43600      44050     43600  16883932\n",
      "\n",
      "[4999 rows x 6 columns]\n"
     ]
    }
   ],
   "source": [
    "import pandas as pd\n",
    "\n",
    "date_parser = lambda x: pd.datetime.strptime(x, \"%Y-%m-%d\")\n",
    "\n",
    "daily_data = pd.read_csv(\n",
    "    \"daily_005930.csv\",\n",
    "    index_col=\"date\",\n",
    "    parse_dates=True,\n",
    "    date_parser=date_parser,\n",
    "    encoding=\"euc_kr\"\n",
    ")\n",
    "\n",
    "print(daily_data)"
   ]
  },
  {
   "cell_type": "markdown",
   "metadata": {},
   "source": [
    "---\n",
    "일정 기간만큼 잘라서 그래프를 그려본다"
   ]
  },
  {
   "cell_type": "code",
   "execution_count": 2,
   "metadata": {},
   "outputs": [
    {
     "data": {
      "text/plain": [
       "<Figure size 1200x600 with 1 Axes>"
      ]
     },
     "metadata": {},
     "output_type": "display_data"
    }
   ],
   "source": [
    "import datetime\n",
    "import matplotlib.pylab as plt\n",
    "\n",
    "def plot_data(st_date, ed_date):\n",
    "    if st_date < ed_date:\n",
    "        sliced_data = daily_data.loc[st_date:ed_date, \"close_prc\"]\n",
    "        sliced_data.plot(figsize=(12, 6))\n",
    "        plt.title(\"Close Price ({0}~{1})\".format(st_date, ed_date))\n",
    "        plt.legend([\"Samsung Electronics\"])\n",
    "        plt.show()\n",
    "\n",
    "ST_DATE = datetime.date(2019, 1, 1)\n",
    "ED_DATE = datetime.date(2019, 8, 27)\n",
    "\n",
    "plot_data(ST_DATE, ED_DATE)"
   ]
  },
  {
   "cell_type": "markdown",
   "metadata": {},
   "source": [
    "---\n",
    "기간을 바꿔서 그래프를 그려본다"
   ]
  },
  {
   "cell_type": "code",
   "execution_count": 3,
   "metadata": {},
   "outputs": [
    {
     "data": {
      "image/png": "[encoded data removed]",
      "text/plain": [
       "<Figure size 864x432 with 1 Axes>"
      ]
     },
     "metadata": {
      "needs_background": "light"
     },
     "output_type": "display_data"
    }
   ],
   "source": [
    "ST_DATE = datetime.date(2018, 1, 1)\n",
    "ED_DATE = datetime.date(2018, 6, 30)\n",
    "\n",
    "plot_data(ST_DATE, ED_DATE)"
   ]
  },
  {
   "cell_type": "markdown",
   "metadata": {},
   "source": [
    "---\n",
    "ipywidgets을 사용하면 다음과 같이 쉽게 인자를 수정할 수 있다."
   ]
  },
  {
   "cell_type": "code",
   "execution_count": 4,
   "metadata": {},
   "outputs": [
    {
     "data": {
      "application/vnd.jupyter.widget-view+json": {
       "model_id": "49bcfb26dd7c475d9f916a7f8fbf52de",
       "version_major": 2,
       "version_minor": 0
      },
      "text/plain": [
       "interactive(children=(DatePicker(value=datetime.date(2016, 1, 1), description='st_date'), DatePicker(value=dat…"
      ]
     },
     "metadata": {},
     "output_type": "display_data"
    }
   ],
   "source": [
    "from ipywidgets import interact, fixed\n",
    "import ipywidgets as widgets\n",
    "\n",
    "interact(plot_data,\n",
    "         st_date=widgets.DatePicker(value=datetime.date(2016,1,1)),\n",
    "         ed_date=widgets.DatePicker(value=datetime.date(2019,1,1)));"
   ]
  },
  {
   "cell_type": "markdown",
   "metadata": {},
   "source": [
    "## 2. 기본적인 사용방법\n",
    "---"
   ]
  },
  {
   "cell_type": "code",
   "execution_count": 5,
   "metadata": {},
   "outputs": [
    {
     "name": "stdout",
     "output_type": "stream",
     "text": [
      "x=10의 결과\n"
     ]
    },
    {
     "data": {
      "application/vnd.jupyter.widget-view+json": {
       "model_id": "a65f5eaefeae4d6e969d6d89843240b2",
       "version_major": 2,
       "version_minor": 0
      },
      "text/plain": [
       "interactive(children=(IntSlider(value=10, description='x', max=30, min=-10), Output()), _dom_classes=('widget-…"
      ]
     },
     "metadata": {},
     "output_type": "display_data"
    },
    {
     "name": "stdout",
     "output_type": "stream",
     "text": [
      "\n",
      "\n",
      "\n",
      "x=True의 결과\n"
     ]
    },
    {
     "data": {
      "application/vnd.jupyter.widget-view+json": {
       "model_id": "cb87b06b19db486fbabd75a428cb48ad",
       "version_major": 2,
       "version_minor": 0
      },
      "text/plain": [
       "interactive(children=(Checkbox(value=True, description='x'), Output()), _dom_classes=('widget-interact',))"
      ]
     },
     "metadata": {},
     "output_type": "display_data"
    },
    {
     "name": "stdout",
     "output_type": "stream",
     "text": [
      "\n",
      "\n",
      "\n",
      "x=\"abc\"의 결과\n"
     ]
    },
    {
     "data": {
      "application/vnd.jupyter.widget-view+json": {
       "model_id": "42605a1ef2844ad9b6ccfaf425528514",
       "version_major": 2,
       "version_minor": 0
      },
      "text/plain": [
       "interactive(children=(Text(value='abc', description='x'), Output()), _dom_classes=('widget-interact',))"
      ]
     },
     "metadata": {},
     "output_type": "display_data"
    }
   ],
   "source": [
    "# 간단한 함수\n",
    "def foo(x):\n",
    "    print(x)\n",
    "\n",
    "# Slider가 자동으로 생성된다.\n",
    "print(\"x=10의 결과\")\n",
    "interact(foo, x=10);\n",
    "\n",
    "# Checkbox가 자동으로 생성된다.\n",
    "print(\"\\n\\n\\nx=True의 결과\")\n",
    "interact(foo, x=True);\n",
    "\n",
    "# TextBox가 자동으로 생성된다.\n",
    "print(\"\\n\\n\\nx=\\\"abc\\\"의 결과\")\n",
    "interact(foo, x=\"abc\");"
   ]
  },
  {
   "cell_type": "code",
   "execution_count": 6,
   "metadata": {},
   "outputs": [
    {
     "data": {
      "application/vnd.jupyter.widget-view+json": {
       "model_id": "6b051ff160054570abdf833986b3aeee",
       "version_major": 2,
       "version_minor": 0
      },
      "text/plain": [
       "interactive(children=(IntSlider(value=5, description='x', max=15, min=-5), IntSlider(value=20, description='y'…"
      ]
     },
     "metadata": {},
     "output_type": "display_data"
    }
   ],
   "source": [
    "# 인자를 여러개\n",
    "def foo2(x, y, z):\n",
    "    print(\"x:\", x)\n",
    "    print(\"y:\", y)\n",
    "    print(\"z:\", z)\n",
    "\n",
    "interact(foo2, x=5, y=20, z=fixed(10));"
   ]
  },
  {
   "cell_type": "code",
   "execution_count": 7,
   "metadata": {},
   "outputs": [
    {
     "data": {
      "application/vnd.jupyter.widget-view+json": {
       "model_id": "748512a0c6954b32bdc1099791d905c9",
       "version_major": 2,
       "version_minor": 0
      },
      "text/plain": [
       "interactive(children=(IntSlider(value=50, description='x'), Output()), _dom_classes=('widget-interact',))"
      ]
     },
     "metadata": {},
     "output_type": "display_data"
    },
    {
     "data": {
      "application/vnd.jupyter.widget-view+json": {
       "model_id": "e212714bb9a44edba9bca31dc20c79b8",
       "version_major": 2,
       "version_minor": 0
      },
      "text/plain": [
       "interactive(children=(IntSlider(value=30, description='x', min=10, step=2), Output()), _dom_classes=('widget-i…"
      ]
     },
     "metadata": {},
     "output_type": "display_data"
    }
   ],
   "source": [
    "# Slider를 생성하며 범위는 0~100\n",
    "interact(foo, x=(0, 100));\n",
    "\n",
    "# Slider를 생성하며 범위는 0~100, 단위는 2, 기본값은 30\n",
    "interact(foo, x=widgets.IntSlider(min=10, max=100, step=2, value=30));"
   ]
  },
  {
   "cell_type": "code",
   "execution_count": 8,
   "metadata": {},
   "outputs": [
    {
     "data": {
      "text/plain": [
       "ipywidgets.widgets.interaction.interactive"
      ]
     },
     "execution_count": 8,
     "metadata": {},
     "output_type": "execute_result"
    }
   ],
   "source": [
    "from IPython.display import display\n",
    "from ipywidgets import interactive\n",
    "\n",
    "def sum_func(x, y):\n",
    "    print(x + y)\n",
    "\n",
    "interactive_obj = interactive(sum_func, x=10, y=20)\n",
    "type(interactive_obj)"
   ]
  },
  {
   "cell_type": "code",
   "execution_count": 9,
   "metadata": {},
   "outputs": [
    {
     "data": {
      "application/vnd.jupyter.widget-view+json": {
       "model_id": "0c71a5c39e654025a8667680b5df2c64",
       "version_major": 2,
       "version_minor": 0
      },
      "text/plain": [
       "interactive(children=(IntSlider(value=10, description='x', max=30, min=-10), IntSlider(value=20, description='…"
      ]
     },
     "metadata": {},
     "output_type": "display_data"
    }
   ],
   "source": [
    "display(interactive_obj)"
   ]
  },
  {
   "cell_type": "code",
   "execution_count": 10,
   "metadata": {},
   "outputs": [
    {
     "data": {
      "application/vnd.jupyter.widget-view+json": {
       "model_id": "0c71a5c39e654025a8667680b5df2c64",
       "version_major": 2,
       "version_minor": 0
      },
      "text/plain": [
       "interactive(children=(IntSlider(value=10, description='x', max=30, min=-10), IntSlider(value=20, description='…"
      ]
     },
     "metadata": {},
     "output_type": "display_data"
    }
   ],
   "source": [
    "display(interactive_obj)"
   ]
  },
  {
   "cell_type": "code",
   "execution_count": 11,
   "metadata": {},
   "outputs": [
    {
     "data": {
      "application/vnd.jupyter.widget-view+json": {
       "model_id": "f9aed8d0f4e841ecb06708d1dce8e752",
       "version_major": 2,
       "version_minor": 0
      },
      "text/plain": [
       "interactive(children=(IntSlider(value=50, description='x'), Button(description='Run Interact', style=ButtonSty…"
      ]
     },
     "metadata": {},
     "output_type": "display_data"
    },
    {
     "data": {
      "application/vnd.jupyter.widget-view+json": {
       "model_id": "d9a488652d6341ea95c3440210dd9fc8",
       "version_major": 2,
       "version_minor": 0
      },
      "text/plain": [
       "interactive(children=(IntSlider(value=30, continuous_update=False, description='x', min=10, step=2), Output())…"
      ]
     },
     "metadata": {},
     "output_type": "display_data"
    }
   ],
   "source": [
    "from ipywidgets import interact_manual\n",
    "\n",
    "# Slider를 생성하며 범위는 0~100\n",
    "interact_manual(foo, x=(0, 100));\n",
    "\n",
    "# Slider를 생성하며 범위는 0~100\n",
    "interact(foo, x=widgets.IntSlider(min=10, max=100, step=2, value=30, continuous_update=False));"
   ]
  },
  {
   "cell_type": "code",
   "execution_count": 12,
   "metadata": {},
   "outputs": [
    {
     "data": {
      "application/vnd.jupyter.widget-view+json": {
       "model_id": "6c67394f9abb4da595c15987205eb1dd",
       "version_major": 2,
       "version_minor": 0
      },
      "text/plain": [
       "FloatText(value=0.0)"
      ]
     },
     "metadata": {},
     "output_type": "display_data"
    },
    {
     "data": {
      "application/vnd.jupyter.widget-view+json": {
       "model_id": "77e839b27a14438f868383621948932e",
       "version_major": 2,
       "version_minor": 0
      },
      "text/plain": [
       "FloatSlider(value=0.0)"
      ]
     },
     "metadata": {},
     "output_type": "display_data"
    }
   ],
   "source": [
    "a = widgets.FloatText()\n",
    "b = widgets.FloatSlider()\n",
    "display(a,b)\n",
    "\n",
    "mylink = widgets.jslink((a, \"value\"), (b, \"value\"))"
   ]
  },
  {
   "cell_type": "code",
   "execution_count": 13,
   "metadata": {},
   "outputs": [],
   "source": [
    "# 연결 끊기\n",
    "mylink.unlink()"
   ]
  },
  {
   "cell_type": "markdown",
   "metadata": {},
   "source": [
    "Widget List: <https://ipywidgets.readthedocs.io/en/latest/examples/Widget%20List.html>"
   ]
  },
  {
   "cell_type": "code",
   "execution_count": null,
   "metadata": {},
   "outputs": [],
   "source": []
  },
  {
   "cell_type": "code",
   "execution_count": 83,
   "metadata": {},
   "outputs": [
    {
     "data": {
      "application/vnd.jupyter.widget-view+json": {
       "model_id": "bd24e1c0127941d88b0d900ebecaf4aa",
       "version_major": 2,
       "version_minor": 0
      },
      "text/plain": [
       "interactive(children=(Dropdown(description='KRW Market', options=(('비트코인', 'KRW-BTC'), ('대시', 'KRW-DASH'), ('이…"
      ]
     },
     "metadata": {},
     "output_type": "display_data"
    }
   ],
   "source": [
    "import ipywidgets\n",
    "import requests\n",
    "import datetime\n",
    "import matplotlib.pylab as plt\n",
    "import pandas as pd\n",
    "from ipywidgets import interact_manual\n",
    "\n",
    "def plot_upbit_data(mk, to, count):\n",
    "    url = \"https://api.upbit.com/v1/candles/days?market={0}&to={1} 00:00:00&count={2}\".format(mk, to, count)\n",
    "    datas = requests.request(\"GET\", url).json()\n",
    "    daily_data = pd.DataFrame(datas, columns=(\"candle_date_time_kst\", \"trade_price\"))\n",
    "    daily_data[\"candle_date_time_kst\"] = pd.to_datetime(daily_data[\"candle_date_time_kst\"])\n",
    "    daily_data[\"trade_price\"] = daily_data[\"trade_price\"].astype(int)\n",
    "    daily_data = daily_data.set_index(\"candle_date_time_kst\")\n",
    "    daily_data.plot(figsize=(12, 6))\n",
    "    plt.legend([mk])\n",
    "    plt.show()\n",
    "\n",
    "url = \"https://api.upbit.com/v1/market/all\"\n",
    "masters = requests.request(\"GET\", url).json()\n",
    "combo_datas = []\n",
    "\n",
    "for master in masters:\n",
    "\tmk = master[\"market\"]\n",
    "\n",
    "\tif \"KRW\" == mk[:3]:\n",
    "\t\tcombo_datas.append((\n",
    "\t\t\tmaster[\"korean_name\"],\n",
    "\t\t\tmk,\n",
    "\t\t))\n",
    "\n",
    "interact_manual(\n",
    "\tplot_upbit_data,\n",
    "\tmk=ipywidgets.Dropdown(options=combo_datas, description=\"KRW Market\"),\n",
    "\tto=ipywidgets.DatePicker(value=datetime.date.today()),\n",
    "\tcount=ipywidgets.IntSlider(min=10, max=200, value=30)\n",
    ");"
   ]
  },
  {
   "cell_type": "code",
   "execution_count": null,
   "metadata": {},
   "outputs": [],
   "source": []
  },
  {
   "cell_type": "code",
   "execution_count": null,
   "metadata": {},
   "outputs": [],
   "source": []
  },
  {
   "cell_type": "code",
   "execution_count": null,
   "metadata": {},
   "outputs": [],
   "source": []
  },
  {
   "cell_type": "code",
   "execution_count": null,
   "metadata": {},
   "outputs": [],
   "source": []
  },
  {
   "cell_type": "code",
   "execution_count": null,
   "metadata": {},
   "outputs": [],
   "source": []
  },
  {
   "cell_type": "code",
   "execution_count": null,
   "metadata": {},
   "outputs": [],
   "source": []
  },
  {
   "cell_type": "code",
   "execution_count": null,
   "metadata": {},
   "outputs": [],
   "source": []
  }
 ],
 "metadata": {
  "kernelspec": {
   "display_name": "Python 3",
   "language": "python",
   "name": "python3"
  },
  "language_info": {
   "codemirror_mode": {
    "name": "ipython",
    "version": 3
   },
   "file_extension": ".py",
   "mimetype": "text/x-python",
   "name": "python",
   "nbconvert_exporter": "python",
   "pygments_lexer": "ipython3",
   "version": "3.7.4"
  }
 },
 "nbformat": 4,
 "nbformat_minor": 4
}
