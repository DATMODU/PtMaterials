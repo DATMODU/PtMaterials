{
 "cells": [
  {
   "cell_type": "markdown",
   "metadata": {},
   "source": [
    "# ipywidgets 소개\n",
    "***\n",
    "\n",
    "Docs: <https://ipywidgets.readthedocs.io/en/latest/index.html>\n",
    "\n"
   ]
  },
  {
   "cell_type": "markdown",
   "metadata": {},
   "source": [
    "## 1. 간단한 예제\n",
    "---\n",
    "\n",
    "csv로 저장되어있는 삼성전자의 일봉 데이터를 불러온다."
   ]
  },
  {
   "cell_type": "code",
   "execution_count": 1,
   "metadata": {},
   "outputs": [
    {
     "name": "stdout",
     "output_type": "stream",
     "text": [
      "            open_prc  high_prc  low_prc  close_prc  base_prc    volume\n",
      "date                                                                  \n",
      "1999-06-03     92000     92300    88100      91000     90300    994982\n",
      "1999-06-04     91000     96000    91000      95000     91000   1042697\n",
      "1999-06-07     98000    102000    96800     102000     95000   1155707\n",
      "1999-06-08    102000    102500    98100      99500    102000    957041\n",
      "1999-06-09     97000     98000    91500      91500     99500    726697\n",
      "1999-06-10     93400    105000    93100     105000     91500   2087601\n",
      "1999-06-11    105000    115500   102500     109000    105000   1969349\n",
      "1999-06-14    106000    106000   100000     104500    109000    870005\n",
      "1999-06-15    100000    108500   100000     103000    104500   1104861\n",
      "1999-06-16    104000    115000   104000     114000    103000   1557300\n",
      "1999-06-17    117000    129500   115000     115000    114000   2292345\n",
      "1999-06-18    118000    123000   116000     119000    115000   1631519\n",
      "1999-06-21    122000    129000   122000     129000    119000   1136161\n",
      "1999-06-22    127500    130000   124000     128000    129000    998475\n",
      "1999-06-23    125000    129500   124000     124000    128000    956212\n",
      "1999-06-24    125000    128000   124000     124000    124000    852441\n",
      "1999-06-25    120000    125000   119000     125000    124000    832874\n",
      "1999-06-28    124500    134000   124500     131000    125000   1216380\n",
      "1999-06-29    130000    130500   127000     127000    131000    901702\n",
      "1999-06-30    127000    133500   122000     127000    127000   1642272\n",
      "1999-07-01    129000    134000   127500     133000    127000   1064785\n",
      "1999-07-02    133000    145000   130500     141000    133000   1533313\n",
      "1999-07-05    145000    151500   139500     151000    141000   1227350\n",
      "1999-07-06    150000    173500   148500     172000    151000   1323518\n",
      "1999-07-07    169000    170000   158500     161500    172000   2116561\n",
      "1999-07-08    162500    167500   151500     160000    161500   1756683\n",
      "1999-07-09    160000    160000   152000     157000    160000   1393425\n",
      "1999-07-12    156000    159000   149500     149500    157000   1090993\n",
      "1999-07-13    146500    162500   146500     156500    149500   1627833\n",
      "1999-07-14    157500    162000   155000     157000    156500   1251715\n",
      "...              ...       ...      ...        ...       ...       ...\n",
      "2019-07-16     46450     46850    46300      46850     46450   7407824\n",
      "2019-07-17     46150     46350    45950      46050     46850   5216602\n",
      "2019-07-18     46450     46450    45650      46100     46050   5143554\n",
      "2019-07-19     46650     46950    46600      46800     46100   8819393\n",
      "2019-07-22     46800     47300    46600      47200     46800   9009109\n",
      "2019-07-23     47350     47550    47050      47300     47200   9061381\n",
      "2019-07-24     47100     47150    46250      46400     47300   8756522\n",
      "2019-07-25     47150     47200    46600      47200     46400   8408838\n",
      "2019-07-26     46650     47150    46550      47150     47200   7873886\n",
      "2019-07-29     46800     47050    46000      46100     47150   6856846\n",
      "2019-07-30     46300     46850    46300      46550     46100   5551014\n",
      "2019-07-31     46200     46600    45000      45350     46550  12872916\n",
      "2019-08-01     44900     45500    44850      45200     45350   7811181\n",
      "2019-08-02     44550     45500    44300      44950     45200  12151374\n",
      "2019-08-05     44350     44600    43600      43950     44950  14214086\n",
      "2019-08-06     42500     43800    42500      43500     43950  15083824\n",
      "2019-08-07     43600     43900    43100      43200     43500  10002533\n",
      "2019-08-08     43250     43500    42650      42650     43200  16926881\n",
      "2019-08-09     43250     43350    43050      43150     42650   9685147\n",
      "2019-08-12     44000     44000    43550      43700     43150   8466169\n",
      "2019-08-13     43500     43500    42950      43000     43700   7276979\n",
      "2019-08-14     43900     44250    43500      43700     43000   8750135\n",
      "2019-08-16     43800     43900    43300      43900     43700   9528115\n",
      "2019-08-19     44350     44350    43500      43600     43900   6014218\n",
      "2019-08-20     43950     44600    43550      44450     43600   8434205\n",
      "2019-08-21     44350     44800    44150      44500     44450   6571717\n",
      "2019-08-22     44500     44700    43850      44050     44500   8061177\n",
      "2019-08-23     43800     44200    43650      43950     44050   5017381\n",
      "2019-08-26     43050     43800    42950      43600     43950   7954949\n",
      "2019-08-27     43650     44200    43600      44050     43600  16883932\n",
      "\n",
      "[4999 rows x 6 columns]\n"
     ]
    }
   ],
   "source": [
    "import pandas as pd\n",
    "\n",
    "date_parser = lambda x: pd.datetime.strptime(x, \"%Y-%m-%d\")\n",
    "\n",
    "daily_data = pd.read_csv(\n",
    "    \"daily_005930.csv\",\n",
    "    index_col=\"date\",\n",
    "    parse_dates=True,\n",
    "    date_parser=date_parser,\n",
    "    encoding=\"euc_kr\"\n",
    ")\n",
    "\n",
    "print(daily_data)"
   ]
  },
  {
   "cell_type": "markdown",
   "metadata": {},
   "source": [
    "---\n",
    "일정 기간만큼 잘라서 그래프를 그려본다"
   ]
  },
  {
   "cell_type": "code",
   "execution_count": 2,
   "metadata": {},
   "outputs": [
    {
     "data": {
      "text/plain": [
       "<Figure size 1200x600 with 1 Axes>"
      ]
     },
     "metadata": {},
     "output_type": "display_data"
    }
   ],
   "source": [
    "import datetime\n",
    "import matplotlib.pylab as plt\n",
    "\n",
    "def plot_data(st_date, ed_date):\n",
    "    if st_date < ed_date:\n",
    "        sliced_data = daily_data.loc[st_date:ed_date, \"close_prc\"]\n",
    "        sliced_data.plot(figsize=(12, 6))\n",
    "        plt.title(\"Close Price ({0}~{1})\".format(st_date, ed_date))\n",
    "        plt.legend([\"Samsung Electronics\"])\n",
    "        plt.show()\n",
    "\n",
    "ST_DATE = datetime.date(2019, 1, 1)\n",
    "ED_DATE = datetime.date(2019, 8, 27)\n",
    "\n",
    "plot_data(ST_DATE, ED_DATE)"
   ]
  },
  {
   "cell_type": "markdown",
   "metadata": {},
   "source": [
    "---\n",
    "기간을 바꿔서 그래프를 그려본다"
   ]
  },
  {
   "cell_type": "code",
   "execution_count": 3,
   "metadata": {},
   "outputs": [
    {
     "data": {
      "image/png": "[encoded data removed]",
      "text/plain": [
       "<Figure size 864x432 with 1 Axes>"
      ]
     },
     "metadata": {
      "needs_background": "light"
     },
     "output_type": "display_data"
    }
   ],
   "source": [
    "ST_DATE = datetime.date(2018, 1, 1)\n",
    "ED_DATE = datetime.date(2018, 6, 30)\n",
    "\n",
    "plot_data(ST_DATE, ED_DATE)"
   ]
  },
  {
   "cell_type": "markdown",
   "metadata": {},
   "source": [
    "---\n",
    "ipywidgets을 사용하면 다음과 같이 쉽게 인자를 수정할 수 있다."
   ]
  },
  {
   "cell_type": "code",
   "execution_count": 4,
   "metadata": {},
   "outputs": [
    {
     "data": {
      "application/vnd.jupyter.widget-view+json": {
       "model_id": "40e7246270db4358a6b9c0c3f3a4db8b",
       "version_major": 2,
       "version_minor": 0
      },
      "text/plain": [
       "interactive(children=(DatePicker(value=datetime.date(2016, 1, 1), description='st_date'), DatePicker(value=dat…"
      ]
     },
     "metadata": {},
     "output_type": "display_data"
    }
   ],
   "source": [
    "from ipywidgets import interact, fixed\n",
    "import ipywidgets as widgets\n",
    "\n",
    "interact(plot_data,\n",
    "         st_date=widgets.DatePicker(value=datetime.date(2016,1,1)),\n",
    "         ed_date=widgets.DatePicker(value=datetime.date(2019,1,1)));"
   ]
  },
  {
   "cell_type": "markdown",
   "metadata": {},
   "source": [
    "## 2. 기본적인 사용방법\n",
    "---"
   ]
  },
  {
   "cell_type": "code",
   "execution_count": 5,
   "metadata": {},
   "outputs": [
    {
     "name": "stdout",
     "output_type": "stream",
     "text": [
      "x=10의 결과\n"
     ]
    },
    {
     "data": {
      "application/vnd.jupyter.widget-view+json": {
       "model_id": "26303f49ee024d7fb00eb5dfd6f618c1",
       "version_major": 2,
       "version_minor": 0
      },
      "text/plain": [
       "interactive(children=(IntSlider(value=10, description='x', max=30, min=-10), Output()), _dom_classes=('widget-…"
      ]
     },
     "metadata": {},
     "output_type": "display_data"
    },
    {
     "name": "stdout",
     "output_type": "stream",
     "text": [
      "\n",
      "\n",
      "\n",
      "x=True의 결과\n"
     ]
    },
    {
     "data": {
      "application/vnd.jupyter.widget-view+json": {
       "model_id": "b3fc73a0a17b4b38848f310f3d7081c1",
       "version_major": 2,
       "version_minor": 0
      },
      "text/plain": [
       "interactive(children=(Checkbox(value=True, description='x'), Output()), _dom_classes=('widget-interact',))"
      ]
     },
     "metadata": {},
     "output_type": "display_data"
    },
    {
     "name": "stdout",
     "output_type": "stream",
     "text": [
      "\n",
      "\n",
      "\n",
      "x=\"abc\"의 결과\n"
     ]
    },
    {
     "data": {
      "application/vnd.jupyter.widget-view+json": {
       "model_id": "218efda9eeac4212b818dc4bf85e3006",
       "version_major": 2,
       "version_minor": 0
      },
      "text/plain": [
       "interactive(children=(Text(value='abc', description='x'), Output()), _dom_classes=('widget-interact',))"
      ]
     },
     "metadata": {},
     "output_type": "display_data"
    }
   ],
   "source": [
    "# 간단한 함수\n",
    "def foo(x):\n",
    "    print(x)\n",
    "\n",
    "# Slider가 자동으로 생성된다.\n",
    "print(\"x=10의 결과\")\n",
    "interact(foo, x=10);\n",
    "\n",
    "# Checkbox가 자동으로 생성된다.\n",
    "print(\"\\n\\n\\nx=True의 결과\")\n",
    "interact(foo, x=True);\n",
    "\n",
    "# TextBox가 자동으로 생성된다.\n",
    "print(\"\\n\\n\\nx=\\\"abc\\\"의 결과\")\n",
    "interact(foo, x=\"abc\");"
   ]
  },
  {
   "cell_type": "code",
   "execution_count": 6,
   "metadata": {},
   "outputs": [
    {
     "data": {
      "application/vnd.jupyter.widget-view+json": {
       "model_id": "59119bd0311445388cffcb5e5d07212a",
       "version_major": 2,
       "version_minor": 0
      },
      "text/plain": [
       "interactive(children=(IntSlider(value=5, description='x', max=15, min=-5), IntSlider(value=20, description='y'…"
      ]
     },
     "metadata": {},
     "output_type": "display_data"
    }
   ],
   "source": [
    "# 인자를 여러개\n",
    "def foo2(x, y, z):\n",
    "    print(\"x:\", x)\n",
    "    print(\"y:\", y)\n",
    "    print(\"z:\", z)\n",
    "\n",
    "interact(foo2, x=5, y=20, z=fixed(10));"
   ]
  },
  {
   "cell_type": "code",
   "execution_count": 14,
   "metadata": {},
   "outputs": [
    {
     "data": {
      "application/vnd.jupyter.widget-view+json": {
       "model_id": "02d788772075408b91c7a7e9d6157a87",
       "version_major": 2,
       "version_minor": 0
      },
      "text/plain": [
       "interactive(children=(IntSlider(value=50, description='x'), Output()), _dom_classes=('widget-interact',))"
      ]
     },
     "metadata": {},
     "output_type": "display_data"
    },
    {
     "data": {
      "application/vnd.jupyter.widget-view+json": {
       "model_id": "cd4ae3ff34244d5d812ef998f26aa457",
       "version_major": 2,
       "version_minor": 0
      },
      "text/plain": [
       "interactive(children=(IntSlider(value=30, description='x', min=10, step=2), Output()), _dom_classes=('widget-i…"
      ]
     },
     "metadata": {},
     "output_type": "display_data"
    }
   ],
   "source": [
    "# Slider를 생성하며 범위는 0~100\n",
    "interact(foo, x=(0, 100));\n",
    "\n",
    "# Slider를 생성하며 범위는 0~100, 단위는 2, 기본값은 30\n",
    "interact(foo, x=widgets.IntSlider(min=10, max=100, step=2, value=30));"
   ]
  },
  {
   "cell_type": "code",
   "execution_count": 41,
   "metadata": {},
   "outputs": [
    {
     "data": {
      "text/plain": [
       "ipywidgets.widgets.interaction.interactive"
      ]
     },
     "execution_count": 41,
     "metadata": {},
     "output_type": "execute_result"
    }
   ],
   "source": [
    "from IPython.display import display\n",
    "from ipywidgets import interactive\n",
    "\n",
    "def sum_func(x, y):\n",
    "    print(x + y)\n",
    "\n",
    "interactive_obj = interactive(sum_func, x=10, y=20)\n",
    "type(interactive_obj)"
   ]
  },
  {
   "cell_type": "code",
   "execution_count": 42,
   "metadata": {},
   "outputs": [
    {
     "data": {
      "application/vnd.jupyter.widget-view+json": {
       "model_id": "a3b7a2a181b849068fbeefd558966a29",
       "version_major": 2,
       "version_minor": 0
      },
      "text/plain": [
       "interactive(children=(IntSlider(value=10, description='x', max=30, min=-10), IntSlider(value=20, description='…"
      ]
     },
     "metadata": {},
     "output_type": "display_data"
    }
   ],
   "source": [
    "display(interactive_obj)"
   ]
  },
  {
   "cell_type": "code",
   "execution_count": 45,
   "metadata": {},
   "outputs": [
    {
     "data": {
      "application/vnd.jupyter.widget-view+json": {
       "model_id": "a3b7a2a181b849068fbeefd558966a29",
       "version_major": 2,
       "version_minor": 0
      },
      "text/plain": [
       "interactive(children=(IntSlider(value=17, description='x', max=30, min=-10), IntSlider(value=20, description='…"
      ]
     },
     "metadata": {},
     "output_type": "display_data"
    }
   ],
   "source": [
    "display(interactive_obj)"
   ]
  },
  {
   "cell_type": "code",
   "execution_count": 35,
   "metadata": {},
   "outputs": [
    {
     "data": {
      "application/vnd.jupyter.widget-view+json": {
       "model_id": "c5c7dbc3112d4ab18e5a6303fbb15c2b",
       "version_major": 2,
       "version_minor": 0
      },
      "text/plain": [
       "interactive(children=(IntSlider(value=50, description='x'), Button(description='Run Interact', style=ButtonSty…"
      ]
     },
     "metadata": {},
     "output_type": "display_data"
    },
    {
     "data": {
      "application/vnd.jupyter.widget-view+json": {
       "model_id": "f2e910f055b347779961f1d09bedd4a4",
       "version_major": 2,
       "version_minor": 0
      },
      "text/plain": [
       "interactive(children=(IntSlider(value=30, continuous_update=False, description='x', min=10, step=2), Output())…"
      ]
     },
     "metadata": {},
     "output_type": "display_data"
    }
   ],
   "source": [
    "from ipywidgets import interact_manual\n",
    "\n",
    "# Slider를 생성하며 범위는 0~100\n",
    "interact_manual(foo, x=(0, 100));\n",
    "\n",
    "# Slider를 생성하며 범위는 0~100\n",
    "interact(foo, x=widgets.IntSlider(min=10, max=100, step=2, value=30, continuous_update=False));"
   ]
  },
  {
   "cell_type": "code",
   "execution_count": 50,
   "metadata": {},
   "outputs": [
    {
     "data": {
      "application/vnd.jupyter.widget-view+json": {
       "model_id": "31a1f1845b9945d5aac2c10bf51e7c3e",
       "version_major": 2,
       "version_minor": 0
      },
      "text/plain": [
       "FloatText(value=0.0)"
      ]
     },
     "metadata": {},
     "output_type": "display_data"
    },
    {
     "data": {
      "application/vnd.jupyter.widget-view+json": {
       "model_id": "2d9292cca83c4d4ebb91977a50a2fa5d",
       "version_major": 2,
       "version_minor": 0
      },
      "text/plain": [
       "FloatSlider(value=0.0)"
      ]
     },
     "metadata": {},
     "output_type": "display_data"
    }
   ],
   "source": [
    "a = widgets.FloatText()\n",
    "b = widgets.FloatSlider()\n",
    "display(a,b)\n",
    "\n",
    "mylink = widgets.jslink((a, \"value\"), (b, \"value\"))"
   ]
  },
  {
   "cell_type": "code",
   "execution_count": 51,
   "metadata": {},
   "outputs": [],
   "source": [
    "# 연결 끊기\n",
    "mylink.unlink()"
   ]
  },
  {
   "cell_type": "markdown",
   "metadata": {},
   "source": [
    "Widget List: <https://ipywidgets.readthedocs.io/en/latest/examples/Widget%20List.html>"
   ]
  },
  {
   "cell_type": "code",
   "execution_count": null,
   "metadata": {},
   "outputs": [],
   "source": []
  }
 ],
 "metadata": {
  "kernelspec": {
   "display_name": "Python 3",
   "language": "python",
   "name": "python3"
  },
  "language_info": {
   "codemirror_mode": {
    "name": "ipython",
    "version": 3
   },
   "file_extension": ".py",
   "mimetype": "text/x-python",
   "name": "python",
   "nbconvert_exporter": "python",
   "pygments_lexer": "ipython3",
   "version": "3.7.0"
  }
 },
 "nbformat": 4,
 "nbformat_minor": 4
}
