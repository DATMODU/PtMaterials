{
 "cells": [
  {
   "cell_type": "markdown",
   "metadata": {},
   "source": [
    "# Binomial Option Pricing Model\n",
    "---"
   ]
  },
  {
   "cell_type": "code",
   "execution_count": 1,
   "metadata": {},
   "outputs": [],
   "source": [
    "import math\n",
    "import time\n",
    "import numpy as np\n",
    "import pycuda.autoinit\n",
    "import pycuda.driver as drv\n",
    "from pycuda import compiler\n",
    "\n",
    "OPT_TYPE_CALL = 0\n",
    "OPT_TYPE_PUT = 1"
   ]
  },
  {
   "cell_type": "markdown",
   "metadata": {},
   "source": [
    "## 변수설정\n",
    "---"
   ]
  },
  {
   "cell_type": "code",
   "execution_count": 2,
   "metadata": {},
   "outputs": [],
   "source": [
    "# 옵션 타입: 콜=OPT_TYPE_CALL, 풋=OPT_TYPE_PUT\n",
    "opt_type = OPT_TYPE_CALL\n",
    "\n",
    "# 기초자산 가격\n",
    "spot_prc = 274.34\n",
    "\n",
    "# 행사가\n",
    "strike_prc = 275.0\n",
    "\n",
    "# 잔존일\n",
    "remain_day = 31\n",
    "\n",
    "# 무위험 이자율\n",
    "interest_rate = 1.55\n",
    "\n",
    "# 변동성\n",
    "volatility = 13.59\n",
    "\n",
    "# 노드갯수\n",
    "node_cnt = 49"
   ]
  },
  {
   "cell_type": "markdown",
   "metadata": {},
   "source": [
    "## Black-Scholes Model\n",
    "---"
   ]
  },
  {
   "cell_type": "code",
   "execution_count": 3,
   "metadata": {},
   "outputs": [
    {
     "name": "stdout",
     "output_type": "stream",
     "text": [
      "옵션가 4.189248806121185\n"
     ]
    }
   ],
   "source": [
    "def get_d1(s, k, t, r, v):\n",
    "\treturn (math.log(s / k) + (r + v * v * 0.5) * t) / (v * math.sqrt(t))\n",
    "\n",
    "\n",
    "def get_d2(s, k, t, r, v):\n",
    "\treturn (math.log(s / k) + (r - v * v * 0.5) * t) / (v * math.sqrt(t))\n",
    "\n",
    "\n",
    "def get_nm_cdf(x):\n",
    "\ta1 = 0.31938153\n",
    "\ta2 = -0.356563782\n",
    "\ta3 = 1.781477937\n",
    "\ta4 = -1.821255978\n",
    "\ta5 = 1.330274429\n",
    "\n",
    "\tabs_x = math.fabs(x)\n",
    "\tk = 1.0 / (1.0 + 0.2316419 * abs_x)\n",
    "\tn_x = 1.0 - (math.exp(-1*abs_x*abs_x*0.5) / math.sqrt(2*math.pi)) * (a1*k + a2*k*k + a3*k*k*k + a4*k*k*k*k + a5*k*k*k*k*k)\n",
    "\n",
    "\tret = 0\n",
    "\n",
    "\tif 0 > x:\n",
    "\t\tret = 1.0 - n_x\n",
    "\telse:\n",
    "\t\tret = n_x\n",
    "\n",
    "\treturn ret\n",
    "\n",
    "\n",
    "def get_bs_opt_prc(o_type, s, k, t, r, v):\n",
    "\td1 = get_d1(s, k, t, r, v)\n",
    "\td2 = get_d2(s, k, t, r, v)\n",
    "\n",
    "\tif OPT_TYPE_CALL == o_type:\n",
    "\t\topt_prc = s * get_nm_cdf(d1) - k * math.exp(-1 * r * t) * get_nm_cdf(d2)\n",
    "\telse:\n",
    "\t\topt_prc = k * math.exp(-1 * r * t) * get_nm_cdf(-1 * d2) - s * get_nm_cdf(-1 * d1)\n",
    "\n",
    "\treturn opt_prc\n",
    "\n",
    "\n",
    "bs_opt_prc = get_bs_opt_prc(\n",
    "    opt_type,\n",
    "    spot_prc,\n",
    "    strike_prc,\n",
    "    remain_day / 365,\n",
    "    interest_rate * 0.01,\n",
    "    volatility * 0.01\n",
    ")\n",
    "\n",
    "print(\"옵션가\", bs_opt_prc)"
   ]
  },
  {
   "cell_type": "markdown",
   "metadata": {},
   "source": [
    "## Binomial Option Pricing Model (CPU)\n",
    "---"
   ]
  },
  {
   "cell_type": "code",
   "execution_count": 4,
   "metadata": {},
   "outputs": [
    {
     "name": "stdout",
     "output_type": "stream",
     "text": [
      "소요시간(초) 0.0009996891021728516\n",
      "옵션가 4.203350070605942\n"
     ]
    }
   ],
   "source": [
    "st_time = time.time()\n",
    "\n",
    "remain_year = remain_day / 365\n",
    "delta_t = max(remain_year / node_cnt, 0.000001)\n",
    "a = math.exp(interest_rate * 0.01 * delta_t)\n",
    "u = math.exp(volatility * 0.01 * math.sqrt(delta_t))\n",
    "d = 1 / u\n",
    "p = (a - d) / (u - d)\n",
    "r_p = 1 - p\n",
    "\n",
    "datas = [0] * (node_cnt + 1)\n",
    "\n",
    "for row in range(node_cnt+1):\n",
    "    datas[row] = spot_prc * (u ** (node_cnt - 2 * row))\n",
    "    datas[row] = max(datas[row]-strike_prc, 0) if OPT_TYPE_CALL == opt_type else max(strike_prc-datas[row], 0)\n",
    "\n",
    "for col in range(node_cnt, 0, -1):\n",
    "    for row in range(col):\n",
    "        datas[row] = (p * datas[row] + r_p * datas[row+1]) / a\n",
    "\n",
    "ed_time = time.time()\n",
    "\n",
    "print(\"소요시간(초)\", ed_time - st_time)\n",
    "print(\"옵션가\", datas[0])"
   ]
  },
  {
   "cell_type": "markdown",
   "metadata": {},
   "source": [
    "## Binomial Option Pricing Model (GPU)\n",
    "---"
   ]
  },
  {
   "cell_type": "code",
   "execution_count": 5,
   "metadata": {},
   "outputs": [
    {
     "name": "stdout",
     "output_type": "stream",
     "text": [
      "소요시간(초) 0.004010677337646484\n",
      "옵션가 4.203350070605941\n"
     ]
    }
   ],
   "source": [
    "# Kernel code\n",
    "kernel_code = \"\"\"\n",
    "__constant__ int int_params[2];\n",
    "__constant__ double double_params[7];\n",
    "\n",
    "__global__ void get_w_avg_prc(double* l_vals, double* r_vals) {\n",
    "\tconst int node_cnt = int_params[0];\n",
    "\tconst double a = double_params[2];\n",
    "\tconst double p = double_params[5];\n",
    "\tconst double r_p = double_params[6];\n",
    "\n",
    "\tconst int idx = threadIdx.x + blockIdx.x * blockDim.x;\n",
    "\n",
    "\tif ( node_cnt > idx ) {\n",
    "\t\tl_vals[idx] = (p * r_vals[idx] + r_p * r_vals[idx + 1]) / a;\n",
    "\t}\n",
    "}\n",
    "\n",
    "__global__ void get_payoffs(double* payoffs) {\n",
    "\tconst int node_cnt = int_params[0];\n",
    "\tconst int opt_type = int_params[1];\n",
    "\tconst double spot_prc = double_params[0];\n",
    "\tconst double strike_prc = double_params[1];\n",
    "\tconst double u = double_params[3];\n",
    "\n",
    "\tconst int idx = threadIdx.x + blockIdx.x * blockDim.x;\n",
    "\n",
    "\tconst double final_spot_prc = spot_prc * pow(u, (double)(node_cnt - 2 * idx));\n",
    "\tconst double payoff = (0==opt_type) ? fmax(final_spot_prc-strike_prc, 0.0) : fmax(strike_prc-final_spot_prc, 0.0);\n",
    "\n",
    "\tpayoffs[idx] = payoff;\n",
    "}\n",
    "\"\"\"\n",
    "\n",
    "# Compile the kernel code\n",
    "mod = compiler.SourceModule(kernel_code)\n",
    "\n",
    "st_time = time.time()\n",
    "\n",
    "remain_year = remain_day / 365\n",
    "delta_t = max(remain_year / node_cnt, 0.000001)\n",
    "a = math.exp(interest_rate * 0.01 * delta_t)\n",
    "u = math.exp(volatility * 0.01 * math.sqrt(delta_t))\n",
    "d = 1 / u\n",
    "p = (a - d) / (u - d)\n",
    "r_p = 1 - p\n",
    "\n",
    "params = [spot_prc, strike_prc, a, u, d, p, r_p]\n",
    "\n",
    "inputs_int = np.array([node_cnt, opt_type], dtype=np.int32)\n",
    "inputs_double = np.array(params, dtype=np.float64)\n",
    "\n",
    "# Constant 메모리에 값 복사\n",
    "drv.memcpy_htod(mod.get_global(\"int_params\")[0], inputs_int)\n",
    "drv.memcpy_htod(mod.get_global(\"double_params\")[0], inputs_double)\n",
    "\n",
    "# Get kernel function\n",
    "get_w_avg_prc = mod.get_function(\"get_w_avg_prc\")\n",
    "get_payoffs = mod.get_function(\"get_payoffs\")\n",
    "\n",
    "# Numpy array를 생성\n",
    "host_input_memory1 = np.zeros(node_cnt + 1, dtype=np.float64)\n",
    "host_input_memory2 = np.zeros(node_cnt + 1, dtype=np.float64)\n",
    "\n",
    "# GPU 메모리 할당\n",
    "device_memory1 = drv.mem_alloc(host_input_memory1.nbytes)\n",
    "device_memory2 = drv.mem_alloc(host_input_memory2.nbytes)\n",
    "\n",
    "# Host에서 Device로 메모리 복사\n",
    "drv.memcpy_htod(device_memory1, host_input_memory1)\n",
    "drv.memcpy_htod(device_memory2, host_input_memory2)\n",
    "\n",
    "# Thread와 Block 갯수 계산\n",
    "thread_cnt = 32\n",
    "block_cnt = math.ceil(host_input_memory1.size / thread_cnt)\n",
    "\n",
    "# Payoff들을 계산\n",
    "get_payoffs(device_memory1, block=(thread_cnt, 1, 1), grid=(block_cnt, 1, 1))\n",
    "\n",
    "# 가중 평균 계산\n",
    "i = node_cnt\n",
    "input_flag = True\n",
    "\n",
    "while 0 < i:\n",
    "\tblock_cnt = math.ceil(i / thread_cnt)\n",
    "\n",
    "\tif input_flag:\n",
    "\t\tget_w_avg_prc(device_memory2, device_memory1, block=(thread_cnt, 1, 1), grid=(block_cnt, 1, 1))\n",
    "\telse:\n",
    "\t\tget_w_avg_prc(device_memory1, device_memory2, block=(thread_cnt, 1, 1), grid=(block_cnt, 1, 1))\n",
    "\n",
    "\tinput_flag = not input_flag\n",
    "\ti = i - 1\n",
    "\n",
    "# 결과값을 Device에서 Host로 메모리 복사\n",
    "opt_prc = np.zeros(1, dtype=np.float64)\n",
    "\n",
    "if input_flag:\n",
    "\tdrv.memcpy_dtoh(opt_prc, device_memory1)\n",
    "else:\n",
    "\tdrv.memcpy_dtoh(opt_prc, device_memory2)\n",
    "\n",
    "ed_time = time.time()\n",
    "\n",
    "print(\"소요시간(초)\", ed_time - st_time)\n",
    "print(\"옵션가\", opt_prc[0])"
   ]
  }
 ],
 "metadata": {
  "kernelspec": {
   "display_name": "Python 3",
   "language": "python",
   "name": "python3"
  },
  "language_info": {
   "codemirror_mode": {
    "name": "ipython",
    "version": 3
   },
   "file_extension": ".py",
   "mimetype": "text/x-python",
   "name": "python",
   "nbconvert_exporter": "python",
   "pygments_lexer": "ipython3",
   "version": "3.7.4"
  }
 },
 "nbformat": 4,
 "nbformat_minor": 4
}
