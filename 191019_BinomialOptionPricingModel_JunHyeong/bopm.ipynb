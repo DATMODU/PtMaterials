{
 "cells": [
  {
   "cell_type": "code",
   "execution_count": 1,
   "metadata": {},
   "outputs": [
    {
     "data": {
      "application/vnd.jupyter.widget-view+json": {
       "model_id": "907b7c3512924278b355dc9c0f2ac461",
       "version_major": 2,
       "version_minor": 0
      },
      "text/plain": [
       "interactive(children=(Dropdown(description='옵션타입', options=(('콜', 'call'), ('풋', 'put')), value='call'), Bound…"
      ]
     },
     "metadata": {},
     "output_type": "display_data"
    }
   ],
   "source": [
    "import math\n",
    "import ipywidgets\n",
    "import time\n",
    "\n",
    "def get_opt_prc_one_thd(opt_type, strike_prc, spot_prc, remain_day, interest_rate, volatility, node_cnt):\n",
    "    st_time = time.time()\n",
    "    \n",
    "    remain_year = remain_day / 365\n",
    "    delta_t = max(remain_year / node_cnt, 0.000001)\n",
    "    a = math.exp(interest_rate * 0.01 * delta_t)\n",
    "    u = math.exp(volatility * 0.01 * math.sqrt(delta_t))\n",
    "    d = 1 / u\n",
    "    p = (a - d) / (u - d)\n",
    "    r_p = 1 - p\n",
    "\n",
    "    datas = [0] * (node_cnt + 1)\n",
    "\n",
    "    for row in range(node_cnt+1):\n",
    "        datas[row] = spot_prc * (u**(node_cnt-row)) * (d**row)\n",
    "        #datas[row] = max(datas[row]-strike_prc, 0) if \"call\" == opt_type else max(strike_prc-datas[row], 0)\n",
    "        \n",
    "    print(datas)\n",
    "\n",
    "    for col in range(node_cnt, 0, -1):\n",
    "        for row in range(col):\n",
    "            datas[row] = (p * datas[row] + r_p * datas[row+1]) / a\n",
    "    \n",
    "    ed_time = time.time()\n",
    "    \n",
    "    print(\"옵션가격:\", datas[0])\n",
    "    print(\"소요시간(초):\", ed_time - st_time)\n",
    "\n",
    "ipywidgets.interact_manual(\n",
    "    get_opt_prc_one_thd,\n",
    "    opt_type=ipywidgets.Dropdown(options=[(\"콜\", \"call\"), (\"풋\", \"put\")], description=\"옵션타입\"),\n",
    "    spot_prc=ipywidgets.BoundedFloatText(min=0, max=1000, value=274.34, step=0.01, description=\"기초자산\"),\n",
    "    strike_prc=ipywidgets.BoundedFloatText(min=0, max=1000, value=275, step=2.5, description=\"행사가\"),\n",
    "    remain_day=ipywidgets.BoundedIntText(min=1, max=1000, value=31, description=\"잔존일\"),\n",
    "    interest_rate=ipywidgets.BoundedFloatText(min=0, value=1.55, step=0.01, description=\"이자율(%)\"),\n",
    "    volatility=ipywidgets.BoundedFloatText(min=0.01, value=13.59, step=0.01, description=\"변동성(%)\"),\n",
    "    node_cnt=ipywidgets.BoundedIntText(min=2, max=100000, value=49, description=\"노드수\"),\n",
    ");"
   ]
  },
  {
   "cell_type": "code",
   "execution_count": 3,
   "metadata": {},
   "outputs": [
    {
     "name": "stdout",
     "output_type": "stream",
     "text": [
      "[274.34       275.           1.0002633    1.0178698    0.98244387\n",
      "   0.50300515   0.49699485]\n",
      "[7.81250185e-003 7.81250185e-003 5.26354425e-315 0.00000000e+000\n",
      " 0.00000000e+000]\n"
     ]
    }
   ],
   "source": [
    "import math\n",
    "import ipywidgets\n",
    "import time\n",
    "import numpy as np\n",
    "import pycuda.autoinit\n",
    "import pycuda.driver as drv\n",
    "from pycuda import compiler\n",
    "\n",
    "OPT_TYPE_CALL = 0\n",
    "OPT_TYPE_PUT = 1\n",
    "\n",
    "# Kernel code\n",
    "kernel_code = \"\"\"\n",
    "__constant__ int opt_type;\n",
    "__constant__ float params[7];\n",
    "\n",
    "__global__ void get_opt_prc_n_thd(float* ret)\n",
    "{\n",
    "    extern __shared__ float datas[];\n",
    "    \n",
    "    int node_cnt = blockDim.x;\n",
    "    int tid = threadIdx.x;\n",
    "    \n",
    "    const float spot_prc = params[0];\n",
    "    const float strike_prc = params[1];\n",
    "    const float a = params[2];\n",
    "    const float u = params[3];\n",
    "    const float d = params[4];\n",
    "    const float p = params[5];\n",
    "    const float r_p = params[6];\n",
    "    \n",
    "    //datas[tid] = spot_prc * powf(u, node_cnt-tid) * powf(d, tid);\n",
    "    //datas[tid] = ( 1 == opt_type ) ? fmaxf(datas[tid]-strike_prc, 0) : fmaxf(strike_prc-datas[tid], 0);\n",
    "    \n",
    "    __syncthreads();\n",
    "    \n",
    "    //ret[tid] = datas[tid];\n",
    "    \n",
    "    ret[tid] = 1.0;\n",
    "}\n",
    "\"\"\"\n",
    "\n",
    "# Compile the kernel code\n",
    "mod = compiler.SourceModule(kernel_code)\n",
    "\n",
    "# result\n",
    "#result = np.zeros(1, dtype=np.float)\n",
    "\n",
    "opt_type = OPT_TYPE_CALL\n",
    "spot_prc = 274.34\n",
    "strike_prc = 275.0\n",
    "remain_day = 31\n",
    "interest_rate = 1.55\n",
    "volatility = 13.59\n",
    "node_cnt = 5\n",
    "\n",
    "remain_year = remain_day / 365\n",
    "delta_t = max(remain_year / node_cnt, 0.000001)\n",
    "a = math.exp(interest_rate * 0.01 * delta_t)\n",
    "u = math.exp(volatility * 0.01 * math.sqrt(delta_t))\n",
    "d = 1 / u\n",
    "p = (a - d) / (u - d)\n",
    "r_p = 1 - p\n",
    "\n",
    "params = [spot_prc, strike_prc, a, u, d, p, r_p]\n",
    "\n",
    "inputs_int = np.array([opt_type], dtype=np.int)\n",
    "inputs_float = np.array(params, dtype=np.float32)\n",
    "\n",
    "drv.memcpy_htod(mod.get_global(\"opt_type\")[0], inputs_int)\n",
    "drv.memcpy_htod(mod.get_global(\"params\")[0], inputs_float)\n",
    "\n",
    "# Get kernel function\n",
    "get_opt_func = mod.get_function(\"get_opt_prc_n_thd\")\n",
    "\n",
    "# Run & Print\n",
    "N = 5\n",
    "result_arr = np.zeros(N, dtype=np.float)\n",
    "get_opt_func(drv.InOut(result_arr), block=(N, 1, 1), shared=N)\n",
    "\n",
    "print(inputs_float)\n",
    "print(result_arr)"
   ]
  },
  {
   "cell_type": "code",
   "execution_count": null,
   "metadata": {},
   "outputs": [],
   "source": []
  }
 ],
 "metadata": {
  "kernelspec": {
   "display_name": "Python 3",
   "language": "python",
   "name": "python3"
  },
  "language_info": {
   "codemirror_mode": {
    "name": "ipython",
    "version": 3
   },
   "file_extension": ".py",
   "mimetype": "text/x-python",
   "name": "python",
   "nbconvert_exporter": "python",
   "pygments_lexer": "ipython3",
   "version": "3.7.4"
  }
 },
 "nbformat": 4,
 "nbformat_minor": 4
}
