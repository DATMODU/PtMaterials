{
 "cells": [
  {
   "cell_type": "code",
   "execution_count": 1,
   "metadata": {},
   "outputs": [
    {
     "data": {
      "application/vnd.jupyter.widget-view+json": {
       "model_id": "06d1ffedec154f3486e4198868a3f6d6",
       "version_major": 2,
       "version_minor": 0
      },
      "text/plain": [
       "interactive(children=(Dropdown(description='옵션타입', options=(('콜', 'call'), ('풋', 'put')), value='call'), Bound…"
      ]
     },
     "metadata": {},
     "output_type": "display_data"
    }
   ],
   "source": [
    "import math\n",
    "import ipywidgets\n",
    "import time\n",
    "\n",
    "def get_opt_prc(opt_type, strike_prc, spot_prc, remain_day, interest_rate, volatility, node_cnt):\n",
    "    st_time = time.time()\n",
    "    \n",
    "    remain_year = remain_day / 365\n",
    "    delta_t = max(remain_year / node_cnt, 0.000001)\n",
    "    a = math.exp(interest_rate * 0.01 * delta_t)\n",
    "    u = math.exp(volatility * 0.01 * math.sqrt(delta_t))\n",
    "    d = 1 / u\n",
    "    p = (a - d) / (u - d)\n",
    "    r_p = 1 - p\n",
    "\n",
    "    datas = [0] * (node_cnt + 1)\n",
    "\n",
    "    for row in range(node_cnt+1):\n",
    "        datas[row] = spot_prc * (u**(node_cnt-row)) * (d**row)\n",
    "        datas[row] = max(datas[row]-strike_prc, 0) if \"call\" == opt_type else max(strike_prc-datas[row], 0)\n",
    "\n",
    "    for col in range(node_cnt, 0, -1):\n",
    "        for row in range(col):\n",
    "            datas[row] = (p * datas[row] + r_p * datas[row+1]) / a\n",
    "    \n",
    "    ed_time = time.time()\n",
    "    \n",
    "    print(\"옵션가격:\", datas[0])\n",
    "    print(\"소요시간(초):\", ed_time - st_time)\n",
    "\n",
    "ipywidgets.interact_manual(\n",
    "    get_opt_prc,\n",
    "    opt_type=ipywidgets.Dropdown(options=[(\"콜\", \"call\"), (\"풋\", \"put\")], description=\"옵션타입\"),\n",
    "    spot_prc=ipywidgets.BoundedFloatText(min=0, max=1000, value=274.34, step=0.01, description=\"기초자산\"),\n",
    "    strike_prc=ipywidgets.BoundedFloatText(min=0, max=1000, value=275, step=2.5, description=\"행사가\"),\n",
    "    remain_day=ipywidgets.BoundedIntText(min=1, max=1000, value=31, description=\"잔존일\"),\n",
    "    interest_rate=ipywidgets.BoundedFloatText(min=0, value=1.55, step=0.01, description=\"이자율(%)\"),\n",
    "    volatility=ipywidgets.BoundedFloatText(min=0.01, value=13.59, step=0.01, description=\"변동성(%)\"),\n",
    "    node_cnt=ipywidgets.BoundedIntText(min=2, max=100000, value=49, description=\"노드수\"),\n",
    ");"
   ]
  },
  {
   "cell_type": "code",
   "execution_count": null,
   "metadata": {},
   "outputs": [],
   "source": [
    "from pycuda import compiler\n",
    "\n"
   ]
  },
  {
   "cell_type": "code",
   "execution_count": null,
   "metadata": {},
   "outputs": [],
   "source": []
  }
 ],
 "metadata": {
  "kernelspec": {
   "display_name": "Python 3",
   "language": "python",
   "name": "python3"
  },
  "language_info": {
   "codemirror_mode": {
    "name": "ipython",
    "version": 3
   },
   "file_extension": ".py",
   "mimetype": "text/x-python",
   "name": "python",
   "nbconvert_exporter": "python",
   "pygments_lexer": "ipython3",
   "version": "3.7.4"
  }
 },
 "nbformat": 4,
 "nbformat_minor": 4
}
