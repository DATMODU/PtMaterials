{
 "cells": [
  {
   "cell_type": "markdown",
   "metadata": {},
   "source": [
    "# Investing.com Crawling\n",
    "---"
   ]
  },
  {
   "cell_type": "markdown",
   "metadata": {},
   "source": [
    "### 1. 종목 마스터 정보\n",
    "Target: https://www.investing.com/indices/indices-futures 의 Specification 탭"
   ]
  },
  {
   "cell_type": "code",
   "execution_count": 1,
   "metadata": {},
   "outputs": [
    {
     "name": "stdout",
     "output_type": "stream",
     "text": [
      "js_args: ['this', 'indices', 'cross_rates_container', 'Futures', '0', '56ed2c921d6ef28c273007be75597f06']\n",
      "sml_id: 70\n"
     ]
    }
   ],
   "source": [
    "# -*- coding: utf-8 -*-\n",
    "import sys\n",
    "import requests\n",
    "import re\n",
    "\n",
    "indi_fut_url = \"https://www.investing.com/indices/indices-futures\"\n",
    "\n",
    "headers = {\n",
    "    \"Accept\": \"text/html,application/xhtml+xml,application/xml;q=0.9,image/avif,image/webp,image/apng,*/*;q=0.8,application/signed-exchange;v=b3;q=0.9\",\n",
    "    \"Accept-Encoding\": \"gzip, deflate, br\",\n",
    "    \"Accept-Language\": \"ko-KR,ko;q=0.9,en-US;q=0.8,en;q=0.7\",\n",
    "    \"Cache-Control\": \"max-age=0\",\n",
    "    \"Connection\": \"keep-alive\",\n",
    "    \"Host\": \"www.investing.com\",\n",
    "    \"Referer\": \"https://www.investing.com/\",\n",
    "    \"Sec-Fetch-Dest\": \"document\",\n",
    "    \"Sec-Fetch-Mode\": \"navigate\",\n",
    "    \"Sec-Fetch-Site\": \"same-origin\",\n",
    "    \"Sec-Fetch-User\": \"?1\",\n",
    "    \"Upgrade-Insecure-Requests\": \"1\",\n",
    "    \"User-Agent\": \"Mozilla/5.0 (Windows NT 10.0; Win64; x64) AppleWebKit/537.36 (KHTML, like Gecko) Chrome/85.0.4183.102 Safari/537.36\",\n",
    "}\n",
    "\n",
    "resp = requests.get(url=indi_fut_url, headers=headers)\n",
    "\n",
    "pattern = re.compile(\"<.+?type=\\\"Specifications\\\".+?execPricePerfTechButton\\((.+?)\\).+?>\")\n",
    "find_strs = pattern.findall(resp.text)\n",
    "js_args = find_strs[0].replace(\" \", \"\").replace(\"\\'\", \"\").split(\",\")\n",
    "\n",
    "pattern = re.compile(\"window.siteData.smlID.*?=(.+?);\")\n",
    "find_strs = pattern.findall(resp.text)\n",
    "sml_id = find_strs[0].strip()\n",
    "\n",
    "print(\"js_args:\", js_args)\n",
    "print(\"sml_id:\", sml_id)"
   ]
  },
  {
   "cell_type": "code",
   "execution_count": 2,
   "metadata": {},
   "outputs": [
    {
     "name": "stdout",
     "output_type": "stream",
     "text": [
      "spc_fut_url: https://www.investing.com/indices/Service/SpecificationsFutures\n",
      "params: {'pairid': '0', 'sid': '56ed2c921d6ef28c273007be75597f06', 'filterParams': '', 'smlID': '70'}\n"
     ]
    }
   ],
   "source": [
    "spc_fut_url = f\"https://www.investing.com/{js_args[1]}/Service/SpecificationsFutures\"\n",
    "\n",
    "headers = {\n",
    "    \"Accept\": \"*/*\",\n",
    "    \"Accept-Encoding\": \"gzip, deflate, br\",\n",
    "    \"Accept-Language\": \"ko-KR,ko;q=0.9,en-US;q=0.8,en;q=0.7\",\n",
    "    \"Connection\": \"keep-alive\",\n",
    "    \"Host\": \"www.investing.com\",\n",
    "    \"Referer\": \"https://www.investing.com/indices/indices-futures\",\n",
    "    \"Sec-Fetch-Dest\": \"empty\",\n",
    "    \"Sec-Fetch-Mode\": \"cors\",\n",
    "    \"Sec-Fetch-Site\": \"same-origin\",\n",
    "    \"User-Agent\": \"Mozilla/5.0 (Windows NT 10.0; Win64; x64) AppleWebKit/537.36 (KHTML, like Gecko) Chrome/85.0.4183.102 Safari/537.36\",\n",
    "    \"X-Requested-With\": \"XMLHttpRequest\",\n",
    "}\n",
    "\n",
    "params = {\n",
    "    \"pairid\": js_args[4],\n",
    "    \"sid\": js_args[5],\n",
    "    \"filterParams\": \"\",\n",
    "    \"smlID\": sml_id\n",
    "}\n",
    "\n",
    "resp = requests.get(url=spc_fut_url, headers=headers, params=params)\n",
    "\n",
    "print(\"spc_fut_url:\", spc_fut_url)\n",
    "print(\"params:\", params)"
   ]
  },
  {
   "cell_type": "code",
   "execution_count": 3,
   "metadata": {},
   "outputs": [
    {
     "name": "stdout",
     "output_type": "stream",
     "text": [
      "[{'pid': '8873', 'trd_hour': '17:00 – 16:15 CT (Sunday – Friday)', 'last_trd_day': 'The third Friday of the contract month', 'tick_size': '1', 'tick_value': '5', 'stmt_type': 'Cash', 'country': 'United States', 'item_nm': 'Dow Jones Futures (CFD)', 'symbol': 'YM', 'exchange': '', 'contract_size': '$5 x Dow Jones', 'month': 'HMUZ', 'point_value': '1 = $5'}, {'pid': '8839', 'trd_hour': '17:00 – 16:15 CT (Sunday – Friday)', 'last_trd_day': 'The third Friday of the contract month', 'tick_size': '0.25', 'tick_value': '12.5', 'stmt_type': 'Cash', 'country': 'United States', 'item_nm': 'S&P 500 Futures (CFD)', 'symbol': 'ES', 'exchange': '', 'contract_size': '$50 x Index Price', 'month': 'HMUZ', 'point_value': '1 = $50'}, {'pid': '8874', 'trd_hour': '17:00 - 16:15 CT (Monday - Friday)', 'last_trd_day': 'The third Friday of the contract month', 'tick_size': '0.25', 'tick_value': '5', 'stmt_type': 'Cash', 'country': 'United States', 'item_nm': 'NASDAQ Futures (CFD)', 'symbol': 'NQ', 'exchange': '', 'contract_size': '$20 x Nasdaq 100', 'month': 'HMUZ', 'point_value': '1 = $20'}, {'pid': '8864', 'trd_hour': '20:00 -18:00  ET (Sunday-Friday)', 'last_trd_day': 'The third Friday of the expiration month', 'tick_size': '0.1', 'tick_value': '10', 'stmt_type': 'Cash', 'country': 'United States', 'item_nm': 'Small Cap 2000 Futures (CFD)', 'symbol': 'TF', 'exchange': 'ICE', 'contract_size': '$100 x Russell 2000', 'month': 'HMUZ', 'point_value': '1 = $100'}, {'pid': '8884', 'trd_hour': '8:30 - 15:15 CT (Monday - Friday)', 'last_trd_day': 'The Wednesday that is thirty days prior to the third Friday of the calendar month immediately following the month in which the contract expires.', 'tick_size': '0.05', 'tick_value': '50', 'stmt_type': 'Cash', 'country': 'United States', 'item_nm': 'S&P 500 VIX Futures (CFD)', 'symbol': 'VX', 'exchange': 'CBOE', 'contract_size': '$1,000 x VIX Index', 'month': 'FGHJKMNQUVXZ', 'point_value': '1 = $1000'}, {'pid': '8826', 'trd_hour': '07:50 - 22:00 CET (Monday-Friday)', 'last_trd_day': 'The third Friday of each maturity month if this is an exchange day', 'tick_size': '0.5', 'tick_value': '12.5', 'stmt_type': 'Cash', 'country': 'Germany', 'item_nm': 'DAX Futures (CFD)', 'symbol': 'FDAX', 'exchange': 'Eurex', 'contract_size': '€25 x DAX', 'month': 'HMUZ', 'point_value': '1 = €25'}, {'pid': '8853', 'trd_hour': '08:00 - 22:00 Paris time (Monday-Friday) ', 'last_trd_day': 'The third Friday of the delivery month', 'tick_size': '0.5', 'tick_value': '5', 'stmt_type': 'Cash', 'country': 'France', 'item_nm': 'CAC 40 Futures (CFD)', 'symbol': 'FCE', 'exchange': 'Euronext', 'contract_size': '€10 x CAC 40', 'month': 'FGHJKMNQUVXZ', 'point_value': '1 = €10'}, {'pid': '8838', 'trd_hour': '01:00 - 21:00 London time (Monday-Friday) ', 'last_trd_day': 'As soon as reasonably practicable after 10:15 (London time) once the Expiry Value of the Index has been determined.', 'tick_size': '0.5', 'tick_value': '5', 'stmt_type': 'Cash', 'country': 'United Kingdom', 'item_nm': 'FTSE 100 Futures (CFD)', 'symbol': 'Z', 'exchange': 'LIFFE', 'contract_size': '£10 x Index Price', 'month': 'HMUZ', 'point_value': '1 = £10'}, {'pid': '8867', 'trd_hour': '07:50 - 22:00 CET (Monday-Friday)', 'last_trd_day': 'The third Friday of each maturity month if this is an exchange day', 'tick_size': '1', 'tick_value': '10', 'stmt_type': 'Cash', 'country': 'Euro Zone', 'item_nm': 'Euro Stoxx 50 Futures (CFD)', 'symbol': 'FESX', 'exchange': 'Eurex', 'contract_size': '€10 x Euro Stoxx 50', 'month': 'HMUZ', 'point_value': '1 = €10'}, {'pid': '8858', 'trd_hour': '09:00 - 17:40 CET (Monday-Friday)', 'last_trd_day': 'The third Friday of the expiration month', 'tick_size': '5', 'tick_value': '25', 'stmt_type': 'Cash', 'country': 'Italy', 'item_nm': 'FTSE MIB Futures (CFD)', 'symbol': 'FIB', 'exchange': 'Borsa Italiana', 'contract_size': '€5 x FTSE MIB', 'month': 'HMUZ', 'point_value': '1 = €5'}, {'pid': '8837', 'trd_hour': '08:00 - 22:00 CET (Monday-Friday)', 'last_trd_day': 'The third Friday of each maturity month if this is an exchange day', 'tick_size': '0.1', 'tick_value': '1', 'stmt_type': 'Cash', 'country': 'Switzerland', 'item_nm': 'SMI Futures (CFD)', 'symbol': 'FSMI', 'exchange': 'Eurex', 'contract_size': 'CHF10 x SMI', 'month': 'HMUZ', 'point_value': '1 = CHF10'}, {'pid': '8828', 'trd_hour': ' 09:00  - 20:00 CET (Monday-Friday)', 'last_trd_day': 'The third Friday of the expiration month', 'tick_size': '1', 'tick_value': '10', 'stmt_type': 'Cash', 'country': 'Spain', 'item_nm': 'IBEX 35 Futures (CFD)', 'symbol': 'IBEX', 'exchange': 'BME', 'contract_size': '€10 x IBEX 35', 'month': 'FGHJKMNQUVXZ', 'point_value': '1 = €10'}, {'pid': '8825', 'trd_hour': '07:50 - 22:00 CET (Monday-Friday)', 'last_trd_day': 'The third Friday of each maturity month if this is an exchange day', 'tick_size': '0.1', 'tick_value': '1', 'stmt_type': 'Cash', 'country': 'Austria', 'item_nm': 'ATX Futures', 'symbol': 'ATX', 'exchange': 'Eurex', 'contract_size': '€10 x ATX', 'month': 'HMUZ', 'point_value': '1 = €10'}, {'pid': '8863', 'trd_hour': '08:45 - 17:20 CET (Monday - Friday) ', 'last_trd_day': 'The third Friday of the delivery month', 'tick_size': '1', 'tick_value': '20', 'stmt_type': 'Cash', 'country': 'Poland', 'item_nm': 'WIG20 Futures (CFD)', 'symbol': 'FW20', 'exchange': 'WSE', 'contract_size': 'zł20 x WIG20', 'month': 'HMUZ', 'point_value': '1 = zł20'}, {'pid': '8878', 'trd_hour': '08:00 - 22:00 CET (Monday-Friday)', 'last_trd_day': 'The third Friday of the delivery month', 'tick_size': '0.05', 'tick_value': '10', 'stmt_type': 'Cash', 'country': 'Netherlands', 'item_nm': 'AEX Futures (CFD)', 'symbol': 'FTI', 'exchange': 'Euronext', 'contract_size': '€200 x AEX 25', 'month': 'FGHJKMNQUVXZ', 'point_value': '1 = €200'}, {'pid': '8882', 'trd_hour': '09:00 - 17:00 CET (Monday-Friday)', 'last_trd_day': '', 'tick_size': '0.5', 'tick_value': '5', 'stmt_type': 'Cash', 'country': 'Hungary', 'item_nm': 'BUX Futures', 'symbol': 'BUX', 'exchange': 'BSE', 'contract_size': 'Ft10 x BUX', 'month': 'MZ', 'point_value': '1 = Ft100'}, {'pid': '104396', 'trd_hour': '10:00 - 18:45 Moscow Time , 19:00 – 23:50 Moscow Time (Monday-Friday)', 'last_trd_day': 'Trading day preceding the fifteenth of an appropriate delivery month.', 'tick_size': '10', 'tick_value': '10', 'stmt_type': 'Cash', 'country': 'Russia', 'item_nm': 'RTS cash-settled Futures (CFD)', 'symbol': 'RIRTS', 'exchange': 'MICEX', 'contract_size': '1 x Index Price', 'month': 'HMUZ', 'point_value': '1 = $1'}, {'pid': '961616', 'trd_hour': '', 'last_trd_day': '', 'tick_size': '0.25', 'tick_value': '1.25', 'stmt_type': 'Cash', 'country': 'Greece', 'item_nm': 'Greece 20 Futures', 'symbol': 'ATF', 'exchange': 'ATHEX', 'contract_size': '5 EUR x FTSE/AΤΗΕΧ Large Cap', 'month': 'FGHJKMNQUVXZ', 'point_value': '1 = €5'}, {'pid': '941612', 'trd_hour': \"09:00 - 17:55 (Sao Paulo Time) (Monday - Friday) , On the contract's expiration date will close at 17:00\", 'last_trd_day': 'The Wednesday closest to the fifteen calendar day of the contract month.', 'tick_size': '5', 'tick_value': '5', 'stmt_type': 'Cash', 'country': 'Brazil', 'item_nm': 'iBovespa Futures (CFD)', 'symbol': 'IND', 'exchange': 'BM&F Bovespa', 'contract_size': 'R$1 x iBovespa', 'month': 'FGHJKMNQUVXZ', 'point_value': '1 = R$1'}, {'pid': '8859', 'trd_hour': '9:00 - 15:15 and 16:30 - 03:00 Tokyo time (Monday-Friday)', 'last_trd_day': 'The business day preceding the second Friday of each contract month', 'tick_size': '5', 'tick_value': '2,500', 'stmt_type': 'Cash', 'country': 'Japan', 'item_nm': 'Nikkei 225 Futures (CFD)', 'symbol': 'NK', 'exchange': 'OSE', 'contract_size': '¥1,000 x Nikkei 225', 'month': 'HMUZ', 'point_value': '1 = ¥1000'}, {'pid': '941609', 'trd_hour': '', 'last_trd_day': '', 'tick_size': '0.5', 'tick_value': '5000', 'stmt_type': 'Cash', 'country': 'Japan', 'item_nm': 'TOPIX Futures (CFD)', 'symbol': '', 'exchange': '', 'contract_size': '¥10000 x TOPIX', 'month': 'HMUZ', 'point_value': '1 = ¥10000'}, {'pid': '8984', 'trd_hour': '09:15 - 12:00 , 13:00 - 16:15  , 17:00 - 23:00 Hong Kong time (Monday-Friday)', 'last_trd_day': 'The business day immediately preceding the last Business Day of the Contract Month', 'tick_size': '1', 'tick_value': '50', 'stmt_type': 'Cash', 'country': 'Hong Kong', 'item_nm': 'Hang Seng Futures (CFD)', 'symbol': 'HIS', 'exchange': 'HKEx', 'contract_size': 'HK$50 x Hang Seng', 'month': 'FGHJKMNQUVXZ', 'point_value': '1 = HK$50'}, {'pid': '8982', 'trd_hour': '09:15 - 12:00 , 13:00 - 16:15  , 17:00 - 23:00 Hong Kong time (Monday-Friday)', 'last_trd_day': 'The business day immediately preceding the last Business Day of the Contract Month', 'tick_size': '1', 'tick_value': '50', 'stmt_type': 'Cash', 'country': 'Hong Kong', 'item_nm': 'China H-Shares Futures (CFD)', 'symbol': 'HHI', 'exchange': 'HKEx', 'contract_size': 'HK$50 x China H-Shares', 'month': 'FGHJKMNQUVXZ', 'point_value': '1 = $1'}, {'pid': '941616', 'trd_hour': '', 'last_trd_day': '', 'tick_size': '0.2', 'tick_value': '60', 'stmt_type': 'Cash', 'country': 'China', 'item_nm': 'CSI 300 Futures', 'symbol': '', 'exchange': '', 'contract_size': 'CNY300 x CSI 300', 'month': 'FGHJKMNQUVXZ', 'point_value': '1 = CNY300'}, {'pid': '44486', 'trd_hour': '09:00 - 15:55 and 16:40 - 02:00 Singapore time (Monday-Friday)', 'last_trd_day': 'Second last business day of the contract month.', 'tick_size': '2.5', 'tick_value': '2.5', 'stmt_type': 'Cash', 'country': 'Singapore', 'item_nm': 'China A50 Futures (CFD)', 'symbol': 'SFC', 'exchange': 'SGX', 'contract_size': '$1 x China A50', 'month': 'HMUZ', 'point_value': '1 = $1'}, {'pid': '8824', 'trd_hour': '17:10 - 07:00 and 09:50 - 16:30 Sydney Time (Monday-Friday for period from second Sunday in March to first Sunday in November)\\n17:10 - 08:00 and 09:50 - 16:30 Sydney Time (Monday-Friday for period from first Sunday in November to second Sunday in March)', 'last_trd_day': 'The third Thursday of the settlement month', 'tick_size': '1', 'tick_value': '25', 'stmt_type': 'Cash', 'country': 'Australia', 'item_nm': 'S&P/ASX 200 Futures (CFD)', 'symbol': 'AP', 'exchange': 'ASX', 'contract_size': 'A$25 x S&P/ASX 200', 'month': 'HMUZ', 'point_value': '1 = A$25'}, {'pid': '8897', 'trd_hour': '08:30 - 17:10 and 18:15 - 01:00. Singapore time (Monday-Friday)', 'last_trd_day': 'Second last business day of the contract month.', 'tick_size': '0.05', 'tick_value': '5', 'stmt_type': 'Cash', 'country': 'Singapore', 'item_nm': 'Singapore MSCI Futures (CFD)', 'symbol': 'SG', 'exchange': 'SIMEX', 'contract_size': 'S$100 x SGX MSCI Singapore', 'month': 'FGHJKMNQUVXZ', 'point_value': '1 = S$100'}, {'pid': '8985', 'trd_hour': '09:00 - 22:55 Singapore time (Monday-Friday)', 'last_trd_day': 'Last Thursday of the expiry month.', 'tick_size': '0.05', 'tick_value': '3.75', 'stmt_type': 'Cash', 'country': 'India', 'item_nm': 'Nifty 50 Futures (CFD)', 'symbol': 'IN', 'exchange': 'SIMEX', 'contract_size': '₹75 x Nifty 50', 'month': 'FGHJKMNQUVXZ', 'point_value': '1 = ₹75'}, {'pid': '104423', 'trd_hour': '09:15 15:30 Mumbai Time (Monday-Friday)', 'last_trd_day': 'Last Thursday of the expiry month.', 'tick_size': '0.05', 'tick_value': '1.25', 'stmt_type': 'Cash', 'country': 'India', 'item_nm': 'Bank NIFTY Futures', 'symbol': 'NBN', 'exchange': 'NSE', 'contract_size': '₹20 x Bank NIFTY', 'month': 'FGHJKMNQUVXZ', 'point_value': '1 = ₹25'}, {'pid': '8987', 'trd_hour': '09:00 - 15:15 Korea time (Monday-Friday)', 'last_trd_day': 'Second Thursday of the contract month', 'tick_size': '0.05', 'tick_value': '25,000', 'stmt_type': 'Cash', 'country': 'South Korea', 'item_nm': 'KOSPI 200 Futures (CFD)', 'symbol': 'KOSPI', 'exchange': 'KRX', 'contract_size': '₩500,000 x KOSPI 200', 'month': 'HMUZ', 'point_value': '1 = ₩500000'}, {'pid': '104392', 'trd_hour': '', 'last_trd_day': '', 'tick_size': '0.1', 'tick_value': '10', 'stmt_type': 'Cash', 'country': 'Singapore', 'item_nm': 'SGX MSCI Taiwan Futures (CFD)', 'symbol': 'STW', 'exchange': '', 'contract_size': '$100 x SGX MSCI Taiwan', 'month': 'HMUZ', 'point_value': '1 = $100'}, {'pid': '8840', 'trd_hour': '09:00 - 17:00 Johannesburg Time (Monday-Friday) ', 'last_trd_day': 'Third Thursday in delivery month', 'tick_size': '1', 'tick_value': '10', 'stmt_type': 'Cash', 'country': 'South Africa', 'item_nm': 'South Africa Top 40 Futures (CFD)', 'symbol': 'ALSI', 'exchange': 'JSE', 'contract_size': 'ZAR10 x FTSE/JSE 40', 'month': 'HMUZ', 'point_value': '1 = ZAR10'}, {'pid': '15288', 'trd_hour': '07:50 - 22:00 CET (Monday-Friday)', 'last_trd_day': 'The third Friday of each maturity month if this is an exchange day', 'tick_size': '0.5', 'tick_value': '5', 'stmt_type': 'Cash', 'country': 'Germany', 'item_nm': 'TecDAX Futures (CFD)', 'symbol': 'FTDX', 'exchange': 'Eurex', 'contract_size': '€10 x TecDAX', 'month': 'HMUZ', 'point_value': '1 = €10'}]\n"
     ]
    }
   ],
   "source": [
    "from bs4 import BeautifulSoup\n",
    "\n",
    "masters = []\n",
    "\n",
    "bs = BeautifulSoup(resp.text, \"html.parser\")\n",
    "\n",
    "spc_tbl = bs.find(\"table\", id=\"specifications\")\n",
    "tbody = spc_tbl.find(\"tbody\")\n",
    "trs = tbody.find_all(\"tr\")\n",
    "\n",
    "for tr in trs:\n",
    "    tds = tr.find_all(\"td\")\n",
    "\n",
    "    data = {\n",
    "        \"pid\": tr.get(\"pair-id\"),\n",
    "        \"trd_hour\": tr.get(\"data-trade-ours\"),\n",
    "        \"last_trd_day\": tr.get(\"data-last-trade\"),\n",
    "        \"tick_size\": tr.get(\"data-tick-size\"),\n",
    "        \"tick_value\": tr.get(\"data-tick-value\"),\n",
    "        \"stmt_type\": tr.get(\"data-settl-type\"),\n",
    "        \"country\": tds[0].find(\"span\").get(\"title\"),\n",
    "        \"item_nm\": tds[1].find(\"a\").get(\"title\"),\n",
    "        \"symbol\": tds[2].get_text(),\n",
    "        \"exchange\": tds[3].get_text(),\n",
    "        \"contract_size\": tds[4].get_text(),\n",
    "        \"month\": tds[5].get_text(),\n",
    "        \"point_value\": tds[6].get_text(),\n",
    "    }\n",
    "\n",
    "    masters.append(data)\n",
    "\n",
    "print(masters)"
   ]
  },
  {
   "cell_type": "markdown",
   "metadata": {},
   "source": [
    "### 2. 선물 만기정보\n",
    "Target: https://www.investing.com/futures-expiration-calendar/"
   ]
  },
  {
   "cell_type": "code",
   "execution_count": 4,
   "metadata": {},
   "outputs": [
    {
     "name": "stdout",
     "output_type": "stream",
     "text": [
      "status_code: 200\n"
     ]
    }
   ],
   "source": [
    "import requests\n",
    "import json\n",
    "\n",
    "base_url = \"https://www.investing.com/futures-expiration-calendar/Service/getCalendarFilteredData\"\n",
    "\n",
    "headers = {\n",
    "    \"Accept\": \"*/*\",\n",
    "    \"Accept-Encoding\": \"gzip, deflate, br\",\n",
    "    \"Accept-Language\": \"ko-KR,ko;q=0.9,en-US;q=0.8,en;q=0.7\",\n",
    "    \"Connection\": \"keep-alive\",\n",
    "    \"Content-Length\": \"49\",\n",
    "    \"Content-Type\": \"application/x-www-form-urlencoded\",\n",
    "    \"Host\": \"www.investing.com\",\n",
    "    \"Origin\": \"https://www.investing.com\",\n",
    "    \"Referer\": \"https://www.investing.com/futures-expiration-calendar/\",\n",
    "    \"Sec-Fetch-Dest\": \"empty\",\n",
    "    \"Sec-Fetch-Mode\": \"cors\",\n",
    "    \"Sec-Fetch-Site\": \"same-origin\",\n",
    "    \"User-Agent\": \"Mozilla/5.0 (Windows NT 10.0; Win64; x64) AppleWebKit/537.36 (KHTML, like Gecko) Chrome/85.0.4183.102 Safari/537.36\",\n",
    "    \"X-Requested-With\": \"XMLHttpRequest\",\n",
    "}\n",
    "\n",
    "param_query = {\n",
    "    \"currentTab\": \"thisMonth\",\n",
    "    \"submitFilters\": \"1\",\n",
    "    \"limit_from\": \"0\",\n",
    "}\n",
    "\n",
    "resp = requests.post(url=base_url, data=param_query, headers=headers)\n",
    "\n",
    "print(\"status_code:\", resp.status_code)"
   ]
  },
  {
   "cell_type": "code",
   "execution_count": 5,
   "metadata": {},
   "outputs": [
    {
     "name": "stdout",
     "output_type": "stream",
     "text": [
      "[{'code': '13917', 'exp_ts': 1608422400, 'settlement_ts': None, 'last_rollover_ts': 1599350400}, {'code': '104417', 'exp_ts': 1608422400, 'settlement_ts': 1545264000, 'last_rollover_ts': 1599955200}, {'code': '961741', 'exp_ts': 1579564800, 'settlement_ts': 1547510400, 'last_rollover_ts': 1599350400}, {'code': '941609', 'exp_ts': 1608422400, 'settlement_ts': 1599696000, 'last_rollover_ts': 1599436800}, {'code': '1073168', 'exp_ts': 1600560000, 'settlement_ts': 1600300800, 'last_rollover_ts': None}, {'code': '1152915', 'exp_ts': 1600560000, 'settlement_ts': 1600387200, 'last_rollover_ts': None}, {'code': '1152920', 'exp_ts': 1600560000, 'settlement_ts': 1600387200, 'last_rollover_ts': None}, {'code': '1152925', 'exp_ts': 1600560000, 'settlement_ts': 1600387200, 'last_rollover_ts': None}, {'code': '1152913', 'exp_ts': 1600560000, 'settlement_ts': 1600387200, 'last_rollover_ts': None}, {'code': '1152924', 'exp_ts': 1600560000, 'settlement_ts': 1600387200, 'last_rollover_ts': None}, {'code': '1152926', 'exp_ts': 1600560000, 'settlement_ts': 1600387200, 'last_rollover_ts': None}, {'code': '1152922', 'exp_ts': 1600560000, 'settlement_ts': 1600387200, 'last_rollover_ts': None}, {'code': '1153204', 'exp_ts': 1600560000, 'settlement_ts': 1600387200, 'last_rollover_ts': None}, {'code': '1152753', 'exp_ts': 1600560000, 'settlement_ts': 1600387200, 'last_rollover_ts': None}, {'code': '1152932', 'exp_ts': 1600560000, 'settlement_ts': 1600387200, 'last_rollover_ts': None}, {'code': '1152933', 'exp_ts': 1600560000, 'settlement_ts': 1600387200, 'last_rollover_ts': None}, {'code': '1152935', 'exp_ts': 1600560000, 'settlement_ts': 1600387200, 'last_rollover_ts': None}, {'code': '1152936', 'exp_ts': 1600560000, 'settlement_ts': 1600387200, 'last_rollover_ts': None}, {'code': '1152937', 'exp_ts': 1600560000, 'settlement_ts': 1600387200, 'last_rollover_ts': None}, {'code': '1152938', 'exp_ts': 1600560000, 'settlement_ts': 1600387200, 'last_rollover_ts': None}, {'code': '1152939', 'exp_ts': 1600560000, 'settlement_ts': 1600387200, 'last_rollover_ts': None}, {'code': '1152940', 'exp_ts': 1600560000, 'settlement_ts': 1600387200, 'last_rollover_ts': None}, {'code': '1152941', 'exp_ts': 1600560000, 'settlement_ts': 1600387200, 'last_rollover_ts': None}, {'code': '1153203', 'exp_ts': 1600560000, 'settlement_ts': 1600387200, 'last_rollover_ts': None}, {'code': '40716', 'exp_ts': 1600560000, 'settlement_ts': 1600387200, 'last_rollover_ts': None}, {'code': '1013440', 'exp_ts': 1600560000, 'settlement_ts': 1600387200, 'last_rollover_ts': None}, {'code': '1036856', 'exp_ts': 1600560000, 'settlement_ts': 1600387200, 'last_rollover_ts': None}, {'code': '1004962', 'exp_ts': 1600560000, 'settlement_ts': 1600387200, 'last_rollover_ts': None}, {'code': '1152923', 'exp_ts': 1600560000, 'settlement_ts': 1600387200, 'last_rollover_ts': None}, {'code': '1152754', 'exp_ts': 1600560000, 'settlement_ts': 1600387200, 'last_rollover_ts': None}, {'code': '1152912', 'exp_ts': 1600560000, 'settlement_ts': 1600387200, 'last_rollover_ts': None}, {'code': '1152828', 'exp_ts': 1600560000, 'settlement_ts': 1600387200, 'last_rollover_ts': None}, {'code': '1152906', 'exp_ts': 1600560000, 'settlement_ts': 1600387200, 'last_rollover_ts': None}, {'code': '1152907', 'exp_ts': 1600560000, 'settlement_ts': 1600387200, 'last_rollover_ts': None}, {'code': '1152908', 'exp_ts': 1600560000, 'settlement_ts': 1600387200, 'last_rollover_ts': None}, {'code': '1152909', 'exp_ts': 1600560000, 'settlement_ts': 1600387200, 'last_rollover_ts': None}, {'code': '1152910', 'exp_ts': 1600560000, 'settlement_ts': 1600387200, 'last_rollover_ts': None}, {'code': '1152931', 'exp_ts': 1600560000, 'settlement_ts': 1600387200, 'last_rollover_ts': None}, {'code': '1152911', 'exp_ts': 1600560000, 'settlement_ts': 1600387200, 'last_rollover_ts': None}, {'code': '1152919', 'exp_ts': 1600560000, 'settlement_ts': 1600387200, 'last_rollover_ts': None}, {'code': '1153205', 'exp_ts': 1600560000, 'settlement_ts': 1600387200, 'last_rollover_ts': None}, {'code': '1152921', 'exp_ts': 1600560000, 'settlement_ts': 1600387200, 'last_rollover_ts': None}, {'code': '1152752', 'exp_ts': 1600560000, 'settlement_ts': 1600387200, 'last_rollover_ts': None}, {'code': '1152914', 'exp_ts': 1600560000, 'settlement_ts': 1600387200, 'last_rollover_ts': None}, {'code': '1152916', 'exp_ts': 1600560000, 'settlement_ts': 1600387200, 'last_rollover_ts': None}, {'code': '1152917', 'exp_ts': 1600560000, 'settlement_ts': 1600387200, 'last_rollover_ts': None}, {'code': '992749', 'exp_ts': 1600560000, 'settlement_ts': 1600387200, 'last_rollover_ts': None}, {'code': '1152927', 'exp_ts': 1600560000, 'settlement_ts': 1600387200, 'last_rollover_ts': None}, {'code': '1152928', 'exp_ts': 1600560000, 'settlement_ts': 1600387200, 'last_rollover_ts': None}, {'code': '1152929', 'exp_ts': 1600560000, 'settlement_ts': 1600387200, 'last_rollover_ts': None}, {'code': '1152930', 'exp_ts': 1600560000, 'settlement_ts': 1600387200, 'last_rollover_ts': None}, {'code': '1153206', 'exp_ts': 1600560000, 'settlement_ts': 1600387200, 'last_rollover_ts': None}, {'code': '8835', 'exp_ts': 1600560000, 'settlement_ts': 1600387200, 'last_rollover_ts': 1552780800}, {'code': '1013432', 'exp_ts': 1600560000, 'settlement_ts': 1600387200, 'last_rollover_ts': 1581379200}, {'code': '1013442', 'exp_ts': 1600560000, 'settlement_ts': 1600387200, 'last_rollover_ts': 1591833600}, {'code': '1013435', 'exp_ts': 1600560000, 'settlement_ts': 1600387200, 'last_rollover_ts': 1597104000}, {'code': '1013434', 'exp_ts': 1600560000, 'settlement_ts': 1600387200, 'last_rollover_ts': 1597104000}, {'code': '1013441', 'exp_ts': 1600560000, 'settlement_ts': 1600387200, 'last_rollover_ts': 1597104000}, {'code': '1056449', 'exp_ts': 1600560000, 'settlement_ts': 1600387200, 'last_rollover_ts': 1597104000}, {'code': '1013445', 'exp_ts': 1600560000, 'settlement_ts': 1600387200, 'last_rollover_ts': 1597104000}, {'code': '1013447', 'exp_ts': 1600560000, 'settlement_ts': 1600387200, 'last_rollover_ts': 1597104000}, {'code': '1013448', 'exp_ts': 1600560000, 'settlement_ts': 1600387200, 'last_rollover_ts': 1597104000}, {'code': '1056445', 'exp_ts': 1600560000, 'settlement_ts': 1600387200, 'last_rollover_ts': 1597104000}, {'code': '1013431', 'exp_ts': 1600560000, 'settlement_ts': 1600387200, 'last_rollover_ts': 1597104000}, {'code': '1013433', 'exp_ts': 1600560000, 'settlement_ts': 1600387200, 'last_rollover_ts': 1597104000}, {'code': '1013437', 'exp_ts': 1600560000, 'settlement_ts': 1600387200, 'last_rollover_ts': 1597104000}, {'code': '49774', 'exp_ts': 1600560000, 'settlement_ts': 1600646400, 'last_rollover_ts': 1560643200}, {'code': '40723', 'exp_ts': 1600560000, 'settlement_ts': 1600646400, 'last_rollover_ts': 1592697600}, {'code': '40758', 'exp_ts': 1600560000, 'settlement_ts': 1600646400, 'last_rollover_ts': 1592697600}, {'code': '964526', 'exp_ts': 1600560000, 'settlement_ts': 1600732800, 'last_rollover_ts': None}, {'code': '8849', 'exp_ts': 1603152000, 'settlement_ts': 1600732800, 'last_rollover_ts': 1597795200}, {'code': '8833', 'exp_ts': 1605830400, 'settlement_ts': 1600819200, 'last_rollover_ts': 1598140800}, {'code': '1055949', 'exp_ts': 1600560000, 'settlement_ts': 1600819200, 'last_rollover_ts': 1598140800}, {'code': '998308', 'exp_ts': 1600560000, 'settlement_ts': 1600905600, 'last_rollover_ts': None}, {'code': '1075213', 'exp_ts': 1600560000, 'settlement_ts': 1600905600, 'last_rollover_ts': None}, {'code': '1073513', 'exp_ts': 1600560000, 'settlement_ts': 1600905600, 'last_rollover_ts': None}, {'code': '998309', 'exp_ts': 1600560000, 'settlement_ts': 1600905600, 'last_rollover_ts': None}, {'code': '998311', 'exp_ts': 1600560000, 'settlement_ts': 1600905600, 'last_rollover_ts': None}, {'code': '998343', 'exp_ts': 1600560000, 'settlement_ts': 1600905600, 'last_rollover_ts': None}, {'code': '1075214', 'exp_ts': 1600560000, 'settlement_ts': 1600905600, 'last_rollover_ts': None}, {'code': '998387', 'exp_ts': 1600560000, 'settlement_ts': 1600905600, 'last_rollover_ts': None}, {'code': '998321', 'exp_ts': 1600560000, 'settlement_ts': 1600905600, 'last_rollover_ts': None}, {'code': '998326', 'exp_ts': 1600560000, 'settlement_ts': 1600905600, 'last_rollover_ts': None}, {'code': '998346', 'exp_ts': 1600560000, 'settlement_ts': 1600905600, 'last_rollover_ts': None}, {'code': '998368', 'exp_ts': 1600560000, 'settlement_ts': 1600905600, 'last_rollover_ts': None}, {'code': '998378', 'exp_ts': 1600560000, 'settlement_ts': 1600905600, 'last_rollover_ts': None}, {'code': '1084953', 'exp_ts': 1600560000, 'settlement_ts': 1600905600, 'last_rollover_ts': None}, {'code': '1075205', 'exp_ts': 1600560000, 'settlement_ts': 1600905600, 'last_rollover_ts': None}, {'code': '998306', 'exp_ts': 1600560000, 'settlement_ts': 1600905600, 'last_rollover_ts': None}, {'code': '1073070', 'exp_ts': 1600560000, 'settlement_ts': 1600905600, 'last_rollover_ts': None}, {'code': '1043103', 'exp_ts': 1600560000, 'settlement_ts': 1600905600, 'last_rollover_ts': None}, {'code': '1073512', 'exp_ts': 1600560000, 'settlement_ts': 1600905600, 'last_rollover_ts': None}, {'code': '998357', 'exp_ts': 1600560000, 'settlement_ts': 1600905600, 'last_rollover_ts': None}, {'code': '998364', 'exp_ts': 1600560000, 'settlement_ts': 1600905600, 'last_rollover_ts': None}, {'code': '998370', 'exp_ts': 1600560000, 'settlement_ts': 1600905600, 'last_rollover_ts': None}, {'code': '1008714', 'exp_ts': 1600560000, 'settlement_ts': 1600905600, 'last_rollover_ts': None}, {'code': '1008715', 'exp_ts': 1600560000, 'settlement_ts': 1600905600, 'last_rollover_ts': None}, {'code': '1008721', 'exp_ts': 1600560000, 'settlement_ts': 1600905600, 'last_rollover_ts': None}, {'code': '998312', 'exp_ts': 1600560000, 'settlement_ts': 1600905600, 'last_rollover_ts': None}, {'code': '998313', 'exp_ts': 1600560000, 'settlement_ts': 1600905600, 'last_rollover_ts': None}, {'code': '998314', 'exp_ts': 1600560000, 'settlement_ts': 1600905600, 'last_rollover_ts': None}, {'code': '998317', 'exp_ts': 1600560000, 'settlement_ts': 1600905600, 'last_rollover_ts': None}, {'code': '1055003', 'exp_ts': 1600560000, 'settlement_ts': 1600905600, 'last_rollover_ts': None}, {'code': '998322', 'exp_ts': 1600560000, 'settlement_ts': 1600905600, 'last_rollover_ts': None}, {'code': '998324', 'exp_ts': 1600560000, 'settlement_ts': 1600905600, 'last_rollover_ts': None}, {'code': '998325', 'exp_ts': 1600560000, 'settlement_ts': 1600905600, 'last_rollover_ts': None}, {'code': '998327', 'exp_ts': 1600560000, 'settlement_ts': 1600905600, 'last_rollover_ts': None}, {'code': '998331', 'exp_ts': 1600560000, 'settlement_ts': 1600905600, 'last_rollover_ts': None}, {'code': '998340', 'exp_ts': 1600560000, 'settlement_ts': 1600905600, 'last_rollover_ts': None}, {'code': '998342', 'exp_ts': 1600560000, 'settlement_ts': 1600905600, 'last_rollover_ts': None}, {'code': '998347', 'exp_ts': 1600560000, 'settlement_ts': 1600905600, 'last_rollover_ts': None}, {'code': '998349', 'exp_ts': 1600560000, 'settlement_ts': 1600905600, 'last_rollover_ts': None}, {'code': '998353', 'exp_ts': 1600560000, 'settlement_ts': 1600905600, 'last_rollover_ts': None}, {'code': '998354', 'exp_ts': 1600560000, 'settlement_ts': 1600905600, 'last_rollover_ts': None}, {'code': '998358', 'exp_ts': 1600560000, 'settlement_ts': 1600905600, 'last_rollover_ts': None}, {'code': '998362', 'exp_ts': 1600560000, 'settlement_ts': 1600905600, 'last_rollover_ts': None}, {'code': '998366', 'exp_ts': 1600560000, 'settlement_ts': 1600905600, 'last_rollover_ts': None}, {'code': '998367', 'exp_ts': 1600560000, 'settlement_ts': 1600905600, 'last_rollover_ts': None}, {'code': '998372', 'exp_ts': 1600560000, 'settlement_ts': 1600905600, 'last_rollover_ts': None}, {'code': '998373', 'exp_ts': 1600560000, 'settlement_ts': 1600905600, 'last_rollover_ts': None}, {'code': '998376', 'exp_ts': 1600560000, 'settlement_ts': 1600905600, 'last_rollover_ts': None}, {'code': '998377', 'exp_ts': 1600560000, 'settlement_ts': 1600905600, 'last_rollover_ts': None}, {'code': '998380', 'exp_ts': 1600560000, 'settlement_ts': 1600905600, 'last_rollover_ts': None}, {'code': '998382', 'exp_ts': 1600560000, 'settlement_ts': 1600905600, 'last_rollover_ts': None}, {'code': '998385', 'exp_ts': 1600560000, 'settlement_ts': 1600905600, 'last_rollover_ts': None}, {'code': '998386', 'exp_ts': 1600560000, 'settlement_ts': 1600905600, 'last_rollover_ts': None}, {'code': '998388', 'exp_ts': 1600560000, 'settlement_ts': 1600905600, 'last_rollover_ts': None}, {'code': '998390', 'exp_ts': 1600560000, 'settlement_ts': 1600905600, 'last_rollover_ts': None}, {'code': '998391', 'exp_ts': 1600560000, 'settlement_ts': 1600905600, 'last_rollover_ts': None}, {'code': '998393', 'exp_ts': 1600560000, 'settlement_ts': 1600905600, 'last_rollover_ts': None}, {'code': '998394', 'exp_ts': 1600560000, 'settlement_ts': 1600905600, 'last_rollover_ts': None}, {'code': '998395', 'exp_ts': 1600560000, 'settlement_ts': 1600905600, 'last_rollover_ts': None}, {'code': '998396', 'exp_ts': 1600560000, 'settlement_ts': 1600905600, 'last_rollover_ts': None}, {'code': '998397', 'exp_ts': 1600560000, 'settlement_ts': 1600905600, 'last_rollover_ts': None}, {'code': '998399', 'exp_ts': 1600560000, 'settlement_ts': 1600905600, 'last_rollover_ts': None}, {'code': '998407', 'exp_ts': 1600560000, 'settlement_ts': 1600905600, 'last_rollover_ts': None}, {'code': '998408', 'exp_ts': 1600560000, 'settlement_ts': 1600905600, 'last_rollover_ts': None}, {'code': '998410', 'exp_ts': 1600560000, 'settlement_ts': 1600905600, 'last_rollover_ts': None}, {'code': '1008708', 'exp_ts': 1600560000, 'settlement_ts': 1600905600, 'last_rollover_ts': None}, {'code': '1008710', 'exp_ts': 1600560000, 'settlement_ts': 1600905600, 'last_rollover_ts': None}, {'code': '1008712', 'exp_ts': 1600560000, 'settlement_ts': 1600905600, 'last_rollover_ts': None}, {'code': '1008716', 'exp_ts': 1600560000, 'settlement_ts': 1600905600, 'last_rollover_ts': None}, {'code': '1008717', 'exp_ts': 1600560000, 'settlement_ts': 1600905600, 'last_rollover_ts': None}, {'code': '1008718', 'exp_ts': 1600560000, 'settlement_ts': 1600905600, 'last_rollover_ts': None}, {'code': '1008720', 'exp_ts': 1600560000, 'settlement_ts': 1600905600, 'last_rollover_ts': None}, {'code': '998305', 'exp_ts': 1600560000, 'settlement_ts': 1600905600, 'last_rollover_ts': None}, {'code': '998319', 'exp_ts': 1600560000, 'settlement_ts': 1600905600, 'last_rollover_ts': None}, {'code': '998244', 'exp_ts': 1600560000, 'settlement_ts': 1600905600, 'last_rollover_ts': None}, {'code': '998245', 'exp_ts': 1600560000, 'settlement_ts': 1600905600, 'last_rollover_ts': None}, {'code': '998246', 'exp_ts': 1600560000, 'settlement_ts': 1600905600, 'last_rollover_ts': None}, {'code': '998247', 'exp_ts': 1600560000, 'settlement_ts': 1600905600, 'last_rollover_ts': None}, {'code': '998248', 'exp_ts': 1600560000, 'settlement_ts': 1600905600, 'last_rollover_ts': None}, {'code': '998249', 'exp_ts': 1600560000, 'settlement_ts': 1600905600, 'last_rollover_ts': None}, {'code': '998251', 'exp_ts': 1600560000, 'settlement_ts': 1600905600, 'last_rollover_ts': None}, {'code': '998252', 'exp_ts': 1600560000, 'settlement_ts': 1600905600, 'last_rollover_ts': None}, {'code': '998253', 'exp_ts': 1600560000, 'settlement_ts': 1600905600, 'last_rollover_ts': None}, {'code': '998254', 'exp_ts': 1600560000, 'settlement_ts': 1600905600, 'last_rollover_ts': None}, {'code': '998255', 'exp_ts': 1600560000, 'settlement_ts': 1600905600, 'last_rollover_ts': None}, {'code': '998256', 'exp_ts': 1600560000, 'settlement_ts': 1600905600, 'last_rollover_ts': None}, {'code': '998257', 'exp_ts': 1600560000, 'settlement_ts': 1600905600, 'last_rollover_ts': None}, {'code': '998258', 'exp_ts': 1600560000, 'settlement_ts': 1600905600, 'last_rollover_ts': None}, {'code': '998259', 'exp_ts': 1600560000, 'settlement_ts': 1600905600, 'last_rollover_ts': None}, {'code': '998260', 'exp_ts': 1600560000, 'settlement_ts': 1600905600, 'last_rollover_ts': None}, {'code': '998261', 'exp_ts': 1600560000, 'settlement_ts': 1600905600, 'last_rollover_ts': None}, {'code': '998262', 'exp_ts': 1600560000, 'settlement_ts': 1600905600, 'last_rollover_ts': None}, {'code': '998263', 'exp_ts': 1600560000, 'settlement_ts': 1600905600, 'last_rollover_ts': None}, {'code': '998264', 'exp_ts': 1600560000, 'settlement_ts': 1600905600, 'last_rollover_ts': None}, {'code': '998265', 'exp_ts': 1600560000, 'settlement_ts': 1600905600, 'last_rollover_ts': None}, {'code': '998266', 'exp_ts': 1600560000, 'settlement_ts': 1600905600, 'last_rollover_ts': None}, {'code': '998267', 'exp_ts': 1600560000, 'settlement_ts': 1600905600, 'last_rollover_ts': None}, {'code': '998268', 'exp_ts': 1600560000, 'settlement_ts': 1600905600, 'last_rollover_ts': None}, {'code': '998269', 'exp_ts': 1600560000, 'settlement_ts': 1600905600, 'last_rollover_ts': None}, {'code': '998270', 'exp_ts': 1600560000, 'settlement_ts': 1600905600, 'last_rollover_ts': None}, {'code': '998272', 'exp_ts': 1600560000, 'settlement_ts': 1600905600, 'last_rollover_ts': None}, {'code': '998273', 'exp_ts': 1600560000, 'settlement_ts': 1600905600, 'last_rollover_ts': None}, {'code': '998274', 'exp_ts': 1600560000, 'settlement_ts': 1600905600, 'last_rollover_ts': None}, {'code': '998275', 'exp_ts': 1600560000, 'settlement_ts': 1600905600, 'last_rollover_ts': None}, {'code': '998276', 'exp_ts': 1600560000, 'settlement_ts': 1600905600, 'last_rollover_ts': None}, {'code': '998278', 'exp_ts': 1600560000, 'settlement_ts': 1600905600, 'last_rollover_ts': None}, {'code': '998279', 'exp_ts': 1600560000, 'settlement_ts': 1600905600, 'last_rollover_ts': None}, {'code': '998281', 'exp_ts': 1600560000, 'settlement_ts': 1600905600, 'last_rollover_ts': None}, {'code': '998282', 'exp_ts': 1600560000, 'settlement_ts': 1600905600, 'last_rollover_ts': None}, {'code': '998283', 'exp_ts': 1600560000, 'settlement_ts': 1600905600, 'last_rollover_ts': None}, {'code': '998284', 'exp_ts': 1600560000, 'settlement_ts': 1600905600, 'last_rollover_ts': None}, {'code': '998285', 'exp_ts': 1600560000, 'settlement_ts': 1600905600, 'last_rollover_ts': None}, {'code': '998286', 'exp_ts': 1600560000, 'settlement_ts': 1600905600, 'last_rollover_ts': None}, {'code': '998288', 'exp_ts': 1600560000, 'settlement_ts': 1600905600, 'last_rollover_ts': None}, {'code': '998289', 'exp_ts': 1600560000, 'settlement_ts': 1600905600, 'last_rollover_ts': None}, {'code': '998290', 'exp_ts': 1600560000, 'settlement_ts': 1600905600, 'last_rollover_ts': None}, {'code': '998291', 'exp_ts': 1600560000, 'settlement_ts': 1600905600, 'last_rollover_ts': None}, {'code': '998292', 'exp_ts': 1600560000, 'settlement_ts': 1600905600, 'last_rollover_ts': None}, {'code': '998293', 'exp_ts': 1600560000, 'settlement_ts': 1600905600, 'last_rollover_ts': None}, {'code': '998294', 'exp_ts': 1600560000, 'settlement_ts': 1600905600, 'last_rollover_ts': None}, {'code': '998295', 'exp_ts': 1600560000, 'settlement_ts': 1600905600, 'last_rollover_ts': None}, {'code': '998297', 'exp_ts': 1600560000, 'settlement_ts': 1600905600, 'last_rollover_ts': None}, {'code': '998298', 'exp_ts': 1600560000, 'settlement_ts': 1600905600, 'last_rollover_ts': None}, {'code': '998299', 'exp_ts': 1600560000, 'settlement_ts': 1600905600, 'last_rollover_ts': None}, {'code': '998300', 'exp_ts': 1600560000, 'settlement_ts': 1600905600, 'last_rollover_ts': None}, {'code': '998301', 'exp_ts': 1600560000, 'settlement_ts': 1600905600, 'last_rollover_ts': None}, {'code': '998302', 'exp_ts': 1600560000, 'settlement_ts': 1600905600, 'last_rollover_ts': None}]\n"
     ]
    }
   ],
   "source": [
    "from bs4 import BeautifulSoup\n",
    "\n",
    "def str_to_int(val: str, default_val: int = None) -> int:\n",
    "    return int(val) if val.isdigit() else default_val\n",
    "\n",
    "exp_infos = []\n",
    "\n",
    "rcv_dict = json.loads(resp.text)\n",
    "bs = BeautifulSoup(rcv_dict.get(\"data\"), \"html.parser\")\n",
    "\n",
    "trs = bs.find_all(\"tr\")\n",
    "\n",
    "for tr in trs:\n",
    "    tds = tr.find_all(\"td\")\n",
    "\n",
    "    code = tr.get(\"id\")\n",
    "\n",
    "    if code is not None:\n",
    "        code = code.replace(\"inst_\", \"\")\n",
    "        exp_ts = str_to_int(tds[2].get(\"data-value\"))\n",
    "        settlement_ts = str_to_int(tds[3].get(\"data-value\"))\n",
    "        last_rollover_ts = str_to_int(tds[4].get(\"data-value\"))\n",
    "\n",
    "        # 선물 만기 정보\n",
    "        exp_infos.append({\n",
    "            \"code\": code,\n",
    "            \"exp_ts\": exp_ts,\n",
    "            \"settlement_ts\": settlement_ts,\n",
    "            \"last_rollover_ts\": last_rollover_ts\n",
    "        })\n",
    "\n",
    "print(exp_infos)"
   ]
  },
  {
   "cell_type": "markdown",
   "metadata": {},
   "source": [
    "### 3. 선물 실시간 시세\n",
    "Target: https://www.investing.com/indices/indices-futures"
   ]
  },
  {
   "cell_type": "code",
   "execution_count": 6,
   "metadata": {},
   "outputs": [
    {
     "name": "stdout",
     "output_type": "stream",
     "text": [
      "Websocket URL: wss://stream237.forexpros.com:443/echo/7331/dgqei70t/websocket\n"
     ]
    }
   ],
   "source": [
    "import requests\n",
    "import re\n",
    "import random\n",
    "\n",
    "indi_fut_url = \"https://www.investing.com/indices/indices-futures\"\n",
    "\n",
    "headers = {\n",
    "    \"Accept\": \"text/html,application/xhtml+xml,application/xml;q=0.9,image/avif,image/webp,image/apng,*/*;q=0.8,application/signed-exchange;v=b3;q=0.9\",\n",
    "    \"Accept-Encoding\": \"gzip, deflate, br\",\n",
    "    \"Accept-Language\": \"ko-KR,ko;q=0.9,en-US;q=0.8,en;q=0.7\",\n",
    "    \"Cache-Control\": \"max-age=0\",\n",
    "    \"Connection\": \"keep-alive\",\n",
    "    \"Host\": \"www.investing.com\",\n",
    "    \"Referer\": \"https://www.investing.com/\",\n",
    "    \"Sec-Fetch-Dest\": \"document\",\n",
    "    \"Sec-Fetch-Mode\": \"navigate\",\n",
    "    \"Sec-Fetch-Site\": \"same-origin\",\n",
    "    \"Sec-Fetch-User\": \"?1\",\n",
    "    \"Upgrade-Insecure-Requests\": \"1\",\n",
    "    \"User-Agent\": \"Mozilla/5.0 (Windows NT 10.0; Win64; x64) AppleWebKit/537.36 (KHTML, like Gecko) Chrome/85.0.4183.102 Safari/537.36\",\n",
    "}\n",
    "\n",
    "resp = requests.get(url=indi_fut_url, headers=headers)\n",
    "\n",
    "pattern = re.compile(\"window.stream.+?\\\"(.+?)\\\"\")\n",
    "find_strs = pattern.findall(resp.text)\n",
    "base_ws_url = find_strs[0]\n",
    "\n",
    "pattern = re.compile(\"TimeZoneID.+?\\\"(.+?)\\\"\")\n",
    "find_strs = pattern.findall(resp.text)\n",
    "timezone_id = find_strs[0]\n",
    "\n",
    "rnd_num = \"%03d\" % random.randint(0, 999)\n",
    "\n",
    "rnd_str = \"\"\n",
    "for i in range(8):\n",
    "    rnd_str = rnd_str + random.choice(\"abcdefghijklmnopqrstuvwxyz0123456789_\")\n",
    "\n",
    "ws_url = base_ws_url + \"/echo/\" + rnd_num + \"/\" + rnd_str + \"/websocket\"\n",
    "ws_url = \"wss\" + ws_url[5:] if \"https\" == ws_url[:5] else \"ws\" + ws_url[4:]\n",
    "\n",
    "print(\"Websocket URL:\", ws_url)"
   ]
  },
  {
   "cell_type": "code",
   "execution_count": 7,
   "metadata": {},
   "outputs": [
    {
     "name": "stderr",
     "output_type": "stream",
     "text": [
      "--- request header ---\n",
      "GET /echo/7331/dgqei70t/websocket HTTP/1.1\n",
      "Upgrade: websocket\n",
      "Connection: Upgrade\n",
      "Host: stream237.forexpros.com\n",
      "Origin: http://stream237.forexpros.com\n",
      "Sec-WebSocket-Key: EDe0ZLhIWWC/wajz61xWAQ==\n",
      "Sec-WebSocket-Version: 13\n",
      "\n",
      "\n",
      "-----------------------\n",
      "--- response header ---\n",
      "HTTP/1.1 101 Switching Protocols\n",
      "Upgrade: websocket\n",
      "Connection: Upgrade\n",
      "Sec-WebSocket-Accept: p/oknnlijf487oaHFb4apuFrqgA=\n",
      "-----------------------\n",
      "send: b'\\x81\\xfe\\x05\\xe8&\\xc4>\\x01}\\xe6E]\\x04\\x9b[wC\\xaaJ]\\x04\\xfe\\x1e]\\x04\\xa6KmM\\xe9MtD\\xb7]sO\\xa6[]\\x04\\xe8\\x1e]\\x04\\xb0DHb\\x98\\x1c;\\x06\\x98\\x1c9z\\xe6\\x12!z\\xe6SdU\\xb7_fC\\x98\\x1c;\\x06\\x98\\x1cqO\\xa0\\x139\\x1e\\xf3\\r;\\x03\\xe1NhB\\xe9\\x069\\x15\\xfd\\x04$\\x03\\xb4We\\x0b\\xfc\\x066\\x12\\xfe\\x1b$V\\xadZ,\\x1e\\xfc\\x085\\x1c\\xe1\\x1bqO\\xa0\\x139\\x1e\\xfc\\n;\\x03\\xe1NhB\\xe9\\x069\\x14\\xf2\\x04$\\x03\\xb4We\\x0b\\xfc\\x064\\x15\\xfe\\x1b$V\\xadZ,\\x1e\\xfc\\r9\\x1c\\xe1\\x1bqO\\xa0\\x139\\x1e\\xf2\\t;\\x03\\xe1NhB\\xe9\\x069\\x13\\xfc\\x04$\\x03\\xb4We\\x0b\\xfc\\x062\\x11\\xfe\\x1b$V\\xadZ,\\x1e\\xfc\\x0c9\\x1c\\xe1\\x1bqO\\xa0\\x139\\x1e\\xf6\\x0b;\\x03\\xe1NhB\\xe9\\x069\\x10\\xf7\\x04$\\x03\\xb4We\\x0b\\xfc\\x066\\x1e\\xfe\\x1b$V\\xadZ,\\x1e\\xfc\\x063\\x1c\\xe1\\x1bqO\\xa0\\x130\\x16\\xf0\\r8\\x10\\xfe\\x1b$V\\xadZ,\\x1f\\xf2\\x0f7\\x17\\xf2\\x04$\\x03\\xb4We\\x0b\\xfd\\n0\\x10\\xf5\\x0c;\\x03\\xe1NhB\\xe9\\x069\\x13\\xfd\\x04$\\x03\\xb4We\\x0b\\xfd\\n0\\x10\\xf4\\x07;\\x03\\xe1NhB\\xe9\\x068\\x1e\\xf0\\x04$\\x03\\xb4We\\x0b\\xfc\\x079\\x14\\xfe\\x1b$V\\xadZ,\\x1f\\xf0\\x0f7\\x17\\xf2\\x04$\\x03\\xb4We\\x0b\\xf0\\n5\\x1e\\xf2\\x04$\\x03\\xb4We\\x0b\\xfc\\x063\\x12\\xfe\\x1b$V\\xadZ,\\x1e\\xfc\\x076\\x1c\\xe1\\x1bqO\\xa0\\x139\\x1f\\xfc\\x0b;\\x03\\xe1NhB\\xe9\\x0f1\\x12\\xf0\\x0c2\\x1c\\xe1\\x1bqO\\xa0\\x139\\x1f\\xfc\\t;\\x03\\xe1NhB\\xe9\\x0f1\\x12\\xf7\\x073\\x1c\\xe1\\x1bqO\\xa0\\x139\\x1e\\xf0\\x0e;\\x03\\xe1NhB\\xe9\\x0f4\\x14\\xfc\\x06;\\x03\\xe1NhB\\xe9\\x0f1\\x1f\\xf4\\n9\\x16\\xfe\\x1b$V\\xadZ,\\x12\\xf4\\t0\\x11\\xfe\\x1b$V\\xadZ,\\x12\\xf4\\t5\\x12\\xfe\\x1b$V\\xadZ,\\x12\\xf4\\t1\\x15\\xfe\\x1b$V\\xadZ,\\x12\\xf4\\t5\\x13\\xfe\\x1b$V\\xadZ,\\x12\\xf4\\t5\\x14\\xfe\\x1b$V\\xadZ,\\x12\\xf4\\t0\\x13\\xfe\\x1b$V\\xadZ,\\x12\\xf4\\t3\\x12\\xfe\\x1b$V\\xadZ,\\x12\\xf4\\t8\\x14\\xfe\\x1b$V\\xadZ,\\x12\\xf4\\t8\\x15\\xfe\\x1b$V\\xadZ,\\x12\\xf4\\t3\\x13\\xfe\\x1b$V\\xadZ,\\x12\\xf4\\t8\\x12\\xfe\\x1b$V\\xadZ,\\x12\\xf4\\t3\\x10\\xfe\\x1b$V\\xadZ,\\x12\\xf4\\t8\\x10\\xfe\\x1b$V\\xadZ,\\x12\\xf4\\t8\\x11\\xfe\\x1b$V\\xadZ,\\x12\\xf4\\t8\\x1e\\xfe\\x1b$V\\xadZ,\\x12\\xf4\\t8\\x1f\\xfe\\x1b$V\\xadZ,\\x12\\xf4\\x061\\x16\\xfe\\x1b$V\\xadZ,\\x12\\xf4\\x061\\x17\\xfe\\x1b$V\\xadZ,\\x12\\xf4\\x061\\x14\\xfe\\x1b$V\\xadZ,\\x12\\xf4\\x061\\x15\\xfe\\x1b$V\\xadZ,\\x12\\xf4\\x061\\x12\\xfe\\x1b$V\\xadZ,\\x12\\xf4\\x061\\x13\\xfe\\x1b$V\\xadZ,\\x12\\xf4\\x061\\x10\\xfe\\x1b$V\\xadZ,\\x12\\xf4\\x061\\x11\\xfe\\x1b$V\\xadZ,\\x12\\xf4\\x061\\x1f\\xfe\\x1b$V\\xadZ,\\x12\\xf4\\x060\\x16\\xfe\\x1b$V\\xadZ,\\x12\\xf4\\x060\\x17\\xfe\\x1b$V\\xadZ,\\x12\\xf4\\x060\\x14\\xfe\\x1b$V\\xadZ,\\x12\\xf4\\x060\\x15\\xfe\\x1b$V\\xadZ,\\x12\\xf4\\x060\\x12\\xfe\\x1b$V\\xadZ,\\x12\\xf4\\x060\\x13\\xfe\\x1b$V\\xadZ,\\x12\\xf4\\x060\\x10\\xfe\\x1b$V\\xadZ,\\x12\\xf4\\t0\\x12\\xfe\\x1b$V\\xadZ,\\x12\\xf4\\t7\\x13\\xfe\\x1b$V\\xadZ,\\x12\\xf4\\t7\\x10\\xfe\\x1b$V\\xadZ,\\x12\\xf4\\t7\\x11\\xfe\\x1b$V\\xadZ,\\x12\\xf4\\t7\\x1e\\xfe\\x1b$V\\xadZ,\\x12\\xf4\\t7\\x1f\\xfe\\x1b$V\\xadZ,\\x12\\xf4\\t6\\x16\\xfe\\x1b$V\\xadZ,\\x12\\xf4\\t6\\x17\\xfe\\x1b$V\\xadZ,\\x12\\xf4\\t6\\x14\\xfe\\x1b$V\\xadZ,\\x12\\xf4\\t6\\x15\\xfe\\x1b$V\\xadZ,\\x12\\xf4\\t6\\x12\\xfe\\x1b$V\\xadZ,\\x12\\xf4\\t6\\x13\\xfe\\x1b$V\\xadZ,\\x12\\xf4\\t6\\x10\\xfe\\x1b$V\\xadZ,\\x12\\xf4\\t6\\x11\\xfe\\x1b$V\\xadZ,\\x12\\xf4\\t6\\x1e\\xfe\\x1b$V\\xadZ,\\x12\\xf4\\t3\\x1e\\xfe\\x1b$V\\xadZ,\\x12\\xf4\\t6\\x1f\\xfe\\x1b$V\\xadZ,\\x12\\xf4\\t9\\x16\\xfe\\x1b$V\\xadZ,\\x12\\xf4\\t9\\x17\\xfe\\x1b$V\\xadZ,\\x12\\xf4\\t9\\x14\\xfe\\x1b$V\\xadZ,\\x12\\xf4\\t9\\x15\\xfe\\x1b$V\\xadZ,\\x12\\xf4\\t5\\x15\\xfe\\x1b$V\\xadZ,\\x12\\xf4\\t3\\x11\\xfe\\x1b$V\\xadZ,\\x12\\xf4\\t9\\x12\\xfe\\x1b$V\\xadZ,\\x12\\xf4\\t9\\x13\\xfe\\x1b$V\\xadZ,\\x12\\xf4\\t9\\x10\\xfe\\x1b$V\\xadZ,\\x12\\xf4\\t9\\x11\\xfe\\x1b$V\\xadZ,\\x12\\xf4\\t9\\x1e\\xfe\\x1b$V\\xadZ,\\x12\\xf4\\t9\\x1f\\xfe\\x1b$V\\xadZ,\\x12\\xf4\\t8\\x16\\xfe\\x1b$V\\xadZ,\\x12\\xf4\\t8\\x17\\xfe\\x1b$V\\xadZ,\\x12\\xf4\\x061\\x1e\\xfe\\x1b$V\\xadZ,\\x12\\xf4\\t7\\x12\\xfe\\x1b$V\\xadZ,\\x12\\xf4\\t4\\x10\\xfe\\x1b$V\\xadZ,\\x12\\xf4\\t0\\x1e\\xfe\\x1b$V\\xadZ,\\x12\\xf4\\t4\\x1e\\xfe\\x1b$V\\xadZ,\\x12\\xf4\\t3\\x15\\xfe\\x1b$V\\xadZ,\\x12\\xf4\\t0\\x10\\xfe\\x1b$V\\xadZ,\\x12\\xf4\\t4\\x1f\\xfe\\x1b$V\\xadZ,\\x12\\xf4\\t3\\x1f\\xfe\\x1b$V\\xadZ,\\x12\\xf4\\t2\\x17\\xfe\\x1b$V\\xadZ,\\x12\\xf4\\t7\\x15\\xfe\\x1b$V\\xadZ,\\x12\\xf4\\t2\\x16\\xfe\\x1b$V\\xadZ,\\x12\\xf4\\t0\\x1f\\xfe\\x1b$V\\xadZ,\\x12\\xf4\\x060\\x11\\xfe\\x1b$V\\xadZ,\\x17\\xf2\\x07;\\x03\\xe1NhB\\xe9\\x0f7\\x10\\xfe\\x1b$V\\xadZ,\\x17\\xf0\\x074\\x1e\\xfe\\x1b$V\\xadZ,\\x12\\xf0\\r2\\x10\\xfe\\x1b$V\\xadZ,\\x1e\\xfc\\x0c6\\x1c\\xe1\\x1bqO\\xa0\\x130\\x1c\\xe1\\x1bqO\\xa0\\x132\\x1c\\xe1\\x1bqO\\xa0\\x133\\x1c\\xe1\\x1bqO\\xa0\\x134\\x1c\\xe1\\x1bqO\\xa0\\x138\\x1c\\xe1\\x1bqO\\xa0\\x136\\x1c\\xe1\\x1bqO\\xa0\\x130\\x16\\xfe\\x1b$V\\xadZ,\\x1f\\xfd\\x065\\x11\\xf5\\x04]\\x04\\xb9\\x1c\\\\'\n",
      "send: b'\\x81\\xa5\\xb7:f\\x06\\xec\\x18\\x1dZ\\x95e\\x03p\\xd2T\\x12Z\\x95\\x00FZ\\x95o/B\\xeb\\x18J&\\xeb\\x183O\\xf3fD<\\x97\\n\\x1b$\\xea'\n"
     ]
    },
    {
     "name": "stdout",
     "output_type": "stream",
     "text": [
      "### open ###\n",
      "{'pid': '8859', 'last_dir': 'greenBg', 'last_numeric': 23118, 'last': '23,118.0', 'bid': '23,106.0', 'ask': '23,130.0', 'high': '23,258.0', 'low': '23,102.5', 'pc': '+18.0', 'pcp': '+0.08%', 'pc_col': 'greenFont', 'time': '15:39:53', 'timestamp': 1600443593}\n",
      "{'pid': '2', 'last_dir': 'greenBg', 'last_numeric': 1.2944, 'last': '1.2944', 'bid': '1.2944', 'ask': '1.2945', 'high': '1.3000', 'low': '1.2934', 'last_close': '1.2972', 'pc': '-0.0028', 'pcp': '-0.21%', 'pc_col': 'redFont', 'turnover': '127.71K', 'turnover_numeric': '127705', 'time': '15:39:53', 'timestamp': 1600443592}\n",
      "{'pid': '5', 'last_dir': 'redBg', 'last_numeric': 0.7309, 'last': '0.7309', 'bid': '0.7308', 'ask': '0.7311', 'high': '0.7334', 'low': '0.7283', 'last_close': '0.7312', 'pc': '-0.0002', 'pcp': '-0.03%', 'pc_col': 'redFont', 'turnover': '63.08K', 'turnover_numeric': '63079', 'time': '15:39:53', 'timestamp': 1600443591}\n",
      "{'pid': '7', 'last_dir': 'greenBg', 'last_numeric': 1.318, 'last': '1.3180', 'bid': '1.3180', 'ask': '1.3181', 'high': '1.3200', 'low': '1.3135', 'last_close': '1.3164', 'pc': '+0.0016', 'pcp': '+0.13%', 'pc_col': 'greenFont', 'turnover': '72.63K', 'turnover_numeric': '72633', 'time': '15:39:53', 'timestamp': 1600443592}\n",
      "{'pid': '9', 'last_dir': 'redBg', 'last_numeric': 123.8, 'last': '123.80', 'bid': '123.76', 'ask': '123.83', 'high': '124.31', 'low': '123.44', 'last_close': '124.07', 'pc': '-0.27', 'pcp': '-0.22%', 'pc_col': 'redFont', 'turnover': '170.88K', 'turnover_numeric': '170879', 'time': '15:39:53', 'timestamp': 1600443592}\n",
      "{'pid': '10', 'last_dir': 'redBg', 'last_numeric': 1.0783, 'last': '1.0783', 'bid': '1.0780', 'ask': '1.0786', 'high': '1.0793', 'low': '1.0756', 'last_close': '1.0761', 'pc': '+0.0022', 'pcp': '+0.20%', 'pc_col': 'greenFont', 'turnover': '114.41K', 'turnover_numeric': '114406', 'time': '15:39:53', 'timestamp': 1600443589}\n",
      "{'pid': '8867', 'last_dir': '', 'last_numeric': 3278, 'last': '3,278', 'bid': '3,278', 'ask': '3,279', 'high': '3,314', 'low': '3,270', 'pc': '-31', 'pcp': '-0.94%', 'pc_col': 'redFont', 'time': '15:39:54', 'timestamp': 1600443590}\n",
      "{'pid': '8897', 'last_dir': 'greenBg', 'last_numeric': 287.23, 'last': '287.23', 'bid': '287.15', 'ask': '287.30', 'high': '288.62', 'low': '286.32', 'pc': '-0.17', 'pcp': '-0.06%', 'pc_col': 'redFont', 'time': '15:39:54', 'timestamp': 1600443590}\n",
      "{'pid': '8828', 'last_dir': 'greenBg', 'last_numeric': 6932.5, 'last': '6,932.5', 'bid': '6,930.0', 'ask': '6,935.0', 'high': '7,086.5', 'low': '6,915.5', 'pc': '-157.7', 'pcp': '-2.22%', 'pc_col': 'redFont', 'time': '15:39:54', 'timestamp': 1600443594}\n",
      "{'pid': '8873', 'last_dir': 'greenBg', 'last_numeric': 27709, 'last': '27,709.0', 'bid': '27,708.0', 'ask': '27,710.0', 'high': '27,879.0', 'low': '27,623.0', 'pc': '-110.0', 'pcp': '-0.40%', 'pc_col': 'redFont', 'time': '15:39:54', 'timestamp': 1600443591}\n",
      "{'pid': '3', 'last_dir': 'redBg', 'last_numeric': 104.42, 'last': '104.42', 'bid': '104.40', 'ask': '104.44', 'high': '104.88', 'low': '104.28', 'last_close': '104.73', 'pc': '-0.31', 'pcp': '-0.30%', 'pc_col': 'redFont', 'turnover': '83.66K', 'turnover_numeric': '83662', 'time': '15:39:54', 'timestamp': 1600443593}\n",
      "{'pid': '8853', 'last_dir': 'greenBg', 'last_numeric': 4977.5, 'last': '4,977.5', 'bid': '4,977.0', 'ask': '4,978.0', 'high': '5,037.0', 'low': '4,966.5', 'pc': '-62.0', 'pcp': '-1.23%', 'pc_col': 'redFont', 'time': '15:39:54', 'timestamp': 1600443594}\n",
      "{'pid': '941612', 'last_dir': 'greenBg', 'last_numeric': 99638, 'last': '99,638', 'bid': '99,630', 'ask': '99,645', 'high': '100,132', 'low': '99,412', 'pc': '-584', 'pcp': '-0.58%', 'pc_col': 'redFont', 'time': '15:39:54', 'timestamp': 1600443594}\n",
      "{'pid': '8837', 'last_dir': 'greenBg', 'last_numeric': 10497, 'last': '10,497.0', 'bid': '10,496.0', 'ask': '10,498.0', 'high': '10,554.5', 'low': '10,466.5', 'pc': '+14.0', 'pcp': '+0.13%', 'pc_col': 'greenFont', 'time': '15:39:54', 'timestamp': 1600443590}\n",
      "{'pid': '8874', 'last_dir': 'greenBg', 'last_numeric': 10919.62, 'last': '10,919.62', 'bid': '10,919.25', 'ask': '10,920.00', 'high': '11,162.00', 'low': '10,898.88', 'pc': '-155.63', 'pcp': '-1.41%', 'pc_col': 'redFont', 'time': '15:39:54', 'timestamp': 1600443591}\n",
      "{'pid': '8839', 'last_dir': 'greenBg', 'last_numeric': 3325.12, 'last': '3,325.12', 'bid': '3,325.00', 'ask': '3,325.25', 'high': '3,363.12', 'low': '3,321.62', 'pc': '-25.88', 'pcp': '-0.77%', 'pc_col': 'redFont', 'time': '15:39:54', 'timestamp': 1600443591}\n",
      "{'pid': '8828', 'last_dir': '', 'last_numeric': 6932.5, 'last': '6,932.5', 'bid': '6,930.0', 'ask': '6,935.0', 'high': '7,086.5', 'low': '6,915.5', 'pc': '-157.7', 'pcp': '-2.22%', 'pc_col': 'redFont', 'time': '15:39:54', 'timestamp': 1600443594}\n",
      "{'pid': '8853', 'last_dir': '', 'last_numeric': 4977.5, 'last': '4,977.5', 'bid': '4,977.0', 'ask': '4,978.0', 'high': '5,037.0', 'low': '4,966.5', 'pc': '-62.0', 'pcp': '-1.23%', 'pc_col': 'redFont', 'time': '15:39:54', 'timestamp': 1600443594}\n",
      "{'pid': '941612', 'last_dir': 'greenBg', 'last_numeric': 99642, 'last': '99,642', 'bid': '99,635', 'ask': '99,650', 'high': '100,132', 'low': '99,412', 'pc': '-580', 'pcp': '-0.58%', 'pc_col': 'redFont', 'time': '15:39:54', 'timestamp': 1600443594}\n",
      "{'pid': '1090480', 'last_dir': 'greenBg', 'last_numeric': 13131, 'last': '13,131.00', 'bid': '0.00', 'ask': '0.00', 'high': '13,245.00', 'low': '13,098.00', 'pc': '-74.50', 'pcp': '-0.56%', 'pc_col': 'redFont', 'time': '15:39:54', 'timestamp': 1600443540}\n",
      "{'pid': '40715', 'last_dir': 'greenBg', 'last_numeric': 3279, 'last': '3,279.0', 'bid': '0.0', 'ask': '0.0', 'high': '3,315.0', 'low': '3,269.0', 'pc': '-29.0', 'pcp': '-0.88%', 'pc_col': 'redFont', 'time': '15:39:54', 'timestamp': 1600443540}\n",
      "{'pid': '1', 'last_dir': 'redBg', 'last_numeric': 1.1856, 'last': '1.1856', 'bid': '1.1854', 'ask': '1.1858', 'high': '1.1870', 'low': '1.1827', 'last_close': '1.1847', 'pc': '+0.0009', 'pcp': '+0.08%', 'pc_col': 'greenFont', 'turnover': '87.22K', 'turnover_numeric': '87220', 'time': '15:39:54', 'timestamp': 1600443589}\n",
      "{'pid': '166', 'last_dir': 'greenBg', 'last_numeric': 3335.5, 'last': '3,335.50', 'bid': '3,335.30', 'ask': '3,335.70', 'high': '3,365.41', 'low': '3,331.70', 'pc': '-21.51', 'pcp': '-0.64%', 'pc_col': 'redFont', 'time': '11:39:55', 'timestamp': 1600443595}\n",
      "{'pid': '8828', 'last_dir': 'greenBg', 'last_numeric': 6933, 'last': '6,933.0', 'bid': '6,932.0', 'ask': '6,934.0', 'high': '7,086.5', 'low': '6,915.5', 'pc': '-157.2', 'pcp': '-2.22%', 'pc_col': 'redFont', 'time': '15:39:55', 'timestamp': 1600443595}\n",
      "{'pid': '8858', 'last_dir': 'greenBg', 'last_numeric': 19457.5, 'last': '19,457.50', 'bid': '19,455.00', 'ask': '19,460.00', 'high': '19,780.00', 'low': '19,427.50', 'pc': '-294.50', 'pcp': '-1.49%', 'pc_col': 'redFont', 'time': '15:39:55', 'timestamp': 1600443595}\n",
      "{'pid': '8838', 'last_dir': 'greenBg', 'last_numeric': 5985.5, 'last': '5,985.5', 'bid': '5,984.0', 'ask': '5,987.0', 'high': '6,039.8', 'low': '5,973.8', 'pc': '-74.5', 'pcp': '-1.23%', 'pc_col': 'redFont', 'time': '15:39:55', 'timestamp': 1600443595}\n",
      "{'pid': '8864', 'last_dir': 'greenBg', 'last_numeric': 1539.65, 'last': '1,539.65', 'bid': '1,539.60', 'ask': '1,539.70', 'high': '1,553.05', 'low': '1,528.65', 'pc': '+1.95', 'pcp': '+0.13%', 'pc_col': 'greenFont', 'time': '15:39:55', 'timestamp': 1600443595}\n",
      "{'pid': '8826', 'last_dir': 'greenBg', 'last_numeric': 13132.5, 'last': '13,132.5', 'bid': '13,131.0', 'ask': '13,134.0', 'high': '13,244.5', 'low': '13,098.5', 'pc': '-90.5', 'pcp': '-0.68%', 'pc_col': 'redFont', 'time': '15:39:55', 'timestamp': 1600443595}\n",
      "{'pid': '8984', 'last_dir': 'greenBg', 'last_numeric': 24365, 'last': '24,365.0', 'bid': '24,364.0', 'ask': '24,366.0', 'high': '24,491.5', 'low': '24,255.0', 'pc': '+31.0', 'pcp': '+0.13%', 'pc_col': 'greenFont', 'time': '15:39:55', 'timestamp': 1600443595}\n",
      "{'pid': '40724', 'last_dir': 'greenBg', 'last_numeric': 2972, 'last': '2,972.00', 'bid': '0.00', 'ask': '0.00', 'high': '3,000.00', 'low': '2,965.00', 'pc': '-16.00', 'pcp': '-0.54%', 'pc_col': 'redFont', 'time': '15:39:55', 'timestamp': 1600443540}\n",
      "{'pid': '40725', 'last_dir': 'greenBg', 'last_numeric': 367.5, 'last': '367.50', 'bid': '0.00', 'ask': '0.00', 'high': '370.30', 'low': '366.80', 'pc': '-2.40', 'pcp': '-0.65%', 'pc_col': 'redFont', 'time': '15:39:55', 'timestamp': 1600443540}\n",
      "{'pid': '8824', 'last_dir': 'greenBg', 'last_numeric': 5848, 'last': '5,848.0', 'bid': '5,846.5', 'ask': '5,849.5', 'high': '5,907.5', 'low': '5,841.0', 'pc': '-35.5', 'pcp': '-0.60%', 'pc_col': 'redFont', 'time': '15:39:55', 'timestamp': 1600443595}\n",
      "{'pid': '40728', 'last_dir': 'redBg', 'last_numeric': 441.2, 'last': '441.20', 'bid': '0.00', 'ask': '0.00', 'high': '442.60', 'low': '441.20', 'pc': '-3.20', 'pcp': '-0.72%', 'pc_col': 'redFont', 'time': '15:39:55', 'timestamp': 1600443180}\n",
      "{'pid': '8878', 'last_dir': 'greenBg', 'last_numeric': 550.83, 'last': '550.83', 'bid': '550.71', 'ask': '550.94', 'high': '555.31', 'low': '549.77', 'pc': '-1.63', 'pcp': '-0.30%', 'pc_col': 'redFont', 'time': '15:39:55', 'timestamp': 1600443595}\n",
      "{'pid': '40789', 'last_dir': 'redBg', 'last_numeric': 173.1, 'last': '173.10', 'bid': '0.00', 'ask': '0.00', 'high': '175.60', 'low': '172.70', 'pc': '-3.70', 'pcp': '-2.09%', 'pc_col': 'redFont', 'time': '15:39:55', 'timestamp': 1600436220}\n",
      "{'pid': '40796', 'last_dir': 'redBg', 'last_numeric': 426.9, 'last': '426.90', 'bid': '0.00', 'ask': '0.00', 'high': '434.30', 'low': '426.90', 'pc': '-0.60', 'pcp': '-0.14%', 'pc_col': 'redFont', 'time': '15:39:55', 'timestamp': 1600443120}\n",
      "{'pid': '104396', 'last_dir': 'greenBg', 'last_numeric': 120975, 'last': '120,975', 'bid': '120,810', 'ask': '121,140', 'high': '123,315', 'low': '120,875', 'pc': '-3106', 'pcp': '-2.50%', 'pc_col': 'redFont', 'time': '15:39:55', 'timestamp': 1600443595}\n",
      "{'pid': '8982', 'last_dir': 'greenBg', 'last_numeric': 9764.5, 'last': '9,764.5', 'bid': '9,755.0', 'ask': '9,774.0', 'high': '9,827.5', 'low': '9,704.0', 'pc': '+24.5', 'pcp': '+0.25%', 'pc_col': 'greenFont', 'time': '15:39:55', 'timestamp': 1600443595}\n",
      "{'pid': '40759', 'last_dir': 'redBg', 'last_numeric': 1336, 'last': '1,336.00', 'bid': '0.00', 'ask': '0.00', 'high': '1,366.00', 'low': '1,336.00', 'pc': '-21.00', 'pcp': '-1.55%', 'pc_col': 'redFont', 'time': '15:39:55', 'timestamp': 1600443240}\n",
      "{'pid': '40717', 'last_dir': 'greenBg', 'last_numeric': 13132, 'last': '13,132.0', 'bid': '0.0', 'ask': '0.0', 'high': '13,244.5', 'low': '13,097.0', 'pc': '-73.5', 'pcp': '-0.56%', 'pc_col': 'redFont', 'time': '15:39:55', 'timestamp': 1600443540}\n",
      "{'pid': '40731', 'last_dir': 'greenBg', 'last_numeric': 10497, 'last': '10,497.0', 'bid': '0.0', 'ask': '0.0', 'high': '10,554.0', 'low': '10,466.0', 'pc': '0.0', 'pcp': '0.00%', 'pc_col': 'blackFont', 'time': '15:39:55', 'timestamp': 1600443540}\n",
      "{'pid': '40727', 'last_dir': 'redBg', 'last_numeric': 1423.5, 'last': '1,423.50', 'bid': '0.00', 'ask': '0.00', 'high': '1,433.00', 'low': '1,419.50', 'pc': '-19.50', 'pcp': '-1.35%', 'pc_col': 'redFont', 'time': '15:39:55', 'timestamp': 1600441560}\n",
      "{'pid': '14958', 'last_dir': 'greenBg', 'last_numeric': 10797.98, 'last': '10,797.98', 'bid': '0.00', 'ask': '0.00', 'high': '10,977.68', 'low': '10,783.74', 'last_close': '10,910.28', 'pc': '-112.30', 'pcp': '-1.03%', 'pc_col': 'redFont', 'turnover': '477.00M', 'turnover_numeric': '476999994', 'time': '15:39:55', 'timestamp': 1600443540}\n",
      "{'pid': '8867', 'last_dir': 'greenBg', 'last_numeric': 3280, 'last': '3,280', 'bid': '3,279', 'ask': '3,280', 'high': '3,314', 'low': '3,270', 'pc': '-29', 'pcp': '-0.88%', 'pc_col': 'redFont', 'time': '15:39:56', 'timestamp': 1600443592}\n",
      "{'pid': '8897', 'last_dir': 'greenBg', 'last_numeric': 287.25, 'last': '287.25', 'bid': '287.20', 'ask': '287.30', 'high': '288.62', 'low': '286.32', 'pc': '-0.15', 'pcp': '-0.05%', 'pc_col': 'redFont', 'time': '15:39:56', 'timestamp': 1600443592}\n",
      "{'pid': '8873', 'last_dir': 'greenBg', 'last_numeric': 27710, 'last': '27,710.0', 'bid': '27,711.0', 'ask': '27,713.0', 'high': '27,879.0', 'low': '27,623.0', 'pc': '-109.0', 'pcp': '-0.39%', 'pc_col': 'redFont', 'time': '15:39:56', 'timestamp': 1600443593}\n",
      "{'pid': '8837', 'last_dir': 'greenBg', 'last_numeric': 10498, 'last': '10,498.0', 'bid': '10,497.0', 'ask': '10,499.0', 'high': '10,554.5', 'low': '10,466.5', 'pc': '+15.0', 'pcp': '+0.14%', 'pc_col': 'greenFont', 'time': '15:39:56', 'timestamp': 1600443592}\n",
      "{'pid': '8874', 'last_dir': 'greenBg', 'last_numeric': 10922.38, 'last': '10,922.38', 'bid': '10,922.00', 'ask': '10,922.75', 'high': '11,162.00', 'low': '10,898.88', 'pc': '-152.87', 'pcp': '-1.38%', 'pc_col': 'redFont', 'time': '15:39:56', 'timestamp': 1600443593}\n",
      "{'pid': '8839', 'last_dir': 'greenBg', 'last_numeric': 3325.62, 'last': '3,325.62', 'bid': '3,325.50', 'ask': '3,325.75', 'high': '3,363.12', 'low': '3,321.62', 'pc': '-25.38', 'pcp': '-0.76%', 'pc_col': 'redFont', 'time': '15:39:56', 'timestamp': 1600443593}\n",
      "{'pid': '40782', 'last_dir': 'greenBg', 'last_numeric': 201.5, 'last': '201.50', 'bid': '0.00', 'ask': '0.00', 'high': '201.50', 'low': '200.50', 'pc': '-3.00', 'pcp': '-1.47%', 'pc_col': 'redFont', 'time': '15:39:57', 'timestamp': 1600443180}\n",
      "{'pid': '8824', 'last_dir': 'greenBg', 'last_numeric': 5849, 'last': '5,849.0', 'bid': '5,847.0', 'ask': '5,851.0', 'high': '5,907.5', 'low': '5,841.0', 'pc': '-34.5', 'pcp': '-0.59%', 'pc_col': 'redFont', 'time': '15:39:57', 'timestamp': 1600443597}\n",
      "{'pid': '40803', 'last_dir': 'greenBg', 'last_numeric': 248.3, 'last': '248.30', 'bid': '0.00', 'ask': '0.00', 'high': '249.80', 'low': '248.20', 'pc': '-2.20', 'pcp': '-0.88%', 'pc_col': 'redFont', 'time': '15:39:57', 'timestamp': 1600443000}\n",
      "{'pid': '8864', 'last_dir': 'greenBg', 'last_numeric': 1539.85, 'last': '1,539.85', 'bid': '1,539.70', 'ask': '1,540.00', 'high': '1,553.05', 'low': '1,528.65', 'pc': '+2.15', 'pcp': '+0.14%', 'pc_col': 'greenFont', 'time': '15:39:57', 'timestamp': 1600443597}\n",
      "{'pid': '40719', 'last_dir': 'greenBg', 'last_numeric': 3125.5, 'last': '3,125.50', 'bid': '0.00', 'ask': '0.00', 'high': '3,143.50', 'low': '3,096.50', 'pc': '+25.50', 'pcp': '+0.82%', 'pc_col': 'greenFont', 'time': '15:39:57', 'timestamp': 1600443240}\n",
      "{'pid': '8853', 'last_dir': 'greenBg', 'last_numeric': 4978.2, 'last': '4,978.2', 'bid': '4,977.5', 'ask': '4,979.0', 'high': '5,037.0', 'low': '4,966.5', 'pc': '-61.3', 'pcp': '-1.22%', 'pc_col': 'redFont', 'time': '15:39:57', 'timestamp': 1600443597}\n",
      "{'pid': '8858', 'last_dir': 'greenBg', 'last_numeric': 19462.5, 'last': '19,462.50', 'bid': '19,455.00', 'ask': '19,470.00', 'high': '19,780.00', 'low': '19,427.50', 'pc': '-289.50', 'pcp': '-1.47%', 'pc_col': 'redFont', 'time': '15:39:57', 'timestamp': 1600443597}\n",
      "{'pid': '8838', 'last_dir': 'greenBg', 'last_numeric': 5986, 'last': '5,986.0', 'bid': '5,985.5', 'ask': '5,986.5', 'high': '6,039.8', 'low': '5,973.8', 'pc': '-74.0', 'pcp': '-1.22%', 'pc_col': 'redFont', 'time': '15:39:57', 'timestamp': 1600443597}\n",
      "{'pid': '44486', 'last_dir': 'greenBg', 'last_numeric': 15578.5, 'last': '15,578.5', 'bid': '15,572.0', 'ask': '15,585.0', 'high': '15,656.0', 'low': '15,237.5', 'pc': '+326.0', 'pcp': '+2.14%', 'pc_col': 'greenFont', 'time': '15:39:57', 'timestamp': 1600443597}\n",
      "{'pid': '104392', 'last_dir': 'greenBg', 'last_numeric': 504.4, 'last': '504.40', 'bid': '504.30', 'ask': '504.50', 'high': '508.60', 'low': '503.90', 'pc': '-2.00', 'pcp': '-0.39%', 'pc_col': 'redFont', 'time': '15:39:57', 'timestamp': 1600443597}\n",
      "{'pid': '8984', 'last_dir': 'greenBg', 'last_numeric': 24365.5, 'last': '24,365.5', 'bid': '24,360.0', 'ask': '24,371.0', 'high': '24,491.5', 'low': '24,255.0', 'pc': '+31.5', 'pcp': '+0.13%', 'pc_col': 'greenFont', 'time': '15:39:57', 'timestamp': 1600443597}\n",
      "{'pid': '8827', 'last_dir': 'redBg', 'last_numeric': 92.868, 'last': '92.868', 'bid': '92.850', 'ask': '92.885', 'high': '93.040', 'low': '92.775', 'pc': '-0.101', 'pcp': '-0.11%', 'pc_col': 'redFont', 'time': '15:39:57', 'timestamp': 1600443597}\n",
      "{'pid': '40790', 'last_dir': 'redBg', 'last_numeric': 344.9, 'last': '344.90', 'bid': '0.00', 'ask': '0.00', 'high': '347.80', 'low': '344.10', 'pc': '-1.80', 'pcp': '-0.52%', 'pc_col': 'redFont', 'time': '15:39:57', 'timestamp': 1600442640}\n",
      "{'pid': '8985', 'last_dir': 'greenBg', 'last_numeric': 11477.75, 'last': '11,477.75', 'bid': '11,474.00', 'ask': '11,481.50', 'high': '11,597.20', 'low': '11,459.25', 'pc': '-44.65', 'pcp': '-0.39%', 'pc_col': 'redFont', 'time': '15:39:57', 'timestamp': 1600443597}\n",
      "{'pid': '40783', 'last_dir': 'greenBg', 'last_numeric': 630.6, 'last': '630.60', 'bid': '0.00', 'ask': '0.00', 'high': '632.70', 'low': '629.60', 'pc': '-1.50', 'pcp': '-0.24%', 'pc_col': 'redFont', 'time': '15:39:57', 'timestamp': 1600442760}\n"
     ]
    },
    {
     "name": "stderr",
     "output_type": "stream",
     "text": [
      "send: b'\\x88\\x825\\x8c\\xec[6d'\n"
     ]
    },
    {
     "name": "stdout",
     "output_type": "stream",
     "text": [
      "{'pid': '8859', 'last_dir': 'greenBg', 'last_numeric': 23123, 'last': '23,123.0', 'bid': '23,111.0', 'ask': '23,135.0', 'high': '23,258.0', 'low': '23,102.5', 'pc': '+23.0', 'pcp': '+0.10%', 'pc_col': 'greenFont', 'time': '15:39:58', 'timestamp': 1600443598}\n",
      "{'pid': '15288', 'last_dir': '', 'last_numeric': 3125.5, 'last': '3,125.50', 'bid': '3,104.00', 'ask': '3,138.00', 'high': '3,143.50', 'low': '3,077.50', 'pc': '+48.00', 'pcp': '+1.56%', 'pc_col': 'greenFont', 'time': '15:39:58', 'timestamp': 1600443594}\n",
      "\n",
      "### close ###\n"
     ]
    },
    {
     "data": {
      "text/plain": [
       "False"
      ]
     },
     "execution_count": 7,
     "metadata": {},
     "output_type": "execute_result"
    },
    {
     "name": "stdout",
     "output_type": "stream",
     "text": [
      "Connection is already closed.\n"
     ]
    }
   ],
   "source": [
    "import threading\n",
    "import json\n",
    "import time\n",
    "import ssl\n",
    "import websocket\n",
    "\n",
    "def heartbeat(ws):\n",
    "    time.sleep(5)\n",
    "\n",
    "    heartbeat_obj = {\n",
    "        \"_event\": \"heartbeat\",\n",
    "        \"data\": \"h\"\n",
    "    }\n",
    "    heartbeat_msg = json.dumps(heartbeat_obj)\n",
    "    heartbeat_msg = json.dumps([heartbeat_msg])\n",
    "\n",
    "    while True:\n",
    "        try:\n",
    "            time.sleep(3)\n",
    "            ws.send(heartbeat_msg)\n",
    "        except Exception as e:\n",
    "            print(e)\n",
    "            break\n",
    "\n",
    "\n",
    "def on_message(ws, msg) -> None:\n",
    "    if \"o\" == msg:\n",
    "        # subscribe\n",
    "        items = [\"pid-8873:\", \"pid-8839:\", \"pid-8874:\", \"pid-8864:\", \"pid-8884:\", \"pid-8826:\", \"pid-8853:\", \"pid-8838:\", \"pid-8867:\", \"pid-8858:\", \"pid-8837:\", \"pid-8828:\", \"pid-8825:\", \"pid-8863:\", \"pid-8878:\", \"pid-8882:\", \"pid-104396:\", \"pid-961616:\", \"pid-941612:\", \"pid-8859:\", \"pid-941609:\", \"pid-8984:\", \"pid-8982:\", \"pid-941616:\", \"pid-44486:\", \"pid-8824:\", \"pid-8897:\", \"pid-8985:\", \"pid-104423:\", \"pid-8987:\", \"pid-104392:\", \"pid-8840:\", \"pid-15288:\", \"pid-1090480:\", \"pid-40717:\", \"pid-40744:\", \"pid-40703:\", \"pid-40745:\", \"pid-40742:\", \"pid-40715:\", \"pid-40724:\", \"pid-40792:\", \"pid-40793:\", \"pid-40725:\", \"pid-40794:\", \"pid-40726:\", \"pid-40796:\", \"pid-40797:\", \"pid-40798:\", \"pid-40799:\", \"pid-40800:\", \"pid-40801:\", \"pid-40802:\", \"pid-40803:\", \"pid-40804:\", \"pid-40805:\", \"pid-40806:\", \"pid-40807:\", \"pid-40809:\", \"pid-40810:\", \"pid-40811:\", \"pid-40812:\", \"pid-40813:\", \"pid-40814:\", \"pid-40815:\", \"pid-40816:\", \"pid-40714:\", \"pid-40765:\", \"pid-40766:\", \"pid-40767:\", \"pid-40768:\", \"pid-40769:\", \"pid-40770:\", \"pid-40771:\", \"pid-40772:\", \"pid-40773:\", \"pid-40774:\", \"pid-40775:\", \"pid-40776:\", \"pid-40777:\", \"pid-40778:\", \"pid-40728:\", \"pid-40779:\", \"pid-40780:\", \"pid-40781:\", \"pid-40782:\", \"pid-40783:\", \"pid-40743:\", \"pid-40727:\", \"pid-40784:\", \"pid-40785:\", \"pid-40786:\", \"pid-40787:\", \"pid-40788:\", \"pid-40789:\", \"pid-40790:\", \"pid-40791:\", \"pid-40808:\", \"pid-40764:\", \"pid-40756:\", \"pid-40718:\", \"pid-40758:\", \"pid-40723:\", \"pid-40716:\", \"pid-40759:\", \"pid-40729:\", \"pid-40731:\", \"pid-40763:\", \"pid-40730:\", \"pid-40719:\", \"pid-40817:\", \"pid-169:\", \"pid-166:\", \"pid-14958:\", \"pid-44336:\", \"pid-8827:\", \"pid-1:\", \"pid-3:\", \"pid-2:\", \"pid-5:\", \"pid-9:\", \"pid-7:\", \"pid-10:\", \"pid-998471:\"]\n",
    "        subs_msg = {\"_event\": \"bulk-subscribe\", \"tzID\": timezone_id, \"message\": \"%%\".join(items)}\n",
    "        subs_msg = json.dumps(subs_msg)\n",
    "        subs_msg = json.dumps([subs_msg])\n",
    "        ws.send(subs_msg)\n",
    "\n",
    "        # UID\n",
    "        uids = {\"_event\": \"UID\", \"UID\": 0}\n",
    "        uids_msg = json.dumps(uids)\n",
    "        uids_msg = json.dumps([uids_msg])\n",
    "        ws.send(uids_msg)\n",
    "\n",
    "        # heartbeat\n",
    "        heartbeat_thd = threading.Thread(target=heartbeat, args=(ws,))\n",
    "        heartbeat_thd.start()\n",
    "\n",
    "\n",
    "def on_data(ws, m, t, c) -> None:\n",
    "    if type(m) == str and 0 < len(m) and \"a\" == m[0]:\n",
    "        rcv_msg = json.loads(m[1:])\n",
    "        rcv_msg = json.loads(rcv_msg[0])\n",
    "\n",
    "        if \"message\" in rcv_msg:\n",
    "            rcv_msg = rcv_msg[\"message\"]\n",
    "            pattern = re.compile(\"::(.+)\")\n",
    "            rcv_msg = pattern.findall(rcv_msg)[0]\n",
    "            rcv_msg = json.loads(rcv_msg)\n",
    "\n",
    "        print(rcv_msg)\n",
    "\n",
    "\n",
    "def on_error(ws, error) -> None:\n",
    "    print(error)\n",
    "\n",
    "\n",
    "def on_close(ws) -> None:\n",
    "    print(\"### close ###\")\n",
    "\n",
    "\n",
    "def on_open(ws) -> None:\n",
    "    print(\"### open ###\")\n",
    "\n",
    "\n",
    "websocket.enableTrace(True)\n",
    "ws = websocket.WebSocketApp(ws_url,\n",
    "                            on_message=on_message,\n",
    "                            on_data=on_data,\n",
    "                            on_error=on_error,\n",
    "                            on_close=on_close,\n",
    "                            on_open=on_open)\n",
    "ws.run_forever(sslopt={\"cert_reqs\": ssl.CERT_NONE})"
   ]
  }
 ],
 "metadata": {
  "kernelspec": {
   "display_name": "Python 3",
   "language": "python",
   "name": "python3"
  },
  "language_info": {
   "codemirror_mode": {
    "name": "ipython",
    "version": 3
   },
   "file_extension": ".py",
   "mimetype": "text/x-python",
   "name": "python",
   "nbconvert_exporter": "python",
   "pygments_lexer": "ipython3",
   "version": "3.7.7"
  }
 },
 "nbformat": 4,
 "nbformat_minor": 4
}
