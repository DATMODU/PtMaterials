{
 "cells": [
  {
   "cell_type": "markdown",
   "metadata": {},
   "source": [
    "# AWS KMS (Key Management Service) Tutorial\n",
    "---\n",
    "\n",
    "- AWS KMS Documentation: https://docs.aws.amazon.com/ko_kr/kms/latest/developerguide/overview.html\n",
    "- boto3 Documentation: https://boto3.amazonaws.com/v1/documentation/api/latest/index.html"
   ]
  },
  {
   "cell_type": "code",
   "execution_count": null,
   "metadata": {},
   "outputs": [],
   "source": [
    "# -*- coding: utf-8 -*-\n",
    "import boto3\n",
    "import pprint\n",
    "import base64\n",
    "\n",
    "kms_client = boto3.client('kms')"
   ]
  },
  {
   "cell_type": "markdown",
   "metadata": {},
   "source": [
    "## CMK (Customer Master Key) 조회\n",
    "---"
   ]
  },
  {
   "cell_type": "code",
   "execution_count": null,
   "metadata": {},
   "outputs": [],
   "source": [
    "resp = kms_client.list_keys()\n",
    "\n",
    "for cmk in resp[\"Keys\"]:\n",
    "\tpprint.pprint(cmk)"
   ]
  },
  {
   "cell_type": "markdown",
   "metadata": {},
   "source": [
    "## Data Key 생성\n",
    "---"
   ]
  },
  {
   "cell_type": "code",
   "execution_count": null,
   "metadata": {},
   "outputs": [],
   "source": [
    "# KeyId에는 KeyArn이나 KeyId가 들어간다.\n",
    "# 제일 첫번째 CMK를 사용하자\n",
    "resp = kms_client.generate_data_key(\n",
    "    KeyId=resp[\"Keys\"][0][\"KeyId\"],\n",
    "    KeySpec='AES_256'\n",
    ")\n",
    "\n",
    "# 암호화된 Data key\n",
    "data_key_encrypted = resp[\"CiphertextBlob\"]\n",
    "\n",
    "# 복호화된 Data Key\n",
    "data_key_plaintext = resp[\"Plaintext\"]\n",
    "\n",
    "# Data Key는 바이너리 형태이므로 읽을 수 있게 Base64로 인코딩\n",
    "data_key_base64 = base64.b64encode(data_key_plaintext)\n",
    "\n",
    "pprint.pprint(resp)\n",
    "print(\"\\n\\nPlain Data Key(Base64):\", data_key_base64)"
   ]
  },
  {
   "cell_type": "markdown",
   "metadata": {},
   "source": [
    "## 암호화된 Data Key의 복호화\n",
    "---"
   ]
  },
  {
   "cell_type": "code",
   "execution_count": null,
   "metadata": {},
   "outputs": [],
   "source": [
    "resp = kms_client.decrypt(CiphertextBlob=data_key_encrypted)\n",
    "\n",
    "# 복호화된 Data Key\n",
    "data_key_plaintext = resp[\"Plaintext\"]\n",
    "\n",
    "# Data Key는 바이너리 형태이므로 읽을 수 있게 Base64로 인코딩\n",
    "data_key_base64 = base64.b64encode(data_key_plaintext)\n",
    "\n",
    "print(\"\\n\\nPlain Data Key(Base64):\", data_key_base64)"
   ]
  },
  {
   "cell_type": "markdown",
   "metadata": {},
   "source": [
    "## 파일 암호화\n",
    "---\n",
    "\n",
    "- cryptography Documentation: https://cryptography.io/en/latest/"
   ]
  },
  {
   "cell_type": "code",
   "execution_count": null,
   "metadata": {},
   "outputs": [],
   "source": [
    "import cryptography.fernet\n",
    "\n",
    "NUM_BYTES_FOR_LEN = 4\n",
    "PLAIN_SAMPLE_FILE_NAME = \"sample_plain.txt\"  # 읽을 샘플 파일명\n",
    "ENCRYPTED_FILE_NAME = \"sample_encrypted.txt\"  # 암호화하여 저장할 파일명\n",
    "\n",
    "file_contents_encrypted = b\"\"\n",
    "\n",
    "with open(PLAIN_SAMPLE_FILE_NAME, \"rb\") as f:\n",
    "    file_contents = f.read()\n",
    "\n",
    "    # Data Key를 Base64로 인코딩한 값으로 샘플 파일을 암호화\n",
    "    fernet = cryptography.fernet.Fernet(data_key_base64)\n",
    "    file_contents_encrypted = fernet.encrypt(file_contents)\n",
    "\n",
    "with open(ENCRYPTED_FILE_NAME, \"wb\") as f:\n",
    "    # CMK로 암호화된 Data Key의 길이\n",
    "    f.write(len(data_key_encrypted).to_bytes(NUM_BYTES_FOR_LEN, byteorder=\"big\"))\n",
    "    \n",
    "    # CMK로 암호화된 Data Key\n",
    "    f.write(data_key_encrypted)\n",
    "    \n",
    "    # Data Key를 Base64로 인코딩한 값으로 암호화된 값\n",
    "    f.write(file_contents_encrypted)\n",
    "\n",
    "print(\"Done\")"
   ]
  },
  {
   "cell_type": "markdown",
   "metadata": {},
   "source": [
    "## 파일 복호화\n",
    "---"
   ]
  },
  {
   "cell_type": "code",
   "execution_count": null,
   "metadata": {},
   "outputs": [],
   "source": [
    "NUM_BYTES_FOR_LEN = 4\n",
    "ENCRYPTED_FILE_NAME = \"sample_encrypted.txt\"  # 저장한 암호화된 샘플 파일명\n",
    "\n",
    "data_key_encrypted = b\"\"\n",
    "file_contents_encrypted = b\"\"\n",
    "\n",
    "with open(ENCRYPTED_FILE_NAME, \"rb\") as f:\n",
    "    file_contents = f.read()\n",
    "\n",
    "    # CMK로 암호화된 Data Key의 길이\n",
    "    data_key_encrypted_len = int.from_bytes(file_contents[:NUM_BYTES_FOR_LEN], byteorder=\"big\")\n",
    "    \n",
    "    # CMK로 암호화된 Data Key\n",
    "    data_key_encrypted = file_contents[NUM_BYTES_FOR_LEN:NUM_BYTES_FOR_LEN+data_key_encrypted_len]\n",
    "    \n",
    "    # Data Key를 Base64로 인코딩한 값으로 암호화된 값\n",
    "    file_contents_encrypted = file_contents[NUM_BYTES_FOR_LEN+data_key_encrypted_len:]\n",
    "\n",
    "# 암호화된 Data Key의 복호화\n",
    "resp = kms_client.decrypt(CiphertextBlob=data_key_encrypted)\n",
    "data_key_plaintext = resp[\"Plaintext\"]\n",
    "data_key_base64 = base64.b64encode(data_key_plaintext)\n",
    "\n",
    "# 복호화된 Data Key를 Base64로 인코딩한 값으로 샘플 파일을 복호화\n",
    "fernet = cryptography.fernet.Fernet(data_key_base64)\n",
    "file_contents_decrypted = fernet.decrypt(file_contents_encrypted)\n",
    "\n",
    "print(\"Result:\", file_contents_decrypted.decode())"
   ]
  },
  {
   "cell_type": "code",
   "execution_count": null,
   "metadata": {},
   "outputs": [],
   "source": []
  }
 ],
 "metadata": {
  "kernelspec": {
   "display_name": "Python 3",
   "language": "python",
   "name": "python3"
  },
  "language_info": {
   "codemirror_mode": {
    "name": "ipython",
    "version": 3
   },
   "file_extension": ".py",
   "mimetype": "text/x-python",
   "name": "python",
   "nbconvert_exporter": "python",
   "pygments_lexer": "ipython3",
   "version": "3.7.4"
  }
 },
 "nbformat": 4,
 "nbformat_minor": 4
}
