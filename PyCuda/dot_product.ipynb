{
 "cells": [
  {
   "cell_type": "markdown",
   "metadata": {},
   "source": [
    "# Dot Product 구현"
   ]
  },
  {
   "cell_type": "markdown",
   "metadata": {},
   "source": [
    "### Use CPU"
   ]
  },
  {
   "cell_type": "code",
   "execution_count": 1,
   "metadata": {},
   "outputs": [
    {
     "name": "stdout",
     "output_type": "stream",
     "text": [
      "a_mat =\n",
      "[[3 0 4 4 0 4 4 3 2 4]\n",
      " [2 4 2 0 4 2 2 3 2 2]\n",
      " [1 3 2 3 4 4 2 1 3 4]\n",
      " [0 0 1 1 3 4 3 2 0 1]\n",
      " [3 1 1 4 4 3 0 4 1 1]\n",
      " [0 4 2 3 2 0 2 0 0 2]\n",
      " [2 0 1 3 4 4 2 4 2 2]\n",
      " [0 2 3 0 3 0 3 3 2 2]\n",
      " [1 4 2 4 2 2 1 3 4 3]\n",
      " [4 3 2 3 1 1 0 0 1 2]]\n",
      "\n",
      "b_mat =\n",
      "[[1 2 3 0 3 3 1 1 4 4]\n",
      " [1 1 2 2 0 0 1 3 0 1]\n",
      " [1 2 4 1 3 3 0 3 0 3]\n",
      " [3 0 3 1 3 3 0 0 3 2]\n",
      " [3 0 2 1 0 0 0 4 4 3]\n",
      " [0 4 3 2 4 1 1 2 3 2]\n",
      " [3 4 2 2 1 4 4 3 0 0]\n",
      " [1 2 1 1 1 3 3 1 3 4]\n",
      " [3 3 1 0 1 2 4 4 1 3]\n",
      " [0 4 2 0 2 4 0 1 0 0]]\n",
      "\n",
      "ret_mat =\n",
      "[[40 74 70 27 66 82 40 50 47 58]\n",
      " [35 48 49 25 31 43 33 59 41 52]\n",
      " [43 60 62 28 48 55 31 63 47 52]\n",
      " [24 38 35 21 29 32 22 35 33 30]\n",
      " [36 36 51 21 43 45 23 40 62 61]\n",
      " [27 24 37 19 21 31 12 34 17 22]\n",
      " [40 52 53 24 46 54 34 49 59 59]\n",
      " [32 40 37 19 21 42 31 49 23 38]\n",
      " [43 52 56 25 43 56 36 56 43 56]\n",
      " [24 30 45 14 36 38 12 31 33 39]]\n"
     ]
    }
   ],
   "source": [
    "import numpy as np\n",
    "\n",
    "N = 10\n",
    "\n",
    "a_mat = np.random.randint(5, size=[N, N])\n",
    "b_mat = np.random.randint(5, size=[N, N])\n",
    "ret_mat_cpu = np.dot(a_mat, b_mat)\n",
    "\n",
    "print(\"a_mat =\")\n",
    "print(a_mat)\n",
    "print(\"\\nb_mat =\")\n",
    "print(b_mat)\n",
    "print(\"\\nret_mat =\")\n",
    "print(ret_mat_cpu)"
   ]
  },
  {
   "cell_type": "markdown",
   "metadata": {},
   "source": [
    "### Use GPU"
   ]
  },
  {
   "cell_type": "code",
   "execution_count": 2,
   "metadata": {
    "collapsed": true
   },
   "outputs": [],
   "source": [
    "import pycuda.driver as cuda\n",
    "import pycuda.autoinit\n",
    "from pycuda import driver, compiler"
   ]
  },
  {
   "cell_type": "code",
   "execution_count": 3,
   "metadata": {},
   "outputs": [
    {
     "name": "stdout",
     "output_type": "stream",
     "text": [
      "\n",
      "GPU로 계산 =\n",
      "[[40 74 70 27 66 82 40 50 47 58]\n",
      " [35 48 49 25 31 43 33 59 41 52]\n",
      " [43 60 62 28 48 55 31 63 47 52]\n",
      " [24 38 35 21 29 32 22 35 33 30]\n",
      " [36 36 51 21 43 45 23 40 62 61]\n",
      " [27 24 37 19 21 31 12 34 17 22]\n",
      " [40 52 53 24 46 54 34 49 59 59]\n",
      " [32 40 37 19 21 42 31 49 23 38]\n",
      " [43 52 56 25 43 56 36 56 43 56]\n",
      " [24 30 45 14 36 38 12 31 33 39]]\n",
      "\n",
      "CPU로 계산 =\n",
      "[[40 74 70 27 66 82 40 50 47 58]\n",
      " [35 48 49 25 31 43 33 59 41 52]\n",
      " [43 60 62 28 48 55 31 63 47 52]\n",
      " [24 38 35 21 29 32 22 35 33 30]\n",
      " [36 36 51 21 43 45 23 40 62 61]\n",
      " [27 24 37 19 21 31 12 34 17 22]\n",
      " [40 52 53 24 46 54 34 49 59 59]\n",
      " [32 40 37 19 21 42 31 49 23 38]\n",
      " [43 52 56 25 43 56 36 56 43 56]\n",
      " [24 30 45 14 36 38 12 31 33 39]]\n"
     ]
    }
   ],
   "source": [
    "# Kernel code\n",
    "kernel_code = \"\"\"\n",
    "__device__ __constant__ int n;\n",
    "\n",
    "__global__ void mul(int* in_arr1, int* in_arr2, int* out_arr)\n",
    "{\n",
    "  int col = threadIdx.x;\n",
    "  int row = threadIdx.y;\n",
    "  \n",
    "  int sum = 0;\n",
    "  \n",
    "  if ( col < n && row < n )\n",
    "  {\n",
    "    for ( int i=0 ; i<n ; i++ )\n",
    "    {\n",
    "      sum += in_arr1[row * n + i] * in_arr2[i * n + col];\n",
    "    }\n",
    "  }\n",
    "  \n",
    "  out_arr[col + row*n] = sum;\n",
    "}\n",
    "\"\"\"\n",
    "\n",
    "# Compile the kernel code\n",
    "mod = compiler.SourceModule(kernel_code)\n",
    "\n",
    "# Get kernel function\n",
    "mul_func = mod.get_function(\"mul\")\n",
    "\n",
    "# 상수 설정\n",
    "host_n = np.array([N], dtype=np.int)\n",
    "device_n = mod.get_global(\"n\")[0]\n",
    "cuda.memcpy_htod(device_n, host_n[0])\n",
    "\n",
    "# Run\n",
    "ret_mat_gpu = np.zeros_like(a_mat)\n",
    "mul_func(cuda.In(a_mat), cuda.In(b_mat), cuda.Out(ret_mat_gpu), block=(N, N, 1), grid=(1, 1))\n",
    "\n",
    "# 출력\n",
    "print(\"\\nGPU로 계산 =\")\n",
    "print(ret_mat_gpu)\n",
    "print(\"\\nCPU로 계산 =\")\n",
    "print(ret_mat_cpu)"
   ]
  },
  {
   "cell_type": "code",
   "execution_count": null,
   "metadata": {
    "collapsed": true
   },
   "outputs": [],
   "source": []
  }
 ],
 "metadata": {
  "kernelspec": {
   "display_name": "Python 3",
   "language": "python",
   "name": "python3"
  },
  "language_info": {
   "codemirror_mode": {
    "name": "ipython",
    "version": 3
   },
   "file_extension": ".py",
   "mimetype": "text/x-python",
   "name": "python",
   "nbconvert_exporter": "python",
   "pygments_lexer": "ipython3",
   "version": "3.6.1"
  }
 },
 "nbformat": 4,
 "nbformat_minor": 2
}
