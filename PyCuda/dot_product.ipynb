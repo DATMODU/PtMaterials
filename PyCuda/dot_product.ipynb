{
 "cells": [
  {
   "cell_type": "markdown",
   "metadata": {},
   "source": [
    "# Dot Product 구현"
   ]
  },
  {
   "cell_type": "markdown",
   "metadata": {},
   "source": [
    "### Use CPU"
   ]
  },
  {
   "cell_type": "code",
   "execution_count": 1,
   "metadata": {},
   "outputs": [
    {
     "name": "stdout",
     "output_type": "stream",
     "text": [
      "a_mat =\n",
      "[[1 2 2 3 2 2 2 3 4 4]\n",
      " [2 3 4 4 2 3 0 4 2 2]\n",
      " [4 2 0 3 3 3 0 3 2 2]\n",
      " [0 2 3 0 2 4 3 4 3 2]\n",
      " [4 1 3 4 1 4 3 0 4 1]\n",
      " [4 1 2 3 1 0 2 0 0 0]\n",
      " [2 3 4 1 0 1 3 0 4 2]\n",
      " [2 2 1 0 4 4 2 1 4 1]\n",
      " [4 0 0 3 0 1 3 3 4 4]\n",
      " [2 4 4 2 3 2 4 2 1 3]]\n",
      "\n",
      "b_mat =\n",
      "[[4 2 0 2 3 1 4 2 4 2]\n",
      " [0 3 4 3 1 3 1 2 1 2]\n",
      " [0 4 2 3 1 4 4 0 4 1]\n",
      " [4 1 2 4 3 0 0 4 3 1]\n",
      " [4 0 0 2 1 3 3 2 0 2]\n",
      " [3 1 3 2 2 4 0 0 3 0]\n",
      " [3 4 1 4 3 2 0 0 3 4]\n",
      " [3 4 3 4 1 2 3 0 4 2]\n",
      " [4 0 4 2 0 4 0 0 2 3]\n",
      " [1 3 3 3 2 3 1 0 2 0]]\n",
      "\n",
      "ret_mat =\n",
      "[[65 53 63 74 39 67 33 22 63 41]\n",
      " [63 58 63 77 41 67 47 30 72 36]\n",
      " [68 38 46 60 39 51 38 30 56 33]\n",
      " [55 56 59 67 32 72 34  8 61 40]\n",
      " [74 46 52 69 48 63 33 28 72 43]\n",
      " [38 30 16 39 31 22 28 24 40 25]\n",
      " [42 49 50 57 31 59 29 14 54 39]\n",
      " [62 33 46 52 30 65 30 16 46 39]\n",
      " [69 48 49 66 43 48 29 20 65 41]\n",
      " [59 69 57 81 47 72 46 26 68 47]]\n"
     ]
    }
   ],
   "source": [
    "import numpy as np\n",
    "\n",
    "a_mat = np.random.randint(5, size=[10, 10])\n",
    "b_mat = np.random.randint(5, size=[10, 10])\n",
    "ret_mat_cpu = np.dot(a_mat, b_mat)\n",
    "\n",
    "print(\"a_mat =\")\n",
    "print(a_mat)\n",
    "print(\"\\nb_mat =\")\n",
    "print(b_mat)\n",
    "print(\"\\nret_mat =\")\n",
    "print(ret_mat_cpu)"
   ]
  },
  {
   "cell_type": "markdown",
   "metadata": {},
   "source": [
    "### Use GPU"
   ]
  },
  {
   "cell_type": "code",
   "execution_count": 2,
   "metadata": {
    "collapsed": true
   },
   "outputs": [],
   "source": [
    "import pycuda.driver as cuda\n",
    "import pycuda.autoinit\n",
    "from pycuda import driver, compiler"
   ]
  },
  {
   "cell_type": "code",
   "execution_count": 3,
   "metadata": {},
   "outputs": [
    {
     "name": "stdout",
     "output_type": "stream",
     "text": [
      "\n",
      "CPU로 계산 =\n",
      "[[65 53 63 74 39 67 33 22 63 41]\n",
      " [63 58 63 77 41 67 47 30 72 36]\n",
      " [68 38 46 60 39 51 38 30 56 33]\n",
      " [55 56 59 67 32 72 34  8 61 40]\n",
      " [74 46 52 69 48 63 33 28 72 43]\n",
      " [38 30 16 39 31 22 28 24 40 25]\n",
      " [42 49 50 57 31 59 29 14 54 39]\n",
      " [62 33 46 52 30 65 30 16 46 39]\n",
      " [69 48 49 66 43 48 29 20 65 41]\n",
      " [59 69 57 81 47 72 46 26 68 47]]\n",
      "\n",
      "GPU로 계산 =\n",
      "[[0 0 0 0 0 0 0 0 0 0]\n",
      " [0 0 0 0 0 0 0 0 0 0]\n",
      " [0 0 0 0 0 0 0 0 0 0]\n",
      " [0 0 0 0 0 0 0 0 0 0]\n",
      " [0 0 0 0 0 0 0 0 0 0]\n",
      " [0 0 0 0 0 0 0 0 0 0]\n",
      " [0 0 0 0 0 0 0 0 0 0]\n",
      " [0 0 0 0 0 0 0 0 0 0]\n",
      " [0 0 0 0 0 0 0 0 0 0]\n",
      " [0 0 0 0 0 0 0 0 0 0]]\n"
     ]
    }
   ],
   "source": [
    "# Kernel code\n",
    "kernel_code = \"\"\"\n",
    "__global__ void dot(int* in_arr1, int* in_arr2, int* ret_arr)\n",
    "{\n",
    "    // TODO\n",
    "}\n",
    "\"\"\"\n",
    "\n",
    "# Compile the kernel code\n",
    "mod = compiler.SourceModule(kernel_code)\n",
    "\n",
    "# Get kernel function\n",
    "dot_func = mod.get_function(\"dot\")\n",
    "\n",
    "# Run & Print\n",
    "ret_mat_gpu = np.zeros_like(a_mat)\n",
    "dot_func(cuda.In(a_mat), cuda.In(b_mat), cuda.Out(ret_mat_gpu), block=(5, 5, 1), grid=(2, 2))\n",
    "\n",
    "print(\"\\nCPU로 계산 =\")\n",
    "print(ret_mat_cpu)\n",
    "print(\"\\nGPU로 계산 =\")\n",
    "print(ret_mat_gpu)"
   ]
  },
  {
   "cell_type": "code",
   "execution_count": null,
   "metadata": {
    "collapsed": true
   },
   "outputs": [],
   "source": []
  }
 ],
 "metadata": {
  "kernelspec": {
   "display_name": "Python 3",
   "language": "python",
   "name": "python3"
  },
  "language_info": {
   "codemirror_mode": {
    "name": "ipython",
    "version": 3
   },
   "file_extension": ".py",
   "mimetype": "text/x-python",
   "name": "python",
   "nbconvert_exporter": "python",
   "pygments_lexer": "ipython3",
   "version": "3.6.1"
  }
 },
 "nbformat": 4,
 "nbformat_minor": 2
}
