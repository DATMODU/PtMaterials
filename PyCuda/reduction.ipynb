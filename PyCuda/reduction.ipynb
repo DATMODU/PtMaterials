{
 "cells": [
  {
   "cell_type": "markdown",
   "metadata": {},
   "source": [
    "# 배열의 값들을 전부 더하기\n",
    "***\n",
    "Reduction : 여러값들로 하나의 값을 얻는것 (예 : sum, max, min)"
   ]
  },
  {
   "cell_type": "code",
   "execution_count": 1,
   "metadata": {},
   "outputs": [
    {
     "name": "stdout",
     "output_type": "stream",
     "text": [
      "arr =\n",
      "[2 7 7 7 7 4 8 0 7 8]\n",
      "\n",
      "sum_arr\n",
      "57\n"
     ]
    }
   ],
   "source": [
    "import numpy as np\n",
    "\n",
    "arr = np.random.randint(10, size=10)\n",
    "sum_arr = np.sum(arr)\n",
    "\n",
    "print(\"arr =\")\n",
    "print(arr)\n",
    "print(\"\\nsum_arr\")\n",
    "print(sum_arr)"
   ]
  },
  {
   "cell_type": "markdown",
   "metadata": {},
   "source": [
    "### 잘못된 방법"
   ]
  },
  {
   "cell_type": "code",
   "execution_count": 2,
   "metadata": {
    "collapsed": true
   },
   "outputs": [],
   "source": [
    "import pycuda.driver as cuda\n",
    "import pycuda.autoinit\n",
    "from pycuda import driver, compiler"
   ]
  },
  {
   "cell_type": "code",
   "execution_count": 3,
   "metadata": {},
   "outputs": [
    {
     "name": "stdout",
     "output_type": "stream",
     "text": [
      "\n",
      "CPU로 계산 =\n",
      "57\n",
      "\n",
      "GPU로 계산 =\n",
      "8\n"
     ]
    }
   ],
   "source": [
    "# Kernel code\n",
    "kernel_code = \"\"\"\n",
    "__global__ void sum_all(int* in_arr, int* ret_arr)\n",
    "{\n",
    "  int idx = threadIdx.x;\n",
    "  ret_arr[0] += in_arr[idx];\n",
    "}\n",
    "\"\"\"\n",
    "\n",
    "# Compile the kernel code\n",
    "mod = compiler.SourceModule(kernel_code)\n",
    "\n",
    "# Get kernel function\n",
    "sum_func = mod.get_function(\"sum_all\")\n",
    "\n",
    "# Run & Print\n",
    "result_arr = np.zeros(1, dtype=int)\n",
    "sum_func(cuda.In(arr), cuda.InOut(result_arr), block=(10, 1, 1))\n",
    "\n",
    "print(\"\\nCPU로 계산 =\")\n",
    "print(sum_arr)\n",
    "print(\"\\nGPU로 계산 =\")\n",
    "print(result_arr[0])"
   ]
  },
  {
   "cell_type": "markdown",
   "metadata": {},
   "source": [
    "### Atomic function 사용\n",
    "* 코드가 간결하지만 느리다."
   ]
  },
  {
   "cell_type": "code",
   "execution_count": 4,
   "metadata": {
    "scrolled": true
   },
   "outputs": [
    {
     "name": "stdout",
     "output_type": "stream",
     "text": [
      "\n",
      "CPU로 계산 =\n",
      "57\n",
      "\n",
      "GPU로 계산 =\n",
      "57\n"
     ]
    }
   ],
   "source": [
    "# Kernel code\n",
    "kernel_code = \"\"\"\n",
    "__global__ void sum_all(int* in_arr, int* ret_arr)\n",
    "{\n",
    "  int idx = threadIdx.x;\n",
    "  atomicAdd(&ret_arr[0], in_arr[idx]);\n",
    "}\n",
    "\"\"\"\n",
    "\n",
    "# Compile the kernel code\n",
    "mod = compiler.SourceModule(kernel_code)\n",
    "\n",
    "# Get kernel function\n",
    "sum_func = mod.get_function(\"sum_all\")\n",
    "\n",
    "# Run & Print\n",
    "result_arr = np.zeros(1, dtype=int)\n",
    "sum_func(cuda.In(arr), cuda.InOut(result_arr), block=(10, 1, 1))\n",
    "\n",
    "print(\"\\nCPU로 계산 =\")\n",
    "print(sum_arr)\n",
    "print(\"\\nGPU로 계산 =\")\n",
    "print(result_arr[0])"
   ]
  },
  {
   "cell_type": "markdown",
   "metadata": {},
   "source": [
    "### Parallel reduction with shared memory\n",
    "* 코드가 복잡하지만 빠르다."
   ]
  },
  {
   "cell_type": "code",
   "execution_count": null,
   "metadata": {
    "collapsed": true
   },
   "outputs": [],
   "source": []
  }
 ],
 "metadata": {
  "kernelspec": {
   "display_name": "Python 3",
   "language": "python",
   "name": "python3"
  },
  "language_info": {
   "codemirror_mode": {
    "name": "ipython",
    "version": 3
   },
   "file_extension": ".py",
   "mimetype": "text/x-python",
   "name": "python",
   "nbconvert_exporter": "python",
   "pygments_lexer": "ipython3",
   "version": "3.6.1"
  }
 },
 "nbformat": 4,
 "nbformat_minor": 2
}
