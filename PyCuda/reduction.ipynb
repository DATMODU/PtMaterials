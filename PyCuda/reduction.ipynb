{
 "cells": [
  {
   "cell_type": "markdown",
   "metadata": {},
   "source": [
    "# 배열의 값들을 전부 더하기\n",
    "***\n",
    "Reduction : 여러값들로 하나의 값을 얻는것 (예 : sum, max, min)"
   ]
  },
  {
   "cell_type": "code",
   "execution_count": 1,
   "metadata": {},
   "outputs": [
    {
     "name": "stdout",
     "output_type": "stream",
     "text": [
      "arr =\n",
      "[9 7 9 2 1 1 7 9 5 2]\n",
      "\n",
      "sum_arr\n",
      "52\n"
     ]
    }
   ],
   "source": [
    "import numpy as np\n",
    "\n",
    "arr = np.random.randint(10, size=10)\n",
    "sum_arr = np.sum(arr)\n",
    "\n",
    "print(\"arr =\")\n",
    "print(arr)\n",
    "print(\"\\nsum_arr\")\n",
    "print(sum_arr)"
   ]
  },
  {
   "cell_type": "markdown",
   "metadata": {},
   "source": [
    "### 잘못된 방법"
   ]
  },
  {
   "cell_type": "code",
   "execution_count": 2,
   "metadata": {
    "collapsed": true
   },
   "outputs": [],
   "source": [
    "import pycuda.driver as cuda\n",
    "import pycuda.autoinit\n",
    "from pycuda import driver, compiler"
   ]
  },
  {
   "cell_type": "code",
   "execution_count": 3,
   "metadata": {},
   "outputs": [
    {
     "name": "stdout",
     "output_type": "stream",
     "text": [
      "\n",
      "CPU로 계산 =\n",
      "52\n",
      "\n",
      "GPU로 계산 =\n",
      "9\n"
     ]
    }
   ],
   "source": [
    "# Kernel code\n",
    "kernel_code = \"\"\"\n",
    "__global__ void sum_all(int* in_arr, int* ret_arr)\n",
    "{\n",
    "  int idx = threadIdx.x;\n",
    "  ret_arr[0] += in_arr[idx];\n",
    "}\n",
    "\"\"\"\n",
    "\n",
    "# Compile the kernel code\n",
    "mod = compiler.SourceModule(kernel_code)\n",
    "\n",
    "# Get kernel function\n",
    "sum_func = mod.get_function(\"sum_all\")\n",
    "\n",
    "# Run & Print\n",
    "result_arr = np.zeros(1, dtype=int)\n",
    "sum_func(cuda.In(arr), cuda.InOut(result_arr), block=(10, 1, 1))\n",
    "\n",
    "print(\"\\nCPU로 계산 =\")\n",
    "print(sum_arr)\n",
    "print(\"\\nGPU로 계산 =\")\n",
    "print(result_arr[0])"
   ]
  },
  {
   "cell_type": "markdown",
   "metadata": {},
   "source": [
    "### Atomic function 사용\n",
    "* 코드가 간결하지만 느리다."
   ]
  },
  {
   "cell_type": "code",
   "execution_count": 4,
   "metadata": {
    "scrolled": true
   },
   "outputs": [
    {
     "name": "stdout",
     "output_type": "stream",
     "text": [
      "\n",
      "CPU로 계산 =\n",
      "52\n",
      "\n",
      "GPU로 계산 =\n",
      "52\n"
     ]
    }
   ],
   "source": [
    "# Kernel code\n",
    "kernel_code = \"\"\"\n",
    "__global__ void sum_all(int* in_arr, int* ret_arr)\n",
    "{\n",
    "  int idx = threadIdx.x;\n",
    "  atomicAdd(&ret_arr[0], in_arr[idx]);\n",
    "}\n",
    "\"\"\"\n",
    "\n",
    "# Compile the kernel code\n",
    "mod = compiler.SourceModule(kernel_code)\n",
    "\n",
    "# Get kernel function\n",
    "sum_func = mod.get_function(\"sum_all\")\n",
    "\n",
    "# Run & Print\n",
    "result_arr = np.zeros(1, dtype=int)\n",
    "sum_func(cuda.In(arr), cuda.InOut(result_arr), block=(10, 1, 1))\n",
    "\n",
    "print(\"\\nCPU로 계산 =\")\n",
    "print(sum_arr)\n",
    "print(\"\\nGPU로 계산 =\")\n",
    "print(result_arr[0])"
   ]
  },
  {
   "cell_type": "markdown",
   "metadata": {},
   "source": [
    "### Parallel reduction with shared memory\n",
    "* 코드가 복잡하지만 빠르다."
   ]
  },
  {
   "cell_type": "markdown",
   "metadata": {},
   "source": [
    "Optimizing Parallel Reduction in CUDA의 Reduction #1을 구현<br/>\n",
    "해당 Paper는 http://developer.download.nvidia.com/compute/cuda/1.1-Beta/x86_website/projects/reduction/doc/reduction.pdf 을 참고"
   ]
  },
  {
   "cell_type": "code",
   "execution_count": 5,
   "metadata": {},
   "outputs": [
    {
     "name": "stdout",
     "output_type": "stream",
     "text": [
      "\n",
      "CPU로 계산 =\n",
      "52\n",
      "\n",
      "GPU로 계산 =\n",
      "[28 24]\n",
      "52\n"
     ]
    }
   ],
   "source": [
    "# Kernel code\n",
    "kernel_code = \"\"\"\n",
    "__global__ void sum_all(int* in_arr, int* ret_arr)\n",
    "{\n",
    "  extern __shared__ int sdata[];\n",
    "\n",
    "  int tid = threadIdx.x;\n",
    "  int idx = threadIdx.x + blockIdx.x * blockDim.x;\n",
    "  sdata[tid] = in_arr[idx];\n",
    "  __syncthreads();\n",
    "\n",
    "  // Shared memory에서 reduction한다\n",
    "  for ( int s=1 ; s<blockDim.x ; s*=2 )\n",
    "  {\n",
    "    if ( 0 == tid % (2*s) )\n",
    "    {\n",
    "      sdata[tid] += sdata[tid+s];\n",
    "    }\n",
    "    __syncthreads();\n",
    "  }\n",
    "  \n",
    "  // Global memory에 결과를 쓴다\n",
    "  if ( 0 == tid )\n",
    "  {\n",
    "    ret_arr[blockIdx.x] = sdata[0];\n",
    "  }\n",
    "}\n",
    "\"\"\"\n",
    "\n",
    "# Compile the kernel code\n",
    "mod = compiler.SourceModule(kernel_code)\n",
    "\n",
    "# Get kernel function\n",
    "sum_func = mod.get_function(\"sum_all\")\n",
    "\n",
    "# Run & Print\n",
    "THREAD_CNT = 5\n",
    "BLOCK_CNT = 2\n",
    "result_arr = np.zeros(BLOCK_CNT, dtype=int)\n",
    "sum_func(cuda.In(arr), cuda.Out(result_arr), block=(THREAD_CNT, 1, 1), grid=(BLOCK_CNT, 1), shared=THREAD_CNT)\n",
    "\n",
    "print(\"\\nCPU로 계산 =\")\n",
    "print(sum_arr)\n",
    "print(\"\\nGPU로 계산 =\")\n",
    "print(result_arr)\n",
    "print(result_arr.sum())"
   ]
  },
  {
   "cell_type": "code",
   "execution_count": null,
   "metadata": {
    "collapsed": true
   },
   "outputs": [],
   "source": []
  }
 ],
 "metadata": {
  "kernelspec": {
   "display_name": "Python 3",
   "language": "python",
   "name": "python3"
  },
  "language_info": {
   "codemirror_mode": {
    "name": "ipython",
    "version": 3
   },
   "file_extension": ".py",
   "mimetype": "text/x-python",
   "name": "python",
   "nbconvert_exporter": "python",
   "pygments_lexer": "ipython3",
   "version": "3.6.1"
  }
 },
 "nbformat": 4,
 "nbformat_minor": 2
}
