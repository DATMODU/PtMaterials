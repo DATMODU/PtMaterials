{
 "cells": [
  {
   "cell_type": "markdown",
   "metadata": {},
   "source": [
    "# 배열끼리 값 더하기\n",
    "***\n",
    "\n",
    "두개의 numpy array를 서로 합산"
   ]
  },
  {
   "cell_type": "code",
   "execution_count": 1,
   "metadata": {
    "scrolled": false
   },
   "outputs": [
    {
     "name": "stdout",
     "output_type": "stream",
     "text": [
      "a_arr =\n",
      "[6 0 7 8 5 4]\n",
      "\n",
      "b_arr =\n",
      "[4 1 4 1 4 3]\n",
      "\n",
      "sum_arr =\n",
      "[10  1 11  9  9  7]\n"
     ]
    }
   ],
   "source": [
    "import numpy as np\n",
    "\n",
    "a_arr = np.random.randint(10, size=6)\n",
    "b_arr = np.random.randint(10, size=6)\n",
    "sum_arr = a_arr + b_arr\n",
    "\n",
    "print(\"a_arr =\")\n",
    "print(a_arr)\n",
    "print(\"\\nb_arr =\")\n",
    "print(b_arr)\n",
    "print(\"\\nsum_arr =\")\n",
    "print(sum_arr)"
   ]
  },
  {
   "cell_type": "markdown",
   "metadata": {},
   "source": [
    "### Block 1개, Thread 6개 사용"
   ]
  },
  {
   "cell_type": "code",
   "execution_count": 2,
   "metadata": {
    "collapsed": true
   },
   "outputs": [],
   "source": [
    "import pycuda.driver as cuda\n",
    "import pycuda.autoinit\n",
    "from pycuda import driver, compiler"
   ]
  },
  {
   "cell_type": "code",
   "execution_count": 3,
   "metadata": {},
   "outputs": [
    {
     "name": "stdout",
     "output_type": "stream",
     "text": [
      "\n",
      "GPU로 계산 =\n",
      "[10  1 11  9  9  7]\n",
      "\n",
      "CPU로 계산 =\n",
      "[10  1 11  9  9  7]\n"
     ]
    }
   ],
   "source": [
    "# Kernel code\n",
    "kernel_code = \"\"\"\n",
    "__global__ void add(int* in_arr1, int* in_arr2, int* out_arr)\n",
    "{\n",
    "  int idx = threadIdx.x;\n",
    "  out_arr[idx] = in_arr1[idx] + in_arr2[idx];\n",
    "}\n",
    "\"\"\"\n",
    "\n",
    "# Compile the kernel code\n",
    "mod = compiler.SourceModule(kernel_code)\n",
    "\n",
    "# Get kernel function\n",
    "add_func = mod.get_function(\"add\")\n",
    "\n",
    "# Run\n",
    "result_arr = np.zeros_like(a_arr)\n",
    "add_func(cuda.In(a_arr), cuda.In(b_arr), cuda.Out(result_arr), block=(6, 1, 1))\n",
    "\n",
    "# 출력\n",
    "print(\"\\nGPU로 계산 =\")\n",
    "print(result_arr)\n",
    "print(\"\\nCPU로 계산 =\")\n",
    "print(sum_arr)"
   ]
  },
  {
   "cell_type": "markdown",
   "metadata": {},
   "source": [
    "### Block 2개, Block당 Thread 3개 사용 (총 6개의 Thread)"
   ]
  },
  {
   "cell_type": "code",
   "execution_count": 4,
   "metadata": {
    "scrolled": true
   },
   "outputs": [
    {
     "name": "stdout",
     "output_type": "stream",
     "text": [
      "\n",
      "GPU로 계산 =\n",
      "[10  1 11  9  9  7]\n",
      "\n",
      "CPU로 계산 =\n",
      "[10  1 11  9  9  7]\n"
     ]
    }
   ],
   "source": [
    "# Kernel code\n",
    "kernel_code = \"\"\"\n",
    "__global__ void add(int* in_arr1, int* in_arr2, int* out_arr)\n",
    "{\n",
    "  int idx = threadIdx.x + blockIdx.x * blockDim.x;\n",
    "  out_arr[idx] = in_arr1[idx] + in_arr2[idx];\n",
    "}\n",
    "\"\"\"\n",
    "\n",
    "# Compile the kernel code\n",
    "mod = compiler.SourceModule(kernel_code)\n",
    "\n",
    "# Get kernel function\n",
    "add_func = mod.get_function(\"add\")\n",
    "\n",
    "# Run\n",
    "result_arr = np.zeros_like(a_arr)\n",
    "add_func(cuda.In(a_arr), cuda.In(b_arr), cuda.Out(result_arr), block=(3, 1, 1), grid=(2, 1))\n",
    "\n",
    "# 출력\n",
    "print(\"\\nGPU로 계산 =\")\n",
    "print(result_arr)\n",
    "print(\"\\nCPU로 계산 =\")\n",
    "print(sum_arr)"
   ]
  },
  {
   "cell_type": "markdown",
   "metadata": {},
   "source": [
    "#### 한번 컴파일 해놓으면 재사용 가능"
   ]
  },
  {
   "cell_type": "code",
   "execution_count": 5,
   "metadata": {},
   "outputs": [
    {
     "name": "stdout",
     "output_type": "stream",
     "text": [
      "a_arr =\n",
      "[6 0 7 8 5 4]\n",
      "\n",
      "누적하여 더하기\n",
      "[0 0 0 0 0 0]\n",
      "[6 0 7 8 5 4]\n",
      "[12  0 14 16 10  8]\n",
      "[18  0 21 24 15 12]\n"
     ]
    }
   ],
   "source": [
    "print(\"a_arr =\")\n",
    "print(a_arr)\n",
    "\n",
    "print(\"\\n누적하여 더하기\")\n",
    "result_arr = np.zeros_like(a_arr)\n",
    "print(result_arr)\n",
    "\n",
    "add_func(cuda.In(a_arr), cuda.In(result_arr), cuda.Out(result_arr), block=(3, 1, 1), grid=(2, 1))\n",
    "print(result_arr)\n",
    "\n",
    "add_func(cuda.In(a_arr), cuda.In(result_arr), cuda.Out(result_arr), block=(3, 1, 1), grid=(2, 1))\n",
    "print(result_arr)\n",
    "\n",
    "add_func(cuda.In(a_arr), cuda.In(result_arr), cuda.Out(result_arr), block=(3, 1, 1), grid=(2, 1))\n",
    "print(result_arr)"
   ]
  },
  {
   "cell_type": "markdown",
   "metadata": {},
   "source": [
    "### Thread의 갯수보다 더 큰 Size의 배열 처리\n",
    "* numpy array의 size는 10개\n",
    "* Block 2개, Block당 Thread 3개 사용 (총 6개의 Thread)"
   ]
  },
  {
   "cell_type": "code",
   "execution_count": 6,
   "metadata": {},
   "outputs": [
    {
     "name": "stdout",
     "output_type": "stream",
     "text": [
      "a_arr =\n",
      "[7 1 8 0 1 1 1 5 0 0]\n",
      "\n",
      "b_arr =\n",
      "[8 6 9 2 4 2 7 9 7 3]\n",
      "\n",
      "sum_arr =\n",
      "[15  7 17  2  5  3  8 14  7  3]\n"
     ]
    }
   ],
   "source": [
    "a_arr = np.random.randint(10, size=10)\n",
    "b_arr = np.random.randint(10, size=10)\n",
    "sum_arr = a_arr + b_arr\n",
    "\n",
    "print(\"a_arr =\")\n",
    "print(a_arr)\n",
    "print(\"\\nb_arr =\")\n",
    "print(b_arr)\n",
    "print(\"\\nsum_arr =\")\n",
    "print(sum_arr)"
   ]
  },
  {
   "cell_type": "code",
   "execution_count": 7,
   "metadata": {},
   "outputs": [
    {
     "name": "stdout",
     "output_type": "stream",
     "text": [
      "\n",
      "GPU로 계산 =\n",
      "[15  7 17  2  5  3  8 14  7  3]\n",
      "\n",
      "CPU로 계산 =\n",
      "[15  7 17  2  5  3  8 14  7  3]\n"
     ]
    }
   ],
   "source": [
    "# Kernel code\n",
    "kernel_code = \"\"\"\n",
    "__device__ __constant__ int out_arr_size;\n",
    "\n",
    "__global__ void add(int* in_arr1, int* in_arr2, int* out_arr)\n",
    "{\n",
    "  int idx = threadIdx.x + blockIdx.x * blockDim.x;\n",
    "  \n",
    "  while ( idx < out_arr_size )\n",
    "  {\n",
    "      out_arr[idx] = in_arr1[idx] + in_arr2[idx];\n",
    "      idx += blockDim.x * gridDim.x;\n",
    "  }\n",
    "}\n",
    "\"\"\"\n",
    "\n",
    "# Compile the kernel code\n",
    "mod = compiler.SourceModule(kernel_code)\n",
    "\n",
    "# 결과를 받을 array\n",
    "result_arr = np.zeros_like(a_arr)\n",
    "\n",
    "# 상수 설정\n",
    "ret_arr_size = np.array([result_arr.size], dtype=np.int)\n",
    "device_arr_size = mod.get_global(\"out_arr_size\")[0]\n",
    "cuda.memcpy_htod(device_arr_size, ret_arr_size[0])\n",
    "\n",
    "# Get kernel function\n",
    "add_func = mod.get_function(\"add\")\n",
    "\n",
    "# Run\n",
    "add_func(cuda.In(a_arr), cuda.In(b_arr), cuda.Out(result_arr), block=(3, 1, 1), grid=(2, 1))\n",
    "\n",
    "# 출력\n",
    "print(\"\\nGPU로 계산 =\")\n",
    "print(result_arr)\n",
    "print(\"\\nCPU로 계산 =\")\n",
    "print(sum_arr)"
   ]
  },
  {
   "cell_type": "code",
   "execution_count": null,
   "metadata": {
    "collapsed": true
   },
   "outputs": [],
   "source": []
  }
 ],
 "metadata": {
  "kernelspec": {
   "display_name": "Python 3",
   "language": "python",
   "name": "python3"
  },
  "language_info": {
   "codemirror_mode": {
    "name": "ipython",
    "version": 3
   },
   "file_extension": ".py",
   "mimetype": "text/x-python",
   "name": "python",
   "nbconvert_exporter": "python",
   "pygments_lexer": "ipython3",
   "version": "3.6.1"
  }
 },
 "nbformat": 4,
 "nbformat_minor": 2
}
