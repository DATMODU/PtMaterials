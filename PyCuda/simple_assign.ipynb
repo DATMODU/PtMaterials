{
 "cells": [
  {
   "cell_type": "markdown",
   "metadata": {},
   "source": [
    "# 배열에 값 할당 예제\n",
    "***\n",
    "Size가 10인 numpy array에 0부터 9까지 할당"
   ]
  },
  {
   "cell_type": "markdown",
   "metadata": {},
   "source": [
    "### Use CPU"
   ]
  },
  {
   "cell_type": "code",
   "execution_count": 1,
   "metadata": {
    "collapsed": true
   },
   "outputs": [],
   "source": [
    "import numpy as np"
   ]
  },
  {
   "cell_type": "code",
   "execution_count": 2,
   "metadata": {},
   "outputs": [
    {
     "name": "stdout",
     "output_type": "stream",
     "text": [
      "[0 1 2 3 4 5 6 7 8 9]\n"
     ]
    }
   ],
   "source": [
    "# Numpy array를 생성 (size=10, value=0)\n",
    "data_arr = np.zeros(10, dtype=np.int)\n",
    "\n",
    "# 반복문을 돌면서 값을 채움\n",
    "for i in range(data_arr.size):\n",
    "    data_arr[i] = i\n",
    "\n",
    "# 출력\n",
    "print(data_arr)"
   ]
  },
  {
   "cell_type": "markdown",
   "metadata": {},
   "source": [
    "### Use GPU"
   ]
  },
  {
   "cell_type": "code",
   "execution_count": 3,
   "metadata": {
    "collapsed": true
   },
   "outputs": [],
   "source": [
    "import pycuda.driver as cuda\n",
    "import pycuda.autoinit\n",
    "from pycuda import driver, compiler"
   ]
  },
  {
   "cell_type": "code",
   "execution_count": 4,
   "metadata": {
    "collapsed": true
   },
   "outputs": [],
   "source": [
    "# Numpy array를 생성 (size=10, value=0)\n",
    "host_input_memory = np.zeros(10, dtype=np.int)\n",
    "\n",
    "# GPU 메모리 할당\n",
    "device_memory = cuda.mem_alloc(host_input_memory.nbytes)\n",
    "\n",
    "# Host에서 Device로 메모리 복사\n",
    "cuda.memcpy_htod(device_memory, host_input_memory)"
   ]
  },
  {
   "cell_type": "code",
   "execution_count": 5,
   "metadata": {},
   "outputs": [],
   "source": [
    "# Kernel code\n",
    "kernel_code = \"\"\"\n",
    "__global__ void assign(int* arry)\n",
    "{\n",
    "  int idx = threadIdx.x;\n",
    "  arry[idx] = idx;\n",
    "}\n",
    "\"\"\"\n",
    "\n",
    "# Compile the kernel code\n",
    "mod = compiler.SourceModule(kernel_code)\n",
    "\n",
    "# Get kernel function\n",
    "assign_func = mod.get_function(\"assign\")\n",
    "\n",
    "# Run\n",
    "assign_func(device_memory, block=(10, 1, 1))"
   ]
  },
  {
   "cell_type": "code",
   "execution_count": 6,
   "metadata": {},
   "outputs": [
    {
     "name": "stdout",
     "output_type": "stream",
     "text": [
      "[0 1 2 3 4 5 6 7 8 9]\n"
     ]
    }
   ],
   "source": [
    "# Device에서 Host로 메모리 복사\n",
    "host_output_memory = np.empty_like(host_input_memory)\n",
    "cuda.memcpy_dtoh(host_output_memory, device_memory)\n",
    "\n",
    "# GPU 메모리 해제\n",
    "device_memory.free()\n",
    "\n",
    "# 최종 값 출력\n",
    "print(host_output_memory)"
   ]
  },
  {
   "cell_type": "markdown",
   "metadata": {},
   "source": [
    "### Use GPU (간소화)\n",
    "pycuda.driver.In, pycuda.driver.Out, pycuda.driver.InOut을 사용하여\n",
    "GPU 메모리 할당, 메모리 복사, GPU 메모리 해제 부분을 생략할 수 있음"
   ]
  },
  {
   "cell_type": "code",
   "execution_count": 7,
   "metadata": {},
   "outputs": [
    {
     "name": "stdout",
     "output_type": "stream",
     "text": [
      "[0 1 2 3 4 5 6 7 8 9]\n"
     ]
    }
   ],
   "source": [
    "# Numpy array를 생성 (size=10, value=0)\n",
    "data_arr = np.zeros(10, dtype=np.int)\n",
    "\n",
    "# Run\n",
    "assign_func(cuda.Out(data_arr), block=(10, 1, 1))\n",
    "\n",
    "#출력\n",
    "print(data_arr)"
   ]
  },
  {
   "cell_type": "code",
   "execution_count": null,
   "metadata": {
    "collapsed": true
   },
   "outputs": [],
   "source": []
  }
 ],
 "metadata": {
  "kernelspec": {
   "display_name": "Python 3",
   "language": "python",
   "name": "python3"
  },
  "language_info": {
   "codemirror_mode": {
    "name": "ipython",
    "version": 3
   },
   "file_extension": ".py",
   "mimetype": "text/x-python",
   "name": "python",
   "nbconvert_exporter": "python",
   "pygments_lexer": "ipython3",
   "version": "3.6.1"
  }
 },
 "nbformat": 4,
 "nbformat_minor": 2
}
